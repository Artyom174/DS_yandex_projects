{
 "cells": [
  {
   "cell_type": "markdown",
   "metadata": {},
   "source": [
    "<b><font size=5>Анализ токсичных комментариев</font></b><a name=\"0.\"></a>"
   ]
  },
  {
   "cell_type": "markdown",
   "metadata": {},
   "source": [
    "В нашем распоряжении набор данных с разметкой о токсичности правок. Перед нами стоит задача обучить модель классифицировать комментарии на позитивные и негативные."
   ]
  },
  {
   "cell_type": "markdown",
   "metadata": {},
   "source": [
    "<b><font size=5>Содержание</font></b><a name=\"to_content.\"></a>\n",
    "* [Описание проекта](#0.)\n",
    "* [Описание данных](#1.)\n",
    "* [Задачи](#2.)\n",
    "*  [Подготовка и исследование данных](#3.)\n",
    "     - [Первичная предобработка](#3.1.)     \n",
    "* [Обчение моделей](#4.) \n",
    "     - [Кодировка данных](#4.1.)\n",
    "* [Общий вывод](#5.)"
   ]
  },
  {
   "cell_type": "markdown",
   "metadata": {},
   "source": [
    "<b><font size=5>Описание данных</font></b><a name=\"1.\"></a>\n",
    "[<font size=\"2\">(к содержанию)</font>](#to_content.)"
   ]
  },
  {
   "cell_type": "markdown",
   "metadata": {},
   "source": [
    "* text - комментарий пользователя\n",
    "* toxic - является ли комментарий токсичным  или нет (1 или 0)"
   ]
  },
  {
   "cell_type": "markdown",
   "metadata": {},
   "source": [
    "<b><font size=5>Задачи</font></b><a name=\"2.\"></a>\n",
    "[<font size=\"2\">(к содержанию)</font>](#to_content.)"
   ]
  },
  {
   "cell_type": "markdown",
   "metadata": {},
   "source": [
    "1. Подготовить и исследовать данные\n",
    "2. Обучить разные модели для классификации комментариев на позитивные и негативные.\n",
    "3. Добиться значения метрики качества F1 не меньше 0.75\n",
    "4. Общий вывод"
   ]
  },
  {
   "cell_type": "markdown",
   "metadata": {},
   "source": [
    "<b><font size=5>Подготовка и исследование данных</font></b><a name=\"3.\"></a>\n",
    "[<font size=\"2\">(к содержанию)</font>](#to_content.)"
   ]
  },
  {
   "cell_type": "code",
   "execution_count": 1,
   "metadata": {},
   "outputs": [],
   "source": [
    "import pandas as pd\n",
    "import numpy as np\n",
    "\n",
    "from tqdm import tqdm\n",
    "import seaborn as sns\n",
    "import matplotlib.pyplot as plt\n",
    "%matplotlib inline\n",
    "\n",
    "import re\n",
    "from nltk.corpus import stopwords\n",
    "from nltk.stem import WordNetLemmatizer\n",
    "from nltk.tokenize import TweetTokenizer\n",
    "\n",
    "from sklearn.feature_extraction.text import TfidfVectorizer\n",
    "from sklearn.metrics import classification_report, confusion_matrix, f1_score\n",
    "from sklearn.model_selection import train_test_split, GridSearchCV\n",
    "from sklearn.linear_model import SGDClassifier, LogisticRegression\n",
    "\n"
   ]
  },
  {
   "cell_type": "code",
   "execution_count": 2,
   "metadata": {},
   "outputs": [],
   "source": [
    "df = pd.read_csv('C:/Users/User/toxic_comments.csv')"
   ]
  },
  {
   "cell_type": "markdown",
   "metadata": {},
   "source": [
    "Посмотрим на наши данные"
   ]
  },
  {
   "cell_type": "code",
   "execution_count": 3,
   "metadata": {},
   "outputs": [
    {
     "data": {
      "text/html": [
       "<div>\n",
       "<style scoped>\n",
       "    .dataframe tbody tr th:only-of-type {\n",
       "        vertical-align: middle;\n",
       "    }\n",
       "\n",
       "    .dataframe tbody tr th {\n",
       "        vertical-align: top;\n",
       "    }\n",
       "\n",
       "    .dataframe thead th {\n",
       "        text-align: right;\n",
       "    }\n",
       "</style>\n",
       "<table border=\"1\" class=\"dataframe\">\n",
       "  <thead>\n",
       "    <tr style=\"text-align: right;\">\n",
       "      <th></th>\n",
       "      <th>text</th>\n",
       "      <th>toxic</th>\n",
       "    </tr>\n",
       "  </thead>\n",
       "  <tbody>\n",
       "    <tr>\n",
       "      <th>119105</th>\n",
       "      <td>Geez, are you forgetful!  We've already discus...</td>\n",
       "      <td>0</td>\n",
       "    </tr>\n",
       "    <tr>\n",
       "      <th>131631</th>\n",
       "      <td>Carioca RFA \\n\\nThanks for your support on my ...</td>\n",
       "      <td>0</td>\n",
       "    </tr>\n",
       "    <tr>\n",
       "      <th>125326</th>\n",
       "      <td>\"\\n\\n Birthday \\n\\nNo worries, It's what I do ...</td>\n",
       "      <td>0</td>\n",
       "    </tr>\n",
       "    <tr>\n",
       "      <th>111256</th>\n",
       "      <td>Pseudoscience category? \\n\\nI'm assuming that ...</td>\n",
       "      <td>0</td>\n",
       "    </tr>\n",
       "    <tr>\n",
       "      <th>83590</th>\n",
       "      <td>(and if such phrase exists, it would be provid...</td>\n",
       "      <td>0</td>\n",
       "    </tr>\n",
       "    <tr>\n",
       "      <th>37546</th>\n",
       "      <td>, 9 October 2007 (UTC)\\n\\nP.s, the delta funct...</td>\n",
       "      <td>0</td>\n",
       "    </tr>\n",
       "    <tr>\n",
       "      <th>98371</th>\n",
       "      <td>]]- 10 September 1910, [[[Couvet]] )</td>\n",
       "      <td>0</td>\n",
       "    </tr>\n",
       "    <tr>\n",
       "      <th>67118</th>\n",
       "      <td>Negro league baseball task-force talk].</td>\n",
       "      <td>0</td>\n",
       "    </tr>\n",
       "    <tr>\n",
       "      <th>129625</th>\n",
       "      <td>List of My Three Sons episodes \\n\\nI saw you r...</td>\n",
       "      <td>0</td>\n",
       "    </tr>\n",
       "    <tr>\n",
       "      <th>48941</th>\n",
       "      <td>Quoting Loremaster: In order to make sure you ...</td>\n",
       "      <td>0</td>\n",
       "    </tr>\n",
       "  </tbody>\n",
       "</table>\n",
       "</div>"
      ],
      "text/plain": [
       "                                                     text  toxic\n",
       "119105  Geez, are you forgetful!  We've already discus...      0\n",
       "131631  Carioca RFA \\n\\nThanks for your support on my ...      0\n",
       "125326  \"\\n\\n Birthday \\n\\nNo worries, It's what I do ...      0\n",
       "111256  Pseudoscience category? \\n\\nI'm assuming that ...      0\n",
       "83590   (and if such phrase exists, it would be provid...      0\n",
       "37546   , 9 October 2007 (UTC)\\n\\nP.s, the delta funct...      0\n",
       "98371                ]]- 10 September 1910, [[[Couvet]] )      0\n",
       "67118             Negro league baseball task-force talk].      0\n",
       "129625  List of My Three Sons episodes \\n\\nI saw you r...      0\n",
       "48941   Quoting Loremaster: In order to make sure you ...      0"
      ]
     },
     "execution_count": 3,
     "metadata": {},
     "output_type": "execute_result"
    }
   ],
   "source": [
    "df.sample(10, random_state=42)"
   ]
  },
  {
   "cell_type": "code",
   "execution_count": 4,
   "metadata": {},
   "outputs": [
    {
     "name": "stdout",
     "output_type": "stream",
     "text": [
      "<class 'pandas.core.frame.DataFrame'>\n",
      "RangeIndex: 159571 entries, 0 to 159570\n",
      "Data columns (total 2 columns):\n",
      " #   Column  Non-Null Count   Dtype \n",
      "---  ------  --------------   ----- \n",
      " 0   text    159571 non-null  object\n",
      " 1   toxic   159571 non-null  int64 \n",
      "dtypes: int64(1), object(1)\n",
      "memory usage: 2.4+ MB\n"
     ]
    }
   ],
   "source": [
    "df.info()"
   ]
  },
  {
   "cell_type": "markdown",
   "metadata": {},
   "source": [
    "Видим, что в нашем датасете около 150 000+ строк. Посмотрим на распределение целевого признака. "
   ]
  },
  {
   "cell_type": "markdown",
   "metadata": {},
   "source": [
    "<b><font size=4>Первичная предобработка данных</font></b><a name=\"3.1.\"></a>\n",
    "[<font size=\"2\">(к содержанию)</font>](#to_content.)"
   ]
  },
  {
   "cell_type": "code",
   "execution_count": 5,
   "metadata": {},
   "outputs": [
    {
     "data": {
      "text/plain": [
       "(-1.25, 1.25, -1.25, 1.25)"
      ]
     },
     "execution_count": 5,
     "metadata": {},
     "output_type": "execute_result"
    },
    {
     "data": {
      "image/png": "[encoded data removed]",
      "text/plain": [
       "<Figure size 720x576 with 1 Axes>"
      ]
     },
     "metadata": {},
     "output_type": "display_data"
    }
   ],
   "source": [
    "df.toxic.value_counts().plot(kind='pie', autopct='%1.1f%%', shadow=True, figsize=(10,8))\n",
    "plt.legend(['Позитивный','токсичный'])\n",
    "plt.title('Распределение комментариев в выборке')\n",
    "plt.tight_layout()\n",
    "plt.axis('off')"
   ]
  },
  {
   "cell_type": "markdown",
   "metadata": {},
   "source": [
    "Видим, что у нас дисбаланс выборки. Позитивных комментариев больше, чем токсичных. Так же помним, что комментарии были выгружены с какими-то спец.символами и числами. Очистим их с помощью регулярных выражений и лемматизируем"
   ]
  },
  {
   "cell_type": "code",
   "execution_count": 6,
   "metadata": {},
   "outputs": [],
   "source": [
    "def clean_symbols(text):\n",
    "    text = re.sub(r\"[^a-zA-Z ]+\", \" \", text)\n",
    "    return text.strip().lower()"
   ]
  },
  {
   "cell_type": "code",
   "execution_count": 7,
   "metadata": {},
   "outputs": [],
   "source": [
    "df['text'] = df['text'].apply(clean_symbols)"
   ]
  },
  {
   "cell_type": "code",
   "execution_count": 8,
   "metadata": {},
   "outputs": [],
   "source": [
    "wnl = WordNetLemmatizer()\n",
    "tknzr = TweetTokenizer()\n",
    "def lemmatize(text, m=wnl):\n",
    "    word_list = tknzr.tokenize(text)\n",
    "    return ' '.join([wnl.lemmatize(w) for w in word_list])"
   ]
  },
  {
   "cell_type": "code",
   "execution_count": 9,
   "metadata": {},
   "outputs": [],
   "source": [
    "df['text'] = df['text'].apply(lemmatize)"
   ]
  },
  {
   "cell_type": "markdown",
   "metadata": {},
   "source": [
    "Пристуим к обучению моделей."
   ]
  },
  {
   "cell_type": "markdown",
   "metadata": {},
   "source": [
    "<b><font size=5>Обучение моделей</font></b><a name=\"4.\"></a>\n",
    "[<font size=\"2\">(к содержанию)</font>](#to_content.)"
   ]
  },
  {
   "cell_type": "markdown",
   "metadata": {},
   "source": [
    "<b><font size=4>Кодировка данных </font></b><a name=\"4.1\"></a>\n",
    "[<font size=\"2\">(к содержанию)</font>](#to_content.)"
   ]
  },
  {
   "cell_type": "code",
   "execution_count": 10,
   "metadata": {},
   "outputs": [],
   "source": [
    "X_train, X_test, y_train, y_test = train_test_split(df['text'], df['toxic'],\n",
    "                                                    test_size=0.2, random_state=42, stratify=df.toxic)"
   ]
  },
  {
   "cell_type": "code",
   "execution_count": 11,
   "metadata": {},
   "outputs": [],
   "source": [
    "train_corpus = X_train.astype('U')\n",
    "corpus_test = X_test.astype('U')"
   ]
  },
  {
   "cell_type": "code",
   "execution_count": 12,
   "metadata": {},
   "outputs": [],
   "source": [
    "stop_words = set(stopwords.words('english'))"
   ]
  },
  {
   "cell_type": "code",
   "execution_count": 13,
   "metadata": {},
   "outputs": [],
   "source": [
    "tfv = TfidfVectorizer(stop_words=stop_words, ngram_range=(1,2))"
   ]
  },
  {
   "cell_type": "code",
   "execution_count": 14,
   "metadata": {},
   "outputs": [],
   "source": [
    "X_vector_train = tfv.fit_transform(train_corpus)\n",
    "X_vector_test = tfv.transform(corpus_test)"
   ]
  },
  {
   "cell_type": "code",
   "execution_count": 15,
   "metadata": {},
   "outputs": [],
   "source": [
    "model_lr =LogisticRegression(random_state=42)\n",
    "model_sgd = SGDClassifier(random_state=42)\n",
    "\n",
    "params_lr = {\n",
    "          'class_weight':['balanced'],\n",
    "          'C':[3],\n",
    "          'max_iter':[500]}        \n",
    "\n",
    "params_sgd = {\n",
    "        'class_weight':['balanced', None],\n",
    "        'max_iter':[500,1000],\n",
    "        'loss':['log','squared_hinge'],\n",
    "        'shuffle':[True],\n",
    "        'penalty':['l1'],\n",
    "        'n_iter_no_change':[20,30]}"
   ]
  },
  {
   "cell_type": "code",
   "execution_count": 16,
   "metadata": {},
   "outputs": [],
   "source": [
    "grid_lr = GridSearchCV(model_lr, param_grid=params_lr, scoring='f1',verbose=3, cv=5, n_jobs=-1)"
   ]
  },
  {
   "cell_type": "code",
   "execution_count": 17,
   "metadata": {},
   "outputs": [
    {
     "name": "stdout",
     "output_type": "stream",
     "text": [
      "Fitting 5 folds for each of 1 candidates, totalling 5 fits\n"
     ]
    },
    {
     "data": {
      "text/plain": [
       "GridSearchCV(cv=5, estimator=LogisticRegression(random_state=42), n_jobs=-1,\n",
       "             param_grid={'C': [3], 'class_weight': ['balanced'],\n",
       "                         'max_iter': [500]},\n",
       "             scoring='f1', verbose=3)"
      ]
     },
     "execution_count": 17,
     "metadata": {},
     "output_type": "execute_result"
    }
   ],
   "source": [
    "grid_lr.fit(X_vector_train, y_train)"
   ]
  },
  {
   "cell_type": "code",
   "execution_count": 18,
   "metadata": {},
   "outputs": [
    {
     "data": {
      "text/plain": [
       "0.7761820610066421"
      ]
     },
     "execution_count": 18,
     "metadata": {},
     "output_type": "execute_result"
    }
   ],
   "source": [
    "grid_lr.best_score_"
   ]
  },
  {
   "cell_type": "code",
   "execution_count": 19,
   "metadata": {},
   "outputs": [
    {
     "data": {
      "text/plain": [
       "{'C': 3, 'class_weight': 'balanced', 'max_iter': 500}"
      ]
     },
     "execution_count": 19,
     "metadata": {},
     "output_type": "execute_result"
    }
   ],
   "source": [
    "grid_lr.best_params_"
   ]
  },
  {
   "cell_type": "code",
   "execution_count": 20,
   "metadata": {},
   "outputs": [],
   "source": [
    "grid_sgd = GridSearchCV(model_sgd, param_grid=params_sgd, scoring='f1',verbose=3, cv=5, n_jobs=-1)"
   ]
  },
  {
   "cell_type": "code",
   "execution_count": 21,
   "metadata": {},
   "outputs": [
    {
     "name": "stdout",
     "output_type": "stream",
     "text": [
      "Fitting 5 folds for each of 16 candidates, totalling 80 fits\n"
     ]
    },
    {
     "data": {
      "text/plain": [
       "GridSearchCV(cv=5, estimator=SGDClassifier(random_state=42), n_jobs=-1,\n",
       "             param_grid={'class_weight': ['balanced', None],\n",
       "                         'loss': ['log', 'squared_hinge'],\n",
       "                         'max_iter': [500, 1000], 'n_iter_no_change': [20, 30],\n",
       "                         'penalty': ['l1'], 'shuffle': [True]},\n",
       "             scoring='f1', verbose=3)"
      ]
     },
     "execution_count": 21,
     "metadata": {},
     "output_type": "execute_result"
    }
   ],
   "source": [
    "grid_sgd.fit(X_vector_train, y_train)"
   ]
  },
  {
   "cell_type": "code",
   "execution_count": 22,
   "metadata": {},
   "outputs": [
    {
     "data": {
      "text/plain": [
       "0.6999889709430409"
      ]
     },
     "execution_count": 22,
     "metadata": {},
     "output_type": "execute_result"
    }
   ],
   "source": [
    "grid_sgd.best_score_"
   ]
  },
  {
   "cell_type": "code",
   "execution_count": 23,
   "metadata": {},
   "outputs": [
    {
     "data": {
      "text/plain": [
       "{'class_weight': 'balanced',\n",
       " 'loss': 'log',\n",
       " 'max_iter': 500,\n",
       " 'n_iter_no_change': 30,\n",
       " 'penalty': 'l1',\n",
       " 'shuffle': True}"
      ]
     },
     "execution_count": 23,
     "metadata": {},
     "output_type": "execute_result"
    }
   ],
   "source": [
    "grid_sgd.best_params_"
   ]
  },
  {
   "cell_type": "markdown",
   "metadata": {},
   "source": [
    "Итак, видим, что наилучшие показатели у логистической регрессии. Проверим на тесте."
   ]
  },
  {
   "cell_type": "code",
   "execution_count": 24,
   "metadata": {},
   "outputs": [],
   "source": [
    "pred = grid_lr.predict(X_vector_test)"
   ]
  },
  {
   "cell_type": "code",
   "execution_count": 25,
   "metadata": {},
   "outputs": [
    {
     "data": {
      "text/plain": [
       "0.7675223536198441"
      ]
     },
     "execution_count": 25,
     "metadata": {},
     "output_type": "execute_result"
    }
   ],
   "source": [
    "f1_score(y_test, pred)"
   ]
  },
  {
   "cell_type": "code",
   "execution_count": 26,
   "metadata": {},
   "outputs": [
    {
     "name": "stdout",
     "output_type": "stream",
     "text": [
      "              precision    recall  f1-score   support\n",
      "\n",
      "           0       0.96      0.98      0.97     28226\n",
      "           1       0.82      0.72      0.77      3689\n",
      "\n",
      "    accuracy                           0.95     31915\n",
      "   macro avg       0.89      0.85      0.87     31915\n",
      "weighted avg       0.95      0.95      0.95     31915\n",
      "\n"
     ]
    }
   ],
   "source": [
    "print(classification_report(pred, y_test))"
   ]
  },
  {
   "cell_type": "code",
   "execution_count": 27,
   "metadata": {
    "scrolled": false
   },
   "outputs": [
    {
     "data": {
      "text/plain": [
       "Text(0.5, 1.05, 'Матрица ошибок')"
      ]
     },
     "execution_count": 27,
     "metadata": {},
     "output_type": "execute_result"
    },
    {
     "data": {
      "image/png": "[encoded data removed]",
      "text/plain": [
       "<Figure size 720x576 with 2 Axes>"
      ]
     },
     "metadata": {
      "needs_background": "light"
     },
     "output_type": "display_data"
    }
   ],
   "source": [
    "plt.figure(figsize=(10,8))\n",
    "sns.heatmap(confusion_matrix(y_test, pred, normalize='true'),annot=True,fmt='.0%',cmap=\"summer\")\n",
    "plt.title('Матрица ошибок', y=1.05, size=15)"
   ]
  },
  {
   "cell_type": "markdown",
   "metadata": {},
   "source": [
    "Видим, что логистическая регрессия лучше справляется с поставленной задачей, хоть и время обучения занимает чуть дольше. Процент False Positive и False Negative различается, но удовлетворяет требования"
   ]
  },
  {
   "cell_type": "markdown",
   "metadata": {},
   "source": [
    "<b><font size=5>Вывод</font></b><a name=\"5.\"></a>\n",
    "[<font size=\"2\">(к содержанию)</font>](#to_content.)"
   ]
  },
  {
   "cell_type": "markdown",
   "metadata": {},
   "source": [
    "Итак, можно сделать вывод, что исходя из данных лучше всего с предсказанием токсичных комментариев справиласть модель логистической регрессии. Что нам показывает как F1 оценка, так и матрица ошибок. Цель достигнута, модель обучена."
   ]
  }
 ],
 "metadata": {
  "ExecuteTimeLog": [
   {
    "duration": 1970,
    "start_time": "2021-06-23T15:29:04.831Z"
   },
   {
    "duration": 2955,
    "start_time": "2021-06-23T15:29:06.803Z"
   },
   {
    "duration": 1209,
    "start_time": "2021-06-23T15:29:08.553Z"
   },
   {
    "duration": 1206,
    "start_time": "2021-06-23T15:29:08.558Z"
   },
   {
    "duration": 3,
    "start_time": "2021-06-23T15:29:20.626Z"
   },
   {
    "duration": 794,
    "start_time": "2021-06-23T15:29:49.248Z"
   },
   {
    "duration": 20,
    "start_time": "2021-06-23T15:29:54.744Z"
   },
   {
    "duration": 35,
    "start_time": "2021-06-23T15:29:54.936Z"
   },
   {
    "duration": 443,
    "start_time": "2021-06-23T15:31:01.851Z"
   },
   {
    "duration": 25,
    "start_time": "2021-06-23T15:31:51.041Z"
   },
   {
    "duration": 37,
    "start_time": "2021-06-23T15:31:53.736Z"
   },
   {
    "duration": 427,
    "start_time": "2021-06-23T15:32:00.088Z"
   },
   {
    "duration": 4,
    "start_time": "2021-06-23T15:32:05.624Z"
   },
   {
    "duration": 569,
    "start_time": "2021-06-23T15:32:09.051Z"
   },
   {
    "duration": 4,
    "start_time": "2021-06-23T15:32:14.028Z"
   },
   {
    "duration": 20705,
    "start_time": "2021-06-23T15:32:14.904Z"
   },
   {
    "duration": 1314,
    "start_time": "2021-06-26T10:40:45.994Z"
   },
   {
    "duration": 765,
    "start_time": "2021-06-26T10:40:47.310Z"
   },
   {
    "duration": 14,
    "start_time": "2021-06-26T10:40:48.077Z"
   },
   {
    "duration": 25,
    "start_time": "2021-06-26T10:40:48.092Z"
   },
   {
    "duration": 268,
    "start_time": "2021-06-26T10:40:48.119Z"
   },
   {
    "duration": 25,
    "start_time": "2021-06-26T10:40:48.389Z"
   },
   {
    "duration": 20,
    "start_time": "2021-06-26T10:40:48.415Z"
   },
   {
    "duration": 24,
    "start_time": "2021-06-26T10:40:48.437Z"
   },
   {
    "duration": 291,
    "start_time": "2021-06-26T10:40:48.486Z"
   },
   {
    "duration": 3,
    "start_time": "2021-06-26T10:40:48.785Z"
   },
   {
    "duration": 306,
    "start_time": "2021-06-26T10:40:48.789Z"
   },
   {
    "duration": 3,
    "start_time": "2021-06-26T10:40:49.097Z"
   },
   {
    "duration": 9504,
    "start_time": "2021-06-26T10:40:49.101Z"
   },
   {
    "duration": 3,
    "start_time": "2021-06-26T10:40:58.607Z"
   },
   {
    "duration": 6,
    "start_time": "2021-06-26T10:40:58.611Z"
   },
   {
    "duration": 5,
    "start_time": "2021-06-26T10:40:58.618Z"
   },
   {
    "duration": 3972,
    "start_time": "2021-06-26T10:40:58.624Z"
   },
   {
    "duration": 3,
    "start_time": "2021-06-26T10:41:02.597Z"
   },
   {
    "duration": 283,
    "start_time": "2021-06-26T10:41:02.601Z"
   },
   {
    "duration": 1219,
    "start_time": "2021-06-26T10:41:01.667Z"
   },
   {
    "duration": 1217,
    "start_time": "2021-06-26T10:41:01.670Z"
   },
   {
    "duration": 1213,
    "start_time": "2021-06-26T10:41:01.675Z"
   },
   {
    "duration": 1198,
    "start_time": "2021-06-26T10:41:01.691Z"
   },
   {
    "duration": 1195,
    "start_time": "2021-06-26T10:41:01.695Z"
   },
   {
    "duration": 1194,
    "start_time": "2021-06-26T10:41:01.697Z"
   },
   {
    "duration": 1194,
    "start_time": "2021-06-26T10:41:01.698Z"
   },
   {
    "duration": 4,
    "start_time": "2021-06-26T10:41:44.017Z"
   },
   {
    "duration": 4,
    "start_time": "2021-06-26T10:41:44.735Z"
   },
   {
    "duration": 19,
    "start_time": "2021-06-26T10:42:21.834Z"
   },
   {
    "duration": 24,
    "start_time": "2021-06-26T10:42:23.143Z"
   },
   {
    "duration": 261,
    "start_time": "2021-06-26T10:42:28.209Z"
   },
   {
    "duration": 25,
    "start_time": "2021-06-26T10:42:43.415Z"
   },
   {
    "duration": 305,
    "start_time": "2021-06-26T10:42:45.043Z"
   },
   {
    "duration": 3,
    "start_time": "2021-06-26T10:44:23.849Z"
   },
   {
    "duration": 3,
    "start_time": "2021-06-26T10:44:25.263Z"
   },
   {
    "duration": 4015,
    "start_time": "2021-06-26T10:45:51.387Z"
   },
   {
    "duration": 3985,
    "start_time": "2021-06-26T10:46:25.049Z"
   },
   {
    "duration": 4,
    "start_time": "2021-06-26T10:46:47.341Z"
   },
   {
    "duration": 14,
    "start_time": "2021-06-26T10:46:53.397Z"
   },
   {
    "duration": 1331,
    "start_time": "2021-06-26T10:50:25.181Z"
   },
   {
    "duration": 610,
    "start_time": "2021-06-26T10:50:26.514Z"
   },
   {
    "duration": 13,
    "start_time": "2021-06-26T10:50:27.126Z"
   },
   {
    "duration": 25,
    "start_time": "2021-06-26T10:50:27.141Z"
   },
   {
    "duration": 306,
    "start_time": "2021-06-26T10:50:27.184Z"
   },
   {
    "duration": 26,
    "start_time": "2021-06-26T10:50:27.492Z"
   },
   {
    "duration": 20,
    "start_time": "2021-06-26T10:50:27.519Z"
   },
   {
    "duration": 326,
    "start_time": "2021-06-26T10:50:27.542Z"
   },
   {
    "duration": 1235,
    "start_time": "2021-06-26T10:50:26.635Z"
   },
   {
    "duration": 1231,
    "start_time": "2021-06-26T10:50:26.640Z"
   },
   {
    "duration": 1229,
    "start_time": "2021-06-26T10:50:26.642Z"
   },
   {
    "duration": 1225,
    "start_time": "2021-06-26T10:50:26.647Z"
   },
   {
    "duration": 1225,
    "start_time": "2021-06-26T10:50:26.649Z"
   },
   {
    "duration": 1224,
    "start_time": "2021-06-26T10:50:26.651Z"
   },
   {
    "duration": 1217,
    "start_time": "2021-06-26T10:50:26.659Z"
   },
   {
    "duration": 1216,
    "start_time": "2021-06-26T10:50:26.661Z"
   },
   {
    "duration": 1215,
    "start_time": "2021-06-26T10:50:26.663Z"
   },
   {
    "duration": 1195,
    "start_time": "2021-06-26T10:50:26.684Z"
   },
   {
    "duration": 1191,
    "start_time": "2021-06-26T10:50:26.688Z"
   },
   {
    "duration": 1190,
    "start_time": "2021-06-26T10:50:26.690Z"
   },
   {
    "duration": 1189,
    "start_time": "2021-06-26T10:50:26.692Z"
   },
   {
    "duration": 1186,
    "start_time": "2021-06-26T10:50:26.696Z"
   },
   {
    "duration": 1185,
    "start_time": "2021-06-26T10:50:26.698Z"
   },
   {
    "duration": 1184,
    "start_time": "2021-06-26T10:50:26.700Z"
   },
   {
    "duration": 1183,
    "start_time": "2021-06-26T10:50:26.702Z"
   },
   {
    "duration": 1183,
    "start_time": "2021-06-26T10:50:26.703Z"
   },
   {
    "duration": 1182,
    "start_time": "2021-06-26T10:50:26.705Z"
   },
   {
    "duration": 1270,
    "start_time": "2021-06-26T10:51:30.823Z"
   },
   {
    "duration": 597,
    "start_time": "2021-06-26T10:51:32.095Z"
   },
   {
    "duration": 13,
    "start_time": "2021-06-26T10:51:32.694Z"
   },
   {
    "duration": 24,
    "start_time": "2021-06-26T10:51:32.709Z"
   },
   {
    "duration": 325,
    "start_time": "2021-06-26T10:51:32.735Z"
   },
   {
    "duration": 33,
    "start_time": "2021-06-26T10:51:33.062Z"
   },
   {
    "duration": 20,
    "start_time": "2021-06-26T10:51:33.096Z"
   },
   {
    "duration": 23,
    "start_time": "2021-06-26T10:51:33.117Z"
   },
   {
    "duration": 3,
    "start_time": "2021-06-26T10:51:33.142Z"
   },
   {
    "duration": 311,
    "start_time": "2021-06-26T10:51:33.147Z"
   },
   {
    "duration": 2,
    "start_time": "2021-06-26T10:51:33.460Z"
   },
   {
    "duration": 289,
    "start_time": "2021-06-26T10:51:33.464Z"
   },
   {
    "duration": 3,
    "start_time": "2021-06-26T10:51:33.755Z"
   },
   {
    "duration": 9063,
    "start_time": "2021-06-26T10:51:33.760Z"
   },
   {
    "duration": 3,
    "start_time": "2021-06-26T10:51:42.824Z"
   },
   {
    "duration": 7,
    "start_time": "2021-06-26T10:51:42.829Z"
   },
   {
    "duration": 3579,
    "start_time": "2021-06-26T10:51:42.837Z"
   },
   {
    "duration": 3791,
    "start_time": "2021-06-26T10:51:46.418Z"
   },
   {
    "duration": 4,
    "start_time": "2021-06-26T10:51:50.210Z"
   },
   {
    "duration": 559,
    "start_time": "2021-06-26T10:51:50.216Z"
   },
   {
    "duration": 16,
    "start_time": "2021-06-26T10:51:50.777Z"
   },
   {
    "duration": 37,
    "start_time": "2021-06-26T10:51:50.794Z"
   },
   {
    "duration": 282,
    "start_time": "2021-06-26T10:51:50.833Z"
   },
   {
    "duration": 1223,
    "start_time": "2021-06-26T10:51:49.895Z"
   },
   {
    "duration": 1184,
    "start_time": "2021-06-26T10:51:49.935Z"
   },
   {
    "duration": 1183,
    "start_time": "2021-06-26T10:51:49.937Z"
   },
   {
    "duration": 1183,
    "start_time": "2021-06-26T10:51:49.939Z"
   },
   {
    "duration": 1183,
    "start_time": "2021-06-26T10:51:49.940Z"
   },
   {
    "duration": 194,
    "start_time": "2021-06-26T10:52:38.682Z"
   },
   {
    "duration": 3,
    "start_time": "2021-06-26T10:52:54.016Z"
   },
   {
    "duration": 114022,
    "start_time": "2021-06-26T10:52:56.439Z"
   },
   {
    "duration": 1019,
    "start_time": "2021-06-26T10:54:49.444Z"
   },
   {
    "duration": 1018,
    "start_time": "2021-06-26T10:54:49.446Z"
   },
   {
    "duration": 968,
    "start_time": "2021-06-26T10:54:49.497Z"
   }
  ],
  "kernelspec": {
   "display_name": "Python 3",
   "language": "python",
   "name": "python3"
  },
  "language_info": {
   "codemirror_mode": {
    "name": "ipython",
    "version": 3
   },
   "file_extension": ".py",
   "mimetype": "text/x-python",
   "name": "python",
   "nbconvert_exporter": "python",
   "pygments_lexer": "ipython3",
   "version": "3.8.3"
  },
  "toc": {
   "base_numbering": 1,
   "nav_menu": {},
   "number_sections": true,
   "sideBar": true,
   "skip_h1_title": true,
   "title_cell": "Table of Contents",
   "title_sidebar": "Contents",
   "toc_cell": false,
   "toc_position": {},
   "toc_section_display": true,
   "toc_window_display": false
  }
 },
 "nbformat": 4,
 "nbformat_minor": 4
}
