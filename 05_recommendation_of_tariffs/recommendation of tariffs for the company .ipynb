{
 "cells": [
  {
   "cell_type": "markdown",
   "metadata": {},
   "source": [
    "# Рекомендация тарифов"
   ]
  },
  {
   "cell_type": "markdown",
   "metadata": {},
   "source": [
    "В данном проекте у нас есть данные по которым необходимо построить модель для задачи классификации, которая выберет подходящий тариф. \n",
    "\n"
   ]
  },
  {
   "cell_type": "markdown",
   "metadata": {},
   "source": [
    "<b><font size=5>Содержание</font></b><a name=\"to_content.\"></a>\n",
    "* [Описание данных](#1.)\n",
    "* [Задачи](#2.)\n",
    "*  [Шаг 1. Открыть файл с данными и изучить его.](#3.)\n",
    "     - [Вывод по первому шагу](#3.1.)\n",
    "*  [Шаг 2. Разделение исходных данных на выборки.](#4.)\n",
    "     - [Вывод по второму шагу](#4.1.)\n",
    "* [Шаг 3. Исследование качества разных моделей.](#5.)\n",
    "     - [Вывод по третьему шагу](#5.1.)\n",
    "*  [Шаг 4. Проверка качество модели на тестовой выборке.](#6.)\n",
    "     - [Вывод по четвертому шагу](#6.1.)     \n",
    "* [Шаг 5. Проверка модели на вменяемость.](#7.)\n",
    "     - [Общий вывод](#7.1.) "
   ]
  },
  {
   "cell_type": "markdown",
   "metadata": {},
   "source": [
    "<b><font size=5>Описание данных</font></b><a name=\"1.\"></a>\n",
    "[<font size=\"2\">(к содержанию)</font>](#to_content.)\n",
    "\n",
    "Каждый объект в наборе данных — это информация о поведении одного пользователя за месяц. Известно:\n",
    "\n",
    "* сalls — количество звонков,\n",
    "* minutes — суммарная длительность звонков в минутах,\n",
    "* messages — количество sms-сообщений,\n",
    "* mb_used — израсходованный интернет-трафик в Мб,\n",
    "* is_ultra — каким тарифом пользовался в течение месяца («Ультра» — 1, «Смарт» — 0)."
   ]
  },
  {
   "cell_type": "markdown",
   "metadata": {},
   "source": [
    "<b><font size=5>Задачи</font></b><a name=\"2.\"></a>\n",
    "[<font size=\"2\">(к содержанию)</font>](#to_content.)\n",
    "\n",
    "* Шаг 1. Открыть файл с данными и изучить его. \n",
    "* Шаг 2. Разделение исходных данных на обучающую, валидационную и тестовую выборки.\n",
    "* Шаг 3. Исследование качества разных моделей.\n",
    "* Шаг 4. Проверка качество модели на тестовой выборке.\n",
    "* Шаг 5. Проверка модели на вменяемость."
   ]
  },
  {
   "cell_type": "markdown",
   "metadata": {},
   "source": [
    "<b><font size=5>Шаг 1. Открыть файл с данными и изучить его.</font></b><a name=\"3.\"></a>\n",
    "[<font size=\"2\">(к содержанию)</font>](#to_content.)"
   ]
  },
  {
   "cell_type": "code",
   "execution_count": 1,
   "metadata": {},
   "outputs": [],
   "source": [
    "import pandas as pd\n",
    "import numpy as np\n",
    "from sklearn.model_selection import train_test_split\n",
    "from sklearn.model_selection import GridSearchCV\n",
    "from sklearn.model_selection import StratifiedKFold\n",
    "from sklearn.tree import DecisionTreeClassifier\n",
    "from sklearn.ensemble import RandomForestClassifier\n",
    "from sklearn.linear_model import LogisticRegressionCV\n",
    "from sklearn.metrics import accuracy_score"
   ]
  },
  {
   "cell_type": "code",
   "execution_count": 2,
   "metadata": {},
   "outputs": [],
   "source": [
    "df = pd.read_csv('***')"
   ]
  },
  {
   "cell_type": "code",
   "execution_count": 3,
   "metadata": {},
   "outputs": [
    {
     "data": {
      "text/html": [
       "<div>\n",
       "<style scoped>\n",
       "    .dataframe tbody tr th:only-of-type {\n",
       "        vertical-align: middle;\n",
       "    }\n",
       "\n",
       "    .dataframe tbody tr th {\n",
       "        vertical-align: top;\n",
       "    }\n",
       "\n",
       "    .dataframe thead th {\n",
       "        text-align: right;\n",
       "    }\n",
       "</style>\n",
       "<table border=\"1\" class=\"dataframe\">\n",
       "  <thead>\n",
       "    <tr style=\"text-align: right;\">\n",
       "      <th></th>\n",
       "      <th>calls</th>\n",
       "      <th>minutes</th>\n",
       "      <th>messages</th>\n",
       "      <th>mb_used</th>\n",
       "      <th>is_ultra</th>\n",
       "    </tr>\n",
       "  </thead>\n",
       "  <tbody>\n",
       "    <tr>\n",
       "      <td>3009</td>\n",
       "      <td>92.0</td>\n",
       "      <td>603.33</td>\n",
       "      <td>29.0</td>\n",
       "      <td>16178.64</td>\n",
       "      <td>0</td>\n",
       "    </tr>\n",
       "    <tr>\n",
       "      <td>924</td>\n",
       "      <td>27.0</td>\n",
       "      <td>195.40</td>\n",
       "      <td>0.0</td>\n",
       "      <td>15765.07</td>\n",
       "      <td>0</td>\n",
       "    </tr>\n",
       "    <tr>\n",
       "      <td>1132</td>\n",
       "      <td>51.0</td>\n",
       "      <td>381.12</td>\n",
       "      <td>43.0</td>\n",
       "      <td>14771.91</td>\n",
       "      <td>0</td>\n",
       "    </tr>\n",
       "    <tr>\n",
       "      <td>1140</td>\n",
       "      <td>40.0</td>\n",
       "      <td>195.79</td>\n",
       "      <td>55.0</td>\n",
       "      <td>19493.38</td>\n",
       "      <td>0</td>\n",
       "    </tr>\n",
       "    <tr>\n",
       "      <td>1128</td>\n",
       "      <td>13.0</td>\n",
       "      <td>118.15</td>\n",
       "      <td>6.0</td>\n",
       "      <td>4961.28</td>\n",
       "      <td>0</td>\n",
       "    </tr>\n",
       "  </tbody>\n",
       "</table>\n",
       "</div>"
      ],
      "text/plain": [
       "      calls  minutes  messages   mb_used  is_ultra\n",
       "3009   92.0   603.33      29.0  16178.64         0\n",
       "924    27.0   195.40       0.0  15765.07         0\n",
       "1132   51.0   381.12      43.0  14771.91         0\n",
       "1140   40.0   195.79      55.0  19493.38         0\n",
       "1128   13.0   118.15       6.0   4961.28         0"
      ]
     },
     "execution_count": 3,
     "metadata": {},
     "output_type": "execute_result"
    }
   ],
   "source": [
    "df.sample(5)"
   ]
  },
  {
   "cell_type": "code",
   "execution_count": 4,
   "metadata": {},
   "outputs": [
    {
     "name": "stdout",
     "output_type": "stream",
     "text": [
      "<class 'pandas.core.frame.DataFrame'>\n",
      "RangeIndex: 3214 entries, 0 to 3213\n",
      "Data columns (total 5 columns):\n",
      "calls       3214 non-null float64\n",
      "minutes     3214 non-null float64\n",
      "messages    3214 non-null float64\n",
      "mb_used     3214 non-null float64\n",
      "is_ultra    3214 non-null int64\n",
      "dtypes: float64(4), int64(1)\n",
      "memory usage: 125.7 KB\n"
     ]
    }
   ],
   "source": [
    "df.info()"
   ]
  },
  {
   "cell_type": "code",
   "execution_count": 5,
   "metadata": {},
   "outputs": [
    {
     "data": {
      "text/html": [
       "<div>\n",
       "<style scoped>\n",
       "    .dataframe tbody tr th:only-of-type {\n",
       "        vertical-align: middle;\n",
       "    }\n",
       "\n",
       "    .dataframe tbody tr th {\n",
       "        vertical-align: top;\n",
       "    }\n",
       "\n",
       "    .dataframe thead th {\n",
       "        text-align: right;\n",
       "    }\n",
       "</style>\n",
       "<table border=\"1\" class=\"dataframe\">\n",
       "  <thead>\n",
       "    <tr style=\"text-align: right;\">\n",
       "      <th></th>\n",
       "      <th>calls</th>\n",
       "      <th>minutes</th>\n",
       "      <th>messages</th>\n",
       "      <th>mb_used</th>\n",
       "      <th>is_ultra</th>\n",
       "    </tr>\n",
       "  </thead>\n",
       "  <tbody>\n",
       "    <tr>\n",
       "      <td>count</td>\n",
       "      <td>3214.000000</td>\n",
       "      <td>3214.000000</td>\n",
       "      <td>3214.000000</td>\n",
       "      <td>3214.000000</td>\n",
       "      <td>3214.000000</td>\n",
       "    </tr>\n",
       "    <tr>\n",
       "      <td>mean</td>\n",
       "      <td>63.038892</td>\n",
       "      <td>438.208787</td>\n",
       "      <td>38.281269</td>\n",
       "      <td>17207.673836</td>\n",
       "      <td>0.306472</td>\n",
       "    </tr>\n",
       "    <tr>\n",
       "      <td>std</td>\n",
       "      <td>33.236368</td>\n",
       "      <td>234.569872</td>\n",
       "      <td>36.148326</td>\n",
       "      <td>7570.968246</td>\n",
       "      <td>0.461100</td>\n",
       "    </tr>\n",
       "    <tr>\n",
       "      <td>min</td>\n",
       "      <td>0.000000</td>\n",
       "      <td>0.000000</td>\n",
       "      <td>0.000000</td>\n",
       "      <td>0.000000</td>\n",
       "      <td>0.000000</td>\n",
       "    </tr>\n",
       "    <tr>\n",
       "      <td>25%</td>\n",
       "      <td>40.000000</td>\n",
       "      <td>274.575000</td>\n",
       "      <td>9.000000</td>\n",
       "      <td>12491.902500</td>\n",
       "      <td>0.000000</td>\n",
       "    </tr>\n",
       "    <tr>\n",
       "      <td>50%</td>\n",
       "      <td>62.000000</td>\n",
       "      <td>430.600000</td>\n",
       "      <td>30.000000</td>\n",
       "      <td>16943.235000</td>\n",
       "      <td>0.000000</td>\n",
       "    </tr>\n",
       "    <tr>\n",
       "      <td>75%</td>\n",
       "      <td>82.000000</td>\n",
       "      <td>571.927500</td>\n",
       "      <td>57.000000</td>\n",
       "      <td>21424.700000</td>\n",
       "      <td>1.000000</td>\n",
       "    </tr>\n",
       "    <tr>\n",
       "      <td>max</td>\n",
       "      <td>244.000000</td>\n",
       "      <td>1632.060000</td>\n",
       "      <td>224.000000</td>\n",
       "      <td>49745.730000</td>\n",
       "      <td>1.000000</td>\n",
       "    </tr>\n",
       "  </tbody>\n",
       "</table>\n",
       "</div>"
      ],
      "text/plain": [
       "             calls      minutes     messages       mb_used     is_ultra\n",
       "count  3214.000000  3214.000000  3214.000000   3214.000000  3214.000000\n",
       "mean     63.038892   438.208787    38.281269  17207.673836     0.306472\n",
       "std      33.236368   234.569872    36.148326   7570.968246     0.461100\n",
       "min       0.000000     0.000000     0.000000      0.000000     0.000000\n",
       "25%      40.000000   274.575000     9.000000  12491.902500     0.000000\n",
       "50%      62.000000   430.600000    30.000000  16943.235000     0.000000\n",
       "75%      82.000000   571.927500    57.000000  21424.700000     1.000000\n",
       "max     244.000000  1632.060000   224.000000  49745.730000     1.000000"
      ]
     },
     "execution_count": 5,
     "metadata": {},
     "output_type": "execute_result"
    }
   ],
   "source": [
    "df.describe()"
   ]
  },
  {
   "cell_type": "code",
   "execution_count": 6,
   "metadata": {},
   "outputs": [
    {
     "data": {
      "text/plain": [
       "calls       0\n",
       "minutes     0\n",
       "messages    0\n",
       "mb_used     0\n",
       "is_ultra    0\n",
       "dtype: int64"
      ]
     },
     "execution_count": 6,
     "metadata": {},
     "output_type": "execute_result"
    }
   ],
   "source": [
    "df.isnull().sum()"
   ]
  },
  {
   "cell_type": "markdown",
   "metadata": {},
   "source": [
    "<b><font size=4>Вывод по первому шагу</font></b><a name=\"3.1\"></a>\n",
    "[<font size=\"2\">(к содержанию)</font>](#to_content.)\n",
    "\n",
    "В данных всё в порядке. Перейдём к следующему шагу."
   ]
  },
  {
   "cell_type": "markdown",
   "metadata": {},
   "source": [
    "<b><font size=5>Шаг 2. Разделение исходных данных на выборки.</font></b><a name=\"4.\"></a>\n",
    "[<font size=\"2\">(к содержанию)</font>](#to_content.)"
   ]
  },
  {
   "cell_type": "markdown",
   "metadata": {},
   "source": [
    "Для начала посмотрим как распределены классы в нашей выборке."
   ]
  },
  {
   "cell_type": "code",
   "execution_count": 7,
   "metadata": {},
   "outputs": [
    {
     "data": {
      "text/plain": [
       "0    0.693528\n",
       "1    0.306472\n",
       "Name: is_ultra, dtype: float64"
      ]
     },
     "execution_count": 7,
     "metadata": {},
     "output_type": "execute_result"
    }
   ],
   "source": [
    "df.is_ultra.value_counts(normalize=True)"
   ]
  },
  {
   "cell_type": "markdown",
   "metadata": {},
   "source": [
    "Как видим, что 70% составляет тариф \"Смарт\" и 30% составляет тариф \"Ультра\". "
   ]
  },
  {
   "cell_type": "markdown",
   "metadata": {},
   "source": [
    "Теперь разобьём наши данные на 2 выборки с учётом распределения классов:\n",
    "    \n",
    "   * 1. Обучающаяся выборка, которая равна 75% от общих данных\n",
    "   * 2. Тестовая выборка, которая равна 25% от общих данных"
   ]
  },
  {
   "cell_type": "code",
   "execution_count": 8,
   "metadata": {},
   "outputs": [],
   "source": [
    "df_train, df_test = train_test_split(df, test_size=0.25, random_state=0, stratify=df.is_ultra)"
   ]
  },
  {
   "cell_type": "markdown",
   "metadata": {},
   "source": [
    "Проверим, верно ли мы разбили наши данные"
   ]
  },
  {
   "cell_type": "code",
   "execution_count": 9,
   "metadata": {},
   "outputs": [
    {
     "name": "stdout",
     "output_type": "stream",
     "text": [
      "Размер обучающей выборки составляет: 75.0%\n",
      "Размер тестовой выборки составляет: 25.0%\n"
     ]
    }
   ],
   "source": [
    "print(f'Размер обучающей выборки составляет: {df_train.shape[0] / len(df):.1%}')\n",
    "print(f'Размер тестовой выборки составляет: {df_test.shape[0] / len(df):.1%}')"
   ]
  },
  {
   "cell_type": "markdown",
   "metadata": {},
   "source": [
    "После того как наши выборки готовы, то создадим переменные для признаков и целевого признака для каждой выборки"
   ]
  },
  {
   "cell_type": "code",
   "execution_count": 10,
   "metadata": {},
   "outputs": [],
   "source": [
    "features_train = df_train.drop('is_ultra', axis=1)\n",
    "target_train = df_train['is_ultra']\n",
    "features_test = df_test.drop('is_ultra', axis=1)\n",
    "target_test = df_test['is_ultra']"
   ]
  },
  {
   "cell_type": "markdown",
   "metadata": {},
   "source": [
    "<b><font size=4>Вывод по второму шагу</font></b><a name=\"4.1\"></a>\n",
    "[<font size=\"2\">(к содержанию)</font>](#to_content.)\n",
    "\n",
    "После того как мы разбили наши данные на соотношение 4:1(4 - тренировочная модель, 1 - тестовая выборка), а так же разбили на  признаки и целевого признаки, то перейдём к выбору модели и исследования качества выбранной модели."
   ]
  },
  {
   "cell_type": "markdown",
   "metadata": {},
   "source": [
    "<b><font size=5>Шаг 3. Исследование качества разных моделей.</font></b><a name=\"5.\"></a>\n",
    "[<font size=\"2\">(к содержанию)</font>](#to_content.)\n",
    "\n"
   ]
  },
  {
   "cell_type": "markdown",
   "metadata": {},
   "source": [
    "Посмотрев на данные и задачу, которую нам предстоить решить, можно сделать вывод, что перед нами стоит задача классификации, а значит, что мы будем использовать простые модели, которые нам известны на данный момент:\n",
    "   * Деревья Решений\n",
    "   * Случайный лес\n",
    "   * Логистическая регрессия\n",
    "   \n",
    "И выберем наилучшую из них. "
   ]
  },
  {
   "cell_type": "code",
   "execution_count": 11,
   "metadata": {},
   "outputs": [
    {
     "name": "stdout",
     "output_type": "stream",
     "text": [
      "Точность лучшей модели 0.7950207468879668 с параметрами {'max_depth': 3}\n"
     ]
    }
   ],
   "source": [
    "clf_dtc = DecisionTreeClassifier()\n",
    "parametrs_dtc = {'max_depth': range (1,11)}\n",
    "grid_dtc = GridSearchCV(clf_dtc, parametrs_dtc, cv=5, n_jobs=-1)\n",
    "grid_dtc.fit(features_train, target_train)\n",
    "print('Точность лучшей модели', grid_dtc.best_score_, 'с параметрами', grid_dtc.best_params_ )"
   ]
  },
  {
   "cell_type": "code",
   "execution_count": 12,
   "metadata": {},
   "outputs": [
    {
     "name": "stdout",
     "output_type": "stream",
     "text": [
      "Точность лучшей модели 0.8078838174273859 с параметрами {'max_depth': 9, 'n_estimators': 40}\n"
     ]
    }
   ],
   "source": [
    "clf_rfc = RandomForestClassifier()\n",
    "parametrs_rfc = {'n_estimators': range (10, 41, 10), 'max_depth': range (1,13)}\n",
    "grid_rfc = GridSearchCV(clf_rfc, parametrs_rfc, cv=5, n_jobs=-1)\n",
    "grid_rfc.fit(features_train, target_train)\n",
    "print('Точность лучшей модели', grid_rfc.best_score_, 'с параметрами', grid_rfc.best_params_ )"
   ]
  },
  {
   "cell_type": "code",
   "execution_count": 13,
   "metadata": {
    "scrolled": true
   },
   "outputs": [
    {
     "data": {
      "text/plain": [
       "0.7510429364840333"
      ]
     },
     "execution_count": 13,
     "metadata": {},
     "output_type": "execute_result"
    }
   ],
   "source": [
    "clf = LogisticRegressionCV(Cs=10, cv=5, random_state=0).fit(features_train, target_train)\n",
    "clf.scores_[1].mean(axis=0).max()"
   ]
  },
  {
   "cell_type": "markdown",
   "metadata": {},
   "source": [
    "<b><font size=4>Вывод по третьему шагу</font></b><a name=\"5.1\"></a>\n",
    "[<font size=\"2\">(к содержанию)</font>](#to_content.)"
   ]
  },
  {
   "cell_type": "markdown",
   "metadata": {},
   "source": [
    "Итак, мы исследовали 3 модели (Дерево решений, Случайный лес, Логистическая регрессия), которые показали:\n",
    "\n",
    "* У дерева решений при глубине в 3, точность наилучшей модели на валидационной выборке равна: 0.79\n",
    "* У случайного леса при 30 деревьях и глубине 8, точность наилучшей модели на валидационной выборке равна: 0.80\n",
    "* У Логистической регрессии точность модели на валидационной выборке равна: 0.75\n",
    "\n",
    "\n",
    "Исходя из этих данных можно сделать вывод, что лучшей моделью является Случайный лес при 40 деревьях с глубиной 8"
   ]
  },
  {
   "cell_type": "markdown",
   "metadata": {},
   "source": [
    "<b><font size=5>Шаг 4. Проверка качество модели на тестовой выборке.</font></b><a name=\"6.\"></a>\n",
    "[<font size=\"2\">(к содержанию)</font>](#to_content.)"
   ]
  },
  {
   "cell_type": "code",
   "execution_count": 14,
   "metadata": {},
   "outputs": [
    {
     "name": "stdout",
     "output_type": "stream",
     "text": [
      "Точность тестовой модели равна: 0.8271144278606966\n"
     ]
    }
   ],
   "source": [
    "best_model = grid_rfc.best_estimator_\n",
    "prediction = best_model.predict(features_test)\n",
    "accuracy = accuracy_score(prediction, target_test)\n",
    "print('Точность тестовой модели равна:', accuracy)"
   ]
  },
  {
   "cell_type": "markdown",
   "metadata": {},
   "source": [
    "<b><font size=4>Вывод по четвертому шагу</font></b><a name=\"6.1\"></a>\n",
    "[<font size=\"2\">(к содержанию)</font>](#to_content.)\n",
    "\n",
    "Итак, точность тестовой модели составила 0.81, что больше 0.75"
   ]
  },
  {
   "cell_type": "markdown",
   "metadata": {},
   "source": [
    "<b><font size=5>Шаг 5. Проверка модели на вменяемость.</font></b><a name=\"7.\"></a>\n",
    "[<font size=\"2\">(к содержанию)</font>](#to_content.)"
   ]
  },
  {
   "cell_type": "markdown",
   "metadata": {},
   "source": [
    "Для того, чтобы оценить нашу модель на вменяемость, то посмотрим не предсказывает ли наша модель одни 0 или 1. Для этого глянем на общую долю того или оного тарифа. "
   ]
  },
  {
   "cell_type": "code",
   "execution_count": 15,
   "metadata": {},
   "outputs": [
    {
     "data": {
      "text/plain": [
       "0    0.693528\n",
       "1    0.306472\n",
       "Name: is_ultra, dtype: float64"
      ]
     },
     "execution_count": 15,
     "metadata": {},
     "output_type": "execute_result"
    }
   ],
   "source": [
    "df.is_ultra.value_counts(normalize=True)"
   ]
  },
  {
   "cell_type": "markdown",
   "metadata": {},
   "source": [
    "Как видим, что если бы наша модель предсказывала только 1 или 0, то результат бы её точности был равен либо 0.30, либо 0.69, следовательно наша модель предсказывает верно."
   ]
  },
  {
   "cell_type": "markdown",
   "metadata": {},
   "source": [
    "<b><font size=4>Общий вывод</font></b><a name=\"7.1\"></a>\n",
    "[<font size=\"2\">(к содержанию)</font>](#to_content.)"
   ]
  },
  {
   "cell_type": "markdown",
   "metadata": {},
   "source": [
    "Наилучшая модель была случайным лесом, которая показала точность тестовой модели в 0.81, а так же прошла проверку на вменяемость. "
   ]
  }
 ],
 "metadata": {
  "kernelspec": {
   "display_name": "Python 3",
   "language": "python",
   "name": "python3"
  },
  "language_info": {
   "codemirror_mode": {
    "name": "ipython",
    "version": 3
   },
   "file_extension": ".py",
   "mimetype": "text/x-python",
   "name": "python",
   "nbconvert_exporter": "python",
   "pygments_lexer": "ipython3",
   "version": "3.8.3"
  },
  "toc": {
   "base_numbering": 1,
   "nav_menu": {},
   "number_sections": true,
   "sideBar": true,
   "skip_h1_title": true,
   "title_cell": "Table of Contents",
   "title_sidebar": "Contents",
   "toc_cell": false,
   "toc_position": {},
   "toc_section_display": true,
   "toc_window_display": false
  }
 },
 "nbformat": 4,
 "nbformat_minor": 2
}
