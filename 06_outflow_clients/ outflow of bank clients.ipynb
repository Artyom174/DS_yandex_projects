{
 "cells": [
  {
   "cell_type": "markdown",
   "metadata": {
    "toc": true
   },
   "source": [
    "<h1>Содержание<span class=\"tocSkip\"></span></h1>\n",
    "<div class=\"toc\"><ul class=\"toc-item\"></ul></div>"
   ]
  },
  {
   "cell_type": "markdown",
   "metadata": {},
   "source": [
    "<b><font size=5>Отток клиентов</font></b><a name=\"0.\"></a>"
   ]
  },
  {
   "cell_type": "markdown",
   "metadata": {},
   "source": [
    "Нужно спрогнозировать, уйдёт клиент из банка в ближайшее время или нет. Вам предоставлены исторические данные о поведении клиентов и расторжении договоров с банком. \n",
    "\n",
    "Источник данных: [https://www.kaggle.com/barelydedicated/bank-customer-churn-modeling](https://www.kaggle.com/barelydedicated/bank-customer-churn-modeling)"
   ]
  },
  {
   "cell_type": "markdown",
   "metadata": {},
   "source": [
    "<b><font size=5>Описание данных</font></b><a name=\"1.\"></a>\n",
    "\n",
    "\n",
    "<b>Признаки</b>\n",
    " * RowNumber — индекс строки в данных\n",
    " * CustomerId — уникальный идентификатор клиента\n",
    " * Surname — фамилия\n",
    " * CreditScore — кредитный рейтинг\n",
    " * Geography — страна проживания\n",
    " * Gender — пол\n",
    " * Age — возраст\n",
    " * Tenure — сколько лет человек является клиентом банка\n",
    " * Balance — баланс на счёте\n",
    " * NumOfProducts — количество продуктов банка, используемых клиентом \n",
    " * HasCrCard — наличие кредитной карты (1 - есть, 0 - нет)\n",
    " * IsActiveMember — активность клиента (1 - активный, 0 - нет)\n",
    " * EstimatedSalary — предполагаемая зарплата\n",
    " \n",
    " \n",
    "<b>Целевой признак</b>\n",
    "* Exited — факт ухода клиента  "
   ]
  },
  {
   "cell_type": "markdown",
   "metadata": {},
   "source": [
    "<b><font size=5>Задачи</font></b><a name=\"2.\"></a>\n",
    "[<font size=\"2\">(к содержанию)</font>](#to_content.)\n",
    "\n",
    "<b>Перед нами стоит задача классификации, а значит нам надо:</b>\n",
    "\n",
    "1. Подготовить и исследовать данные, включая баланс классов\n",
    "* Обучить разные модели и найти лучшую. \n",
    "* Провести финальное тестирование.\n",
    "* Общий вывод"
   ]
  },
  {
   "cell_type": "markdown",
   "metadata": {},
   "source": [
    "<b><font size=5>Подготовка и исследование данных</font></b><a name=\"3.\"></a>\n",
    "[<font size=\"2\">(к содержанию)</font>](#to_content.)"
   ]
  },
  {
   "cell_type": "markdown",
   "metadata": {},
   "source": [
    "Загрузим и ознакомимся с нашими данными"
   ]
  },
  {
   "cell_type": "code",
   "execution_count": 1,
   "metadata": {},
   "outputs": [],
   "source": [
    "import numpy as np\n",
    "import pandas as pd\n",
    "\n",
    "import seaborn as sns\n",
    "import matplotlib.pyplot as plt\n",
    "%matplotlib inline\n",
    "from IPython.display import Image\n",
    "from tqdm.auto import tqdm\n",
    "\n",
    "import category_encoders as ce\n",
    "\n",
    "from imblearn.over_sampling import SMOTE\n",
    "from imblearn.under_sampling import RandomUnderSampler \n",
    "\n",
    "from sklearn.model_selection import cross_val_score, RandomizedSearchCV, GridSearchCV, train_test_split\n",
    "from scipy.stats import norm\n",
    "\n",
    "from sklearn.neighbors import KNeighborsClassifier\n",
    "from sklearn.tree import DecisionTreeClassifier\n",
    "from sklearn.ensemble import RandomForestClassifier\n",
    "\n",
    "from sklearn.metrics import accuracy_score,f1_score, confusion_matrix, roc_auc_score, matthews_corrcoef, classification_report,roc_curve, roc_curve, auc\n"
   ]
  },
  {
   "cell_type": "code",
   "execution_count": 2,
   "metadata": {},
   "outputs": [],
   "source": [
    "def get_bootstrap(\n",
    "        data_column_1, \n",
    "        data_column_2, \n",
    "        boot_it=1000,  \n",
    "        statistic=np.mean, \n",
    "        bootstrap_conf_level=0.95,  \n",
    "        alpha=0.05\n",
    "):\n",
    "    boot_len = max([len(data_column_1), len(data_column_2)])\n",
    "    boot_data = []\n",
    "    for i in tqdm(range(boot_it)):  \n",
    "        samples_1 = data_column_1.sample(\n",
    "            boot_len,\n",
    "            replace=True\n",
    "        ).values\n",
    "\n",
    "        samples_2 = data_column_2.sample(\n",
    "            boot_len,  \n",
    "            replace=True\n",
    "        ).values\n",
    "\n",
    "        boot_data.append(statistic(samples_1 - samples_2))\n",
    "    pd_boot_data = pd.DataFrame(boot_data)\n",
    "\n",
    "    left_quant = (1 - bootstrap_conf_level) / 2\n",
    "    right_quant = 1 - (1 - bootstrap_conf_level) / 2\n",
    "    quants = pd_boot_data.quantile([left_quant, right_quant])\n",
    "\n",
    "    p_1 = norm.cdf(\n",
    "        x=0,\n",
    "        loc=np.mean(boot_data),\n",
    "        scale=np.std(boot_data)\n",
    "    )\n",
    "    p_2 = norm.cdf(\n",
    "        x=0,\n",
    "        loc=-np.mean(boot_data),\n",
    "        scale=np.std(boot_data)\n",
    "    )\n",
    "    p_value = min(p_1, p_2) * 2\n",
    "\n",
    "    _, _, bars = plt.hist(pd_boot_data[0], bins=50)\n",
    "    for bar in bars:\n",
    "        if abs(bar.get_x()) <= quants.iloc[0][0] or abs(bar.get_x()) >= quants.iloc[1][0]:\n",
    "            bar.set_facecolor('red')\n",
    "        else:\n",
    "            bar.set_facecolor('grey')\n",
    "            bar.set_edgecolor('black')\n",
    "\n",
    "    plt.style.use('ggplot')\n",
    "    plt.vlines(quants, ymin=0, ymax=50, linestyle='--')\n",
    "    plt.xlabel('boot_data')\n",
    "    plt.ylabel('frequency')\n",
    "    plt.title(\"Histogram of boot_data\")\n",
    "    plt.show()\n",
    "    if p_value < alpha:\n",
    "        print(\"Отвергаем нулевую гипотезу\")\n",
    "    else: \n",
    "        print(\"Не получилось отвергнуть нулевую гипотезу\")\n",
    "    return {\"quants\": quants,\n",
    "            \"p_value\": p_value}"
   ]
  },
  {
   "cell_type": "code",
   "execution_count": 3,
   "metadata": {},
   "outputs": [],
   "source": [
    "df = pd.read_csv('***')"
   ]
  },
  {
   "cell_type": "code",
   "execution_count": 4,
   "metadata": {},
   "outputs": [
    {
     "data": {
      "text/html": [
       "<div>\n",
       "<style scoped>\n",
       "    .dataframe tbody tr th:only-of-type {\n",
       "        vertical-align: middle;\n",
       "    }\n",
       "\n",
       "    .dataframe tbody tr th {\n",
       "        vertical-align: top;\n",
       "    }\n",
       "\n",
       "    .dataframe thead th {\n",
       "        text-align: right;\n",
       "    }\n",
       "</style>\n",
       "<table border=\"1\" class=\"dataframe\">\n",
       "  <thead>\n",
       "    <tr style=\"text-align: right;\">\n",
       "      <th></th>\n",
       "      <th>RowNumber</th>\n",
       "      <th>CustomerId</th>\n",
       "      <th>Surname</th>\n",
       "      <th>CreditScore</th>\n",
       "      <th>Geography</th>\n",
       "      <th>Gender</th>\n",
       "      <th>Age</th>\n",
       "      <th>Tenure</th>\n",
       "      <th>Balance</th>\n",
       "      <th>NumOfProducts</th>\n",
       "      <th>HasCrCard</th>\n",
       "      <th>IsActiveMember</th>\n",
       "      <th>EstimatedSalary</th>\n",
       "      <th>Exited</th>\n",
       "    </tr>\n",
       "  </thead>\n",
       "  <tbody>\n",
       "    <tr>\n",
       "      <th>9607</th>\n",
       "      <td>9608</td>\n",
       "      <td>15806918</td>\n",
       "      <td>Ireland</td>\n",
       "      <td>674</td>\n",
       "      <td>France</td>\n",
       "      <td>Male</td>\n",
       "      <td>28</td>\n",
       "      <td>5.0</td>\n",
       "      <td>0.00</td>\n",
       "      <td>1</td>\n",
       "      <td>1</td>\n",
       "      <td>1</td>\n",
       "      <td>151925.25</td>\n",
       "      <td>0</td>\n",
       "    </tr>\n",
       "    <tr>\n",
       "      <th>6635</th>\n",
       "      <td>6636</td>\n",
       "      <td>15678374</td>\n",
       "      <td>Colombo</td>\n",
       "      <td>666</td>\n",
       "      <td>France</td>\n",
       "      <td>Female</td>\n",
       "      <td>59</td>\n",
       "      <td>5.0</td>\n",
       "      <td>0.00</td>\n",
       "      <td>2</td>\n",
       "      <td>1</td>\n",
       "      <td>1</td>\n",
       "      <td>185123.09</td>\n",
       "      <td>0</td>\n",
       "    </tr>\n",
       "    <tr>\n",
       "      <th>8510</th>\n",
       "      <td>8511</td>\n",
       "      <td>15769353</td>\n",
       "      <td>Jenkins</td>\n",
       "      <td>550</td>\n",
       "      <td>France</td>\n",
       "      <td>Female</td>\n",
       "      <td>40</td>\n",
       "      <td>8.0</td>\n",
       "      <td>150490.32</td>\n",
       "      <td>1</td>\n",
       "      <td>0</td>\n",
       "      <td>0</td>\n",
       "      <td>166468.21</td>\n",
       "      <td>1</td>\n",
       "    </tr>\n",
       "    <tr>\n",
       "      <th>1460</th>\n",
       "      <td>1461</td>\n",
       "      <td>15657085</td>\n",
       "      <td>Gardiner</td>\n",
       "      <td>578</td>\n",
       "      <td>France</td>\n",
       "      <td>Male</td>\n",
       "      <td>23</td>\n",
       "      <td>10.0</td>\n",
       "      <td>88980.32</td>\n",
       "      <td>1</td>\n",
       "      <td>1</td>\n",
       "      <td>1</td>\n",
       "      <td>125222.36</td>\n",
       "      <td>0</td>\n",
       "    </tr>\n",
       "    <tr>\n",
       "      <th>4228</th>\n",
       "      <td>4229</td>\n",
       "      <td>15691061</td>\n",
       "      <td>Rapuokwu</td>\n",
       "      <td>740</td>\n",
       "      <td>France</td>\n",
       "      <td>Female</td>\n",
       "      <td>37</td>\n",
       "      <td>9.0</td>\n",
       "      <td>0.00</td>\n",
       "      <td>2</td>\n",
       "      <td>1</td>\n",
       "      <td>1</td>\n",
       "      <td>73225.31</td>\n",
       "      <td>0</td>\n",
       "    </tr>\n",
       "    <tr>\n",
       "      <th>3349</th>\n",
       "      <td>3350</td>\n",
       "      <td>15603465</td>\n",
       "      <td>Dunn</td>\n",
       "      <td>665</td>\n",
       "      <td>Germany</td>\n",
       "      <td>Female</td>\n",
       "      <td>45</td>\n",
       "      <td>5.0</td>\n",
       "      <td>155447.65</td>\n",
       "      <td>2</td>\n",
       "      <td>1</td>\n",
       "      <td>0</td>\n",
       "      <td>51871.95</td>\n",
       "      <td>1</td>\n",
       "    </tr>\n",
       "    <tr>\n",
       "      <th>2108</th>\n",
       "      <td>2109</td>\n",
       "      <td>15634949</td>\n",
       "      <td>Hay</td>\n",
       "      <td>593</td>\n",
       "      <td>Germany</td>\n",
       "      <td>Male</td>\n",
       "      <td>74</td>\n",
       "      <td>5.0</td>\n",
       "      <td>161434.36</td>\n",
       "      <td>2</td>\n",
       "      <td>1</td>\n",
       "      <td>1</td>\n",
       "      <td>65532.17</td>\n",
       "      <td>0</td>\n",
       "    </tr>\n",
       "    <tr>\n",
       "      <th>633</th>\n",
       "      <td>634</td>\n",
       "      <td>15724282</td>\n",
       "      <td>Tsao</td>\n",
       "      <td>540</td>\n",
       "      <td>Germany</td>\n",
       "      <td>Male</td>\n",
       "      <td>44</td>\n",
       "      <td>3.0</td>\n",
       "      <td>164113.04</td>\n",
       "      <td>2</td>\n",
       "      <td>1</td>\n",
       "      <td>1</td>\n",
       "      <td>12120.79</td>\n",
       "      <td>0</td>\n",
       "    </tr>\n",
       "    <tr>\n",
       "      <th>5408</th>\n",
       "      <td>5409</td>\n",
       "      <td>15638257</td>\n",
       "      <td>P'an</td>\n",
       "      <td>682</td>\n",
       "      <td>Spain</td>\n",
       "      <td>Female</td>\n",
       "      <td>54</td>\n",
       "      <td>0.0</td>\n",
       "      <td>83102.72</td>\n",
       "      <td>2</td>\n",
       "      <td>1</td>\n",
       "      <td>1</td>\n",
       "      <td>54132.93</td>\n",
       "      <td>0</td>\n",
       "    </tr>\n",
       "    <tr>\n",
       "      <th>6414</th>\n",
       "      <td>6415</td>\n",
       "      <td>15642912</td>\n",
       "      <td>Tu</td>\n",
       "      <td>618</td>\n",
       "      <td>France</td>\n",
       "      <td>Female</td>\n",
       "      <td>21</td>\n",
       "      <td>NaN</td>\n",
       "      <td>125682.79</td>\n",
       "      <td>1</td>\n",
       "      <td>0</td>\n",
       "      <td>0</td>\n",
       "      <td>57762.00</td>\n",
       "      <td>0</td>\n",
       "    </tr>\n",
       "  </tbody>\n",
       "</table>\n",
       "</div>"
      ],
      "text/plain": [
       "      RowNumber  CustomerId   Surname  CreditScore Geography  Gender  Age  \\\n",
       "9607       9608    15806918   Ireland          674    France    Male   28   \n",
       "6635       6636    15678374   Colombo          666    France  Female   59   \n",
       "8510       8511    15769353   Jenkins          550    France  Female   40   \n",
       "1460       1461    15657085  Gardiner          578    France    Male   23   \n",
       "4228       4229    15691061  Rapuokwu          740    France  Female   37   \n",
       "3349       3350    15603465      Dunn          665   Germany  Female   45   \n",
       "2108       2109    15634949       Hay          593   Germany    Male   74   \n",
       "633         634    15724282      Tsao          540   Germany    Male   44   \n",
       "5408       5409    15638257      P'an          682     Spain  Female   54   \n",
       "6414       6415    15642912        Tu          618    France  Female   21   \n",
       "\n",
       "      Tenure    Balance  NumOfProducts  HasCrCard  IsActiveMember  \\\n",
       "9607     5.0       0.00              1          1               1   \n",
       "6635     5.0       0.00              2          1               1   \n",
       "8510     8.0  150490.32              1          0               0   \n",
       "1460    10.0   88980.32              1          1               1   \n",
       "4228     9.0       0.00              2          1               1   \n",
       "3349     5.0  155447.65              2          1               0   \n",
       "2108     5.0  161434.36              2          1               1   \n",
       "633      3.0  164113.04              2          1               1   \n",
       "5408     0.0   83102.72              2          1               1   \n",
       "6414     NaN  125682.79              1          0               0   \n",
       "\n",
       "      EstimatedSalary  Exited  \n",
       "9607        151925.25       0  \n",
       "6635        185123.09       0  \n",
       "8510        166468.21       1  \n",
       "1460        125222.36       0  \n",
       "4228         73225.31       0  \n",
       "3349         51871.95       1  \n",
       "2108         65532.17       0  \n",
       "633          12120.79       0  \n",
       "5408         54132.93       0  \n",
       "6414         57762.00       0  "
      ]
     },
     "execution_count": 4,
     "metadata": {},
     "output_type": "execute_result"
    }
   ],
   "source": [
    "df.sample(10)"
   ]
  },
  {
   "cell_type": "code",
   "execution_count": 5,
   "metadata": {},
   "outputs": [
    {
     "name": "stdout",
     "output_type": "stream",
     "text": [
      "<class 'pandas.core.frame.DataFrame'>\n",
      "RangeIndex: 10000 entries, 0 to 9999\n",
      "Data columns (total 14 columns):\n",
      " #   Column           Non-Null Count  Dtype  \n",
      "---  ------           --------------  -----  \n",
      " 0   RowNumber        10000 non-null  int64  \n",
      " 1   CustomerId       10000 non-null  int64  \n",
      " 2   Surname          10000 non-null  object \n",
      " 3   CreditScore      10000 non-null  int64  \n",
      " 4   Geography        10000 non-null  object \n",
      " 5   Gender           10000 non-null  object \n",
      " 6   Age              10000 non-null  int64  \n",
      " 7   Tenure           9091 non-null   float64\n",
      " 8   Balance          10000 non-null  float64\n",
      " 9   NumOfProducts    10000 non-null  int64  \n",
      " 10  HasCrCard        10000 non-null  int64  \n",
      " 11  IsActiveMember   10000 non-null  int64  \n",
      " 12  EstimatedSalary  10000 non-null  float64\n",
      " 13  Exited           10000 non-null  int64  \n",
      "dtypes: float64(3), int64(8), object(3)\n",
      "memory usage: 1.1+ MB\n"
     ]
    }
   ],
   "source": [
    "df.info()"
   ]
  },
  {
   "cell_type": "code",
   "execution_count": 6,
   "metadata": {},
   "outputs": [
    {
     "data": {
      "text/html": [
       "<div>\n",
       "<style scoped>\n",
       "    .dataframe tbody tr th:only-of-type {\n",
       "        vertical-align: middle;\n",
       "    }\n",
       "\n",
       "    .dataframe tbody tr th {\n",
       "        vertical-align: top;\n",
       "    }\n",
       "\n",
       "    .dataframe thead th {\n",
       "        text-align: right;\n",
       "    }\n",
       "</style>\n",
       "<table border=\"1\" class=\"dataframe\">\n",
       "  <thead>\n",
       "    <tr style=\"text-align: right;\">\n",
       "      <th></th>\n",
       "      <th>RowNumber</th>\n",
       "      <th>CustomerId</th>\n",
       "      <th>CreditScore</th>\n",
       "      <th>Age</th>\n",
       "      <th>Tenure</th>\n",
       "      <th>Balance</th>\n",
       "      <th>NumOfProducts</th>\n",
       "      <th>HasCrCard</th>\n",
       "      <th>IsActiveMember</th>\n",
       "      <th>EstimatedSalary</th>\n",
       "      <th>Exited</th>\n",
       "    </tr>\n",
       "  </thead>\n",
       "  <tbody>\n",
       "    <tr>\n",
       "      <th>count</th>\n",
       "      <td>10000.00000</td>\n",
       "      <td>1.000000e+04</td>\n",
       "      <td>10000.000000</td>\n",
       "      <td>10000.000000</td>\n",
       "      <td>9091.000000</td>\n",
       "      <td>10000.000000</td>\n",
       "      <td>10000.000000</td>\n",
       "      <td>10000.00000</td>\n",
       "      <td>10000.000000</td>\n",
       "      <td>10000.000000</td>\n",
       "      <td>10000.000000</td>\n",
       "    </tr>\n",
       "    <tr>\n",
       "      <th>mean</th>\n",
       "      <td>5000.50000</td>\n",
       "      <td>1.569094e+07</td>\n",
       "      <td>650.528800</td>\n",
       "      <td>38.921800</td>\n",
       "      <td>4.997690</td>\n",
       "      <td>76485.889288</td>\n",
       "      <td>1.530200</td>\n",
       "      <td>0.70550</td>\n",
       "      <td>0.515100</td>\n",
       "      <td>100090.239881</td>\n",
       "      <td>0.203700</td>\n",
       "    </tr>\n",
       "    <tr>\n",
       "      <th>std</th>\n",
       "      <td>2886.89568</td>\n",
       "      <td>7.193619e+04</td>\n",
       "      <td>96.653299</td>\n",
       "      <td>10.487806</td>\n",
       "      <td>2.894723</td>\n",
       "      <td>62397.405202</td>\n",
       "      <td>0.581654</td>\n",
       "      <td>0.45584</td>\n",
       "      <td>0.499797</td>\n",
       "      <td>57510.492818</td>\n",
       "      <td>0.402769</td>\n",
       "    </tr>\n",
       "    <tr>\n",
       "      <th>min</th>\n",
       "      <td>1.00000</td>\n",
       "      <td>1.556570e+07</td>\n",
       "      <td>350.000000</td>\n",
       "      <td>18.000000</td>\n",
       "      <td>0.000000</td>\n",
       "      <td>0.000000</td>\n",
       "      <td>1.000000</td>\n",
       "      <td>0.00000</td>\n",
       "      <td>0.000000</td>\n",
       "      <td>11.580000</td>\n",
       "      <td>0.000000</td>\n",
       "    </tr>\n",
       "    <tr>\n",
       "      <th>25%</th>\n",
       "      <td>2500.75000</td>\n",
       "      <td>1.562853e+07</td>\n",
       "      <td>584.000000</td>\n",
       "      <td>32.000000</td>\n",
       "      <td>2.000000</td>\n",
       "      <td>0.000000</td>\n",
       "      <td>1.000000</td>\n",
       "      <td>0.00000</td>\n",
       "      <td>0.000000</td>\n",
       "      <td>51002.110000</td>\n",
       "      <td>0.000000</td>\n",
       "    </tr>\n",
       "    <tr>\n",
       "      <th>50%</th>\n",
       "      <td>5000.50000</td>\n",
       "      <td>1.569074e+07</td>\n",
       "      <td>652.000000</td>\n",
       "      <td>37.000000</td>\n",
       "      <td>5.000000</td>\n",
       "      <td>97198.540000</td>\n",
       "      <td>1.000000</td>\n",
       "      <td>1.00000</td>\n",
       "      <td>1.000000</td>\n",
       "      <td>100193.915000</td>\n",
       "      <td>0.000000</td>\n",
       "    </tr>\n",
       "    <tr>\n",
       "      <th>75%</th>\n",
       "      <td>7500.25000</td>\n",
       "      <td>1.575323e+07</td>\n",
       "      <td>718.000000</td>\n",
       "      <td>44.000000</td>\n",
       "      <td>7.000000</td>\n",
       "      <td>127644.240000</td>\n",
       "      <td>2.000000</td>\n",
       "      <td>1.00000</td>\n",
       "      <td>1.000000</td>\n",
       "      <td>149388.247500</td>\n",
       "      <td>0.000000</td>\n",
       "    </tr>\n",
       "    <tr>\n",
       "      <th>max</th>\n",
       "      <td>10000.00000</td>\n",
       "      <td>1.581569e+07</td>\n",
       "      <td>850.000000</td>\n",
       "      <td>92.000000</td>\n",
       "      <td>10.000000</td>\n",
       "      <td>250898.090000</td>\n",
       "      <td>4.000000</td>\n",
       "      <td>1.00000</td>\n",
       "      <td>1.000000</td>\n",
       "      <td>199992.480000</td>\n",
       "      <td>1.000000</td>\n",
       "    </tr>\n",
       "  </tbody>\n",
       "</table>\n",
       "</div>"
      ],
      "text/plain": [
       "         RowNumber    CustomerId   CreditScore           Age       Tenure  \\\n",
       "count  10000.00000  1.000000e+04  10000.000000  10000.000000  9091.000000   \n",
       "mean    5000.50000  1.569094e+07    650.528800     38.921800     4.997690   \n",
       "std     2886.89568  7.193619e+04     96.653299     10.487806     2.894723   \n",
       "min        1.00000  1.556570e+07    350.000000     18.000000     0.000000   \n",
       "25%     2500.75000  1.562853e+07    584.000000     32.000000     2.000000   \n",
       "50%     5000.50000  1.569074e+07    652.000000     37.000000     5.000000   \n",
       "75%     7500.25000  1.575323e+07    718.000000     44.000000     7.000000   \n",
       "max    10000.00000  1.581569e+07    850.000000     92.000000    10.000000   \n",
       "\n",
       "             Balance  NumOfProducts    HasCrCard  IsActiveMember  \\\n",
       "count   10000.000000   10000.000000  10000.00000    10000.000000   \n",
       "mean    76485.889288       1.530200      0.70550        0.515100   \n",
       "std     62397.405202       0.581654      0.45584        0.499797   \n",
       "min         0.000000       1.000000      0.00000        0.000000   \n",
       "25%         0.000000       1.000000      0.00000        0.000000   \n",
       "50%     97198.540000       1.000000      1.00000        1.000000   \n",
       "75%    127644.240000       2.000000      1.00000        1.000000   \n",
       "max    250898.090000       4.000000      1.00000        1.000000   \n",
       "\n",
       "       EstimatedSalary        Exited  \n",
       "count     10000.000000  10000.000000  \n",
       "mean     100090.239881      0.203700  \n",
       "std       57510.492818      0.402769  \n",
       "min          11.580000      0.000000  \n",
       "25%       51002.110000      0.000000  \n",
       "50%      100193.915000      0.000000  \n",
       "75%      149388.247500      0.000000  \n",
       "max      199992.480000      1.000000  "
      ]
     },
     "execution_count": 6,
     "metadata": {},
     "output_type": "execute_result"
    }
   ],
   "source": [
    "df.describe()"
   ]
  },
  {
   "cell_type": "code",
   "execution_count": 7,
   "metadata": {},
   "outputs": [
    {
     "data": {
      "text/plain": [
       "0"
      ]
     },
     "execution_count": 7,
     "metadata": {},
     "output_type": "execute_result"
    }
   ],
   "source": [
    "df.duplicated().sum()"
   ]
  },
  {
   "cell_type": "code",
   "execution_count": 8,
   "metadata": {},
   "outputs": [
    {
     "data": {
      "text/plain": [
       "909"
      ]
     },
     "execution_count": 8,
     "metadata": {},
     "output_type": "execute_result"
    }
   ],
   "source": [
    "df.Tenure.isnull().sum()"
   ]
  },
  {
   "cell_type": "code",
   "execution_count": 9,
   "metadata": {},
   "outputs": [
    {
     "data": {
      "text/html": [
       "<div>\n",
       "<style scoped>\n",
       "    .dataframe tbody tr th:only-of-type {\n",
       "        vertical-align: middle;\n",
       "    }\n",
       "\n",
       "    .dataframe tbody tr th {\n",
       "        vertical-align: top;\n",
       "    }\n",
       "\n",
       "    .dataframe thead th {\n",
       "        text-align: right;\n",
       "    }\n",
       "</style>\n",
       "<table border=\"1\" class=\"dataframe\">\n",
       "  <thead>\n",
       "    <tr style=\"text-align: right;\">\n",
       "      <th></th>\n",
       "      <th>RowNumber</th>\n",
       "      <th>CustomerId</th>\n",
       "      <th>Surname</th>\n",
       "      <th>CreditScore</th>\n",
       "      <th>Geography</th>\n",
       "      <th>Gender</th>\n",
       "      <th>Age</th>\n",
       "      <th>Tenure</th>\n",
       "      <th>Balance</th>\n",
       "      <th>NumOfProducts</th>\n",
       "      <th>HasCrCard</th>\n",
       "      <th>IsActiveMember</th>\n",
       "      <th>EstimatedSalary</th>\n",
       "      <th>Exited</th>\n",
       "    </tr>\n",
       "  </thead>\n",
       "  <tbody>\n",
       "    <tr>\n",
       "      <th>3413</th>\n",
       "      <td>3414</td>\n",
       "      <td>15627412</td>\n",
       "      <td>Ferri</td>\n",
       "      <td>605</td>\n",
       "      <td>France</td>\n",
       "      <td>Male</td>\n",
       "      <td>39</td>\n",
       "      <td>NaN</td>\n",
       "      <td>0.00</td>\n",
       "      <td>2</td>\n",
       "      <td>1</td>\n",
       "      <td>0</td>\n",
       "      <td>199390.45</td>\n",
       "      <td>0</td>\n",
       "    </tr>\n",
       "    <tr>\n",
       "      <th>85</th>\n",
       "      <td>86</td>\n",
       "      <td>15805254</td>\n",
       "      <td>Ndukaku</td>\n",
       "      <td>652</td>\n",
       "      <td>Spain</td>\n",
       "      <td>Female</td>\n",
       "      <td>75</td>\n",
       "      <td>NaN</td>\n",
       "      <td>0.00</td>\n",
       "      <td>2</td>\n",
       "      <td>1</td>\n",
       "      <td>1</td>\n",
       "      <td>114675.75</td>\n",
       "      <td>0</td>\n",
       "    </tr>\n",
       "    <tr>\n",
       "      <th>8048</th>\n",
       "      <td>8049</td>\n",
       "      <td>15595713</td>\n",
       "      <td>Heller</td>\n",
       "      <td>548</td>\n",
       "      <td>Spain</td>\n",
       "      <td>Male</td>\n",
       "      <td>33</td>\n",
       "      <td>NaN</td>\n",
       "      <td>0.00</td>\n",
       "      <td>1</td>\n",
       "      <td>1</td>\n",
       "      <td>1</td>\n",
       "      <td>31728.35</td>\n",
       "      <td>0</td>\n",
       "    </tr>\n",
       "    <tr>\n",
       "      <th>3436</th>\n",
       "      <td>3437</td>\n",
       "      <td>15735632</td>\n",
       "      <td>Williamson</td>\n",
       "      <td>571</td>\n",
       "      <td>France</td>\n",
       "      <td>Male</td>\n",
       "      <td>41</td>\n",
       "      <td>NaN</td>\n",
       "      <td>0.00</td>\n",
       "      <td>1</td>\n",
       "      <td>1</td>\n",
       "      <td>1</td>\n",
       "      <td>63736.17</td>\n",
       "      <td>0</td>\n",
       "    </tr>\n",
       "    <tr>\n",
       "      <th>1667</th>\n",
       "      <td>1668</td>\n",
       "      <td>15718247</td>\n",
       "      <td>Hayden</td>\n",
       "      <td>606</td>\n",
       "      <td>Spain</td>\n",
       "      <td>Female</td>\n",
       "      <td>46</td>\n",
       "      <td>NaN</td>\n",
       "      <td>0.00</td>\n",
       "      <td>2</td>\n",
       "      <td>1</td>\n",
       "      <td>1</td>\n",
       "      <td>183717.94</td>\n",
       "      <td>0</td>\n",
       "    </tr>\n",
       "    <tr>\n",
       "      <th>3960</th>\n",
       "      <td>3961</td>\n",
       "      <td>15616811</td>\n",
       "      <td>MacDonald</td>\n",
       "      <td>535</td>\n",
       "      <td>France</td>\n",
       "      <td>Male</td>\n",
       "      <td>47</td>\n",
       "      <td>NaN</td>\n",
       "      <td>160729.10</td>\n",
       "      <td>1</td>\n",
       "      <td>0</td>\n",
       "      <td>1</td>\n",
       "      <td>145986.35</td>\n",
       "      <td>0</td>\n",
       "    </tr>\n",
       "    <tr>\n",
       "      <th>3608</th>\n",
       "      <td>3609</td>\n",
       "      <td>15601873</td>\n",
       "      <td>Bull</td>\n",
       "      <td>677</td>\n",
       "      <td>France</td>\n",
       "      <td>Female</td>\n",
       "      <td>36</td>\n",
       "      <td>NaN</td>\n",
       "      <td>0.00</td>\n",
       "      <td>1</td>\n",
       "      <td>1</td>\n",
       "      <td>0</td>\n",
       "      <td>47318.75</td>\n",
       "      <td>0</td>\n",
       "    </tr>\n",
       "    <tr>\n",
       "      <th>6762</th>\n",
       "      <td>6763</td>\n",
       "      <td>15631457</td>\n",
       "      <td>Asher</td>\n",
       "      <td>639</td>\n",
       "      <td>France</td>\n",
       "      <td>Male</td>\n",
       "      <td>37</td>\n",
       "      <td>NaN</td>\n",
       "      <td>98186.70</td>\n",
       "      <td>1</td>\n",
       "      <td>0</td>\n",
       "      <td>1</td>\n",
       "      <td>173386.95</td>\n",
       "      <td>0</td>\n",
       "    </tr>\n",
       "    <tr>\n",
       "      <th>3471</th>\n",
       "      <td>3472</td>\n",
       "      <td>15743582</td>\n",
       "      <td>T'ang</td>\n",
       "      <td>632</td>\n",
       "      <td>France</td>\n",
       "      <td>Female</td>\n",
       "      <td>27</td>\n",
       "      <td>NaN</td>\n",
       "      <td>107375.82</td>\n",
       "      <td>1</td>\n",
       "      <td>1</td>\n",
       "      <td>1</td>\n",
       "      <td>62703.38</td>\n",
       "      <td>0</td>\n",
       "    </tr>\n",
       "    <tr>\n",
       "      <th>2283</th>\n",
       "      <td>2284</td>\n",
       "      <td>15624633</td>\n",
       "      <td>Kibby</td>\n",
       "      <td>702</td>\n",
       "      <td>France</td>\n",
       "      <td>Male</td>\n",
       "      <td>45</td>\n",
       "      <td>NaN</td>\n",
       "      <td>74989.58</td>\n",
       "      <td>1</td>\n",
       "      <td>1</td>\n",
       "      <td>1</td>\n",
       "      <td>171014.69</td>\n",
       "      <td>0</td>\n",
       "    </tr>\n",
       "  </tbody>\n",
       "</table>\n",
       "</div>"
      ],
      "text/plain": [
       "      RowNumber  CustomerId     Surname  CreditScore Geography  Gender  Age  \\\n",
       "3413       3414    15627412       Ferri          605    France    Male   39   \n",
       "85           86    15805254     Ndukaku          652     Spain  Female   75   \n",
       "8048       8049    15595713      Heller          548     Spain    Male   33   \n",
       "3436       3437    15735632  Williamson          571    France    Male   41   \n",
       "1667       1668    15718247      Hayden          606     Spain  Female   46   \n",
       "3960       3961    15616811   MacDonald          535    France    Male   47   \n",
       "3608       3609    15601873        Bull          677    France  Female   36   \n",
       "6762       6763    15631457       Asher          639    France    Male   37   \n",
       "3471       3472    15743582       T'ang          632    France  Female   27   \n",
       "2283       2284    15624633       Kibby          702    France    Male   45   \n",
       "\n",
       "      Tenure    Balance  NumOfProducts  HasCrCard  IsActiveMember  \\\n",
       "3413     NaN       0.00              2          1               0   \n",
       "85       NaN       0.00              2          1               1   \n",
       "8048     NaN       0.00              1          1               1   \n",
       "3436     NaN       0.00              1          1               1   \n",
       "1667     NaN       0.00              2          1               1   \n",
       "3960     NaN  160729.10              1          0               1   \n",
       "3608     NaN       0.00              1          1               0   \n",
       "6762     NaN   98186.70              1          0               1   \n",
       "3471     NaN  107375.82              1          1               1   \n",
       "2283     NaN   74989.58              1          1               1   \n",
       "\n",
       "      EstimatedSalary  Exited  \n",
       "3413        199390.45       0  \n",
       "85          114675.75       0  \n",
       "8048         31728.35       0  \n",
       "3436         63736.17       0  \n",
       "1667        183717.94       0  \n",
       "3960        145986.35       0  \n",
       "3608         47318.75       0  \n",
       "6762        173386.95       0  \n",
       "3471         62703.38       0  \n",
       "2283        171014.69       0  "
      ]
     },
     "execution_count": 9,
     "metadata": {},
     "output_type": "execute_result"
    }
   ],
   "source": [
    "df[df['Tenure'].isnull() == True].sample(10)"
   ]
  },
  {
   "cell_type": "code",
   "execution_count": 10,
   "metadata": {},
   "outputs": [
    {
     "data": {
      "text/plain": [
       "France     0.5014\n",
       "Germany    0.2509\n",
       "Spain      0.2477\n",
       "Name: Geography, dtype: float64"
      ]
     },
     "execution_count": 10,
     "metadata": {},
     "output_type": "execute_result"
    }
   ],
   "source": [
    "df.Geography.value_counts(normalize=True)"
   ]
  },
  {
   "cell_type": "code",
   "execution_count": 11,
   "metadata": {},
   "outputs": [
    {
     "data": {
      "text/plain": [
       "(-1.25, 1.25, -1.25, 1.25)"
      ]
     },
     "execution_count": 11,
     "metadata": {},
     "output_type": "execute_result"
    },
    {
     "data": {
      "image/png": "[encoded data removed]",
      "text/plain": [
       "<Figure size 720x576 with 1 Axes>"
      ]
     },
     "metadata": {},
     "output_type": "display_data"
    }
   ],
   "source": [
    "df.Exited.value_counts().plot(kind='pie', autopct='%1.1f%%', shadow=True, figsize=(10,8))\n",
    "plt.legend([\"Остался с банком\", 'Ушёл от банка'], fontsize=10, shadow=True, facecolor='w')\n",
    "plt.title('Распределение пользователей')\n",
    "plt.tight_layout()\n",
    "plt.axis('off')"
   ]
  },
  {
   "cell_type": "markdown",
   "metadata": {},
   "source": [
    "<b><font size=4>Первые выводы</font></b><a name=\"3.1.\"></a>\n",
    "[<font size=\"2\">(к содержанию)</font>](#to_content.)\n",
    "\n",
    "\n",
    "Итак, пройдя этап знакомства с данными можно сделать вывод, что:\n",
    "\n",
    "1. В выборке представлены клиенты, где у 79.6% - остались с банком, а 20.4% ушли от банка, что говорит нам о том, что данные довольно несбалансированы.\n",
    "2. Пропущенные значения лежат в столбце Tenure, который говорит о том, сколько времени является клиент. Соответственно данный показатель слишком индивидуальный, а так же, вероятно, имеет вес в нашем дальнейшем обучении моделей, поэтому будет принято решение о том, что данный показатель мы уберём. С точки зрения скорости это самый приемлимый вариант. Обучать модель на предсказание значений у нас нет, а заполнять медианой, модой или средним не самая лучшая идея. \n",
    "3. Так же обратим внимание, что клиентами банка являются жители стран Франции (50% в выборке), Германии (25%) и Испании (25%).\n",
    "4. Признаки в столбцах RowNumber,CustomerId\tи Surname не несут никакой информации для наших будущих моделей, скорее наоборот. Так что избавимся от них в дальнейшем.\n",
    "5. Так же заметим, что клиенты банка могут иметь всего 4 продукта от этого банка.\n",
    "6. Так же в столбце CreditScore распределены люди с разным уровнем кредитного рейтинга, но в среднем имеют хорошую оценку. С Распределениями оценок можно ознакомиться ниже.\n",
    "![Image of Yaktocat](https://progresscard.ru/images/credit_raiting.jpg)\n",
    "\n",
    "<b> С данными познакомились, теперь посмотрим на признаки поближе и уберём лишние</b>"
   ]
  },
  {
   "cell_type": "markdown",
   "metadata": {},
   "source": [
    "<b><font size=4>Исследовательский анализ</font></b><a name=\"3.2.\"></a>\n",
    "[<font size=\"2\">(к содержанию)</font>](#to_content.)"
   ]
  },
  {
   "cell_type": "markdown",
   "metadata": {},
   "source": [
    "Для начала посмотрим в какой стране чаще уходят. Для этого посмотрим на доли ушедших и оставшихся пользователей в каждой стране. "
   ]
  },
  {
   "cell_type": "code",
   "execution_count": 12,
   "metadata": {},
   "outputs": [],
   "source": [
    "def check_ratio(What_check):\n",
    "    a = df.groupby([What_check, 'Exited'])['RowNumber'].count().rename(\"ratio\")\n",
    "    b = a /  a.groupby(level=0).sum() \n",
    "    dfs = pd.DataFrame(data=b)\n",
    "    return dfs.style.bar()"
   ]
  },
  {
   "cell_type": "code",
   "execution_count": 13,
   "metadata": {},
   "outputs": [
    {
     "data": {
      "text/html": [
       "<style  type=\"text/css\" >\n",
       "    #T_76eebe20_95c2_11eb_8beb_5076af1ef045row0_col0 {\n",
       "            width:  10em;\n",
       "             height:  80%;\n",
       "            background:  linear-gradient(90deg,#d65f5f 100.0%, transparent 100.0%);\n",
       "        }    #T_76eebe20_95c2_11eb_8beb_5076af1ef045row1_col0 {\n",
       "            width:  10em;\n",
       "             height:  80%;\n",
       "        }    #T_76eebe20_95c2_11eb_8beb_5076af1ef045row2_col0 {\n",
       "            width:  10em;\n",
       "             height:  80%;\n",
       "            background:  linear-gradient(90deg,#d65f5f 75.9%, transparent 75.9%);\n",
       "        }    #T_76eebe20_95c2_11eb_8beb_5076af1ef045row3_col0 {\n",
       "            width:  10em;\n",
       "             height:  80%;\n",
       "            background:  linear-gradient(90deg,#d65f5f 24.1%, transparent 24.1%);\n",
       "        }    #T_76eebe20_95c2_11eb_8beb_5076af1ef045row4_col0 {\n",
       "            width:  10em;\n",
       "             height:  80%;\n",
       "            background:  linear-gradient(90deg,#d65f5f 99.2%, transparent 99.2%);\n",
       "        }    #T_76eebe20_95c2_11eb_8beb_5076af1ef045row5_col0 {\n",
       "            width:  10em;\n",
       "             height:  80%;\n",
       "            background:  linear-gradient(90deg,#d65f5f 0.8%, transparent 0.8%);\n",
       "        }</style><table id=\"T_76eebe20_95c2_11eb_8beb_5076af1ef045\" ><thead>    <tr>        <th class=\"blank\" ></th>        <th class=\"blank level0\" ></th>        <th class=\"col_heading level0 col0\" >ratio</th>    </tr>    <tr>        <th class=\"index_name level0\" >Geography</th>        <th class=\"index_name level1\" >Exited</th>        <th class=\"blank\" ></th>    </tr></thead><tbody>\n",
       "                <tr>\n",
       "                        <th id=\"T_76eebe20_95c2_11eb_8beb_5076af1ef045level0_row0\" class=\"row_heading level0 row0\" rowspan=2>France</th>\n",
       "                        <th id=\"T_76eebe20_95c2_11eb_8beb_5076af1ef045level1_row0\" class=\"row_heading level1 row0\" >0</th>\n",
       "                        <td id=\"T_76eebe20_95c2_11eb_8beb_5076af1ef045row0_col0\" class=\"data row0 col0\" >0.838452</td>\n",
       "            </tr>\n",
       "            <tr>\n",
       "                                <th id=\"T_76eebe20_95c2_11eb_8beb_5076af1ef045level1_row1\" class=\"row_heading level1 row1\" >1</th>\n",
       "                        <td id=\"T_76eebe20_95c2_11eb_8beb_5076af1ef045row1_col0\" class=\"data row1 col0\" >0.161548</td>\n",
       "            </tr>\n",
       "            <tr>\n",
       "                        <th id=\"T_76eebe20_95c2_11eb_8beb_5076af1ef045level0_row2\" class=\"row_heading level0 row2\" rowspan=2>Germany</th>\n",
       "                        <th id=\"T_76eebe20_95c2_11eb_8beb_5076af1ef045level1_row2\" class=\"row_heading level1 row2\" >0</th>\n",
       "                        <td id=\"T_76eebe20_95c2_11eb_8beb_5076af1ef045row2_col0\" class=\"data row2 col0\" >0.675568</td>\n",
       "            </tr>\n",
       "            <tr>\n",
       "                                <th id=\"T_76eebe20_95c2_11eb_8beb_5076af1ef045level1_row3\" class=\"row_heading level1 row3\" >1</th>\n",
       "                        <td id=\"T_76eebe20_95c2_11eb_8beb_5076af1ef045row3_col0\" class=\"data row3 col0\" >0.324432</td>\n",
       "            </tr>\n",
       "            <tr>\n",
       "                        <th id=\"T_76eebe20_95c2_11eb_8beb_5076af1ef045level0_row4\" class=\"row_heading level0 row4\" rowspan=2>Spain</th>\n",
       "                        <th id=\"T_76eebe20_95c2_11eb_8beb_5076af1ef045level1_row4\" class=\"row_heading level1 row4\" >0</th>\n",
       "                        <td id=\"T_76eebe20_95c2_11eb_8beb_5076af1ef045row4_col0\" class=\"data row4 col0\" >0.833266</td>\n",
       "            </tr>\n",
       "            <tr>\n",
       "                                <th id=\"T_76eebe20_95c2_11eb_8beb_5076af1ef045level1_row5\" class=\"row_heading level1 row5\" >1</th>\n",
       "                        <td id=\"T_76eebe20_95c2_11eb_8beb_5076af1ef045row5_col0\" class=\"data row5 col0\" >0.166734</td>\n",
       "            </tr>\n",
       "    </tbody></table>"
      ],
      "text/plain": [
       "<pandas.io.formats.style.Styler at 0x2d96d6d5be0>"
      ]
     },
     "execution_count": 13,
     "metadata": {},
     "output_type": "execute_result"
    }
   ],
   "source": [
    "check_ratio('Geography')"
   ]
  },
  {
   "cell_type": "markdown",
   "metadata": {},
   "source": [
    "Ага, видим, что во Франции и Испании дела обстоят примерно одинаково, а вот в Германии % ушедших выше, чем в других странах практически в 2 раза. Либо это закономерность, либо случайность. В общем, на это стоит обратить внимание. Так же это нам говорит о том, что это достаточно важный признак."
   ]
  },
  {
   "cell_type": "code",
   "execution_count": 14,
   "metadata": {},
   "outputs": [
    {
     "data": {
      "text/html": [
       "<style  type=\"text/css\" >\n",
       "    #T_76f1eec5_95c2_11eb_bf6e_5076af1ef045row0_col0 {\n",
       "            width:  10em;\n",
       "             height:  80%;\n",
       "            background:  linear-gradient(90deg,#d65f5f 87.2%, transparent 87.2%);\n",
       "        }    #T_76f1eec5_95c2_11eb_bf6e_5076af1ef045row1_col0 {\n",
       "            width:  10em;\n",
       "             height:  80%;\n",
       "            background:  linear-gradient(90deg,#d65f5f 12.8%, transparent 12.8%);\n",
       "        }    #T_76f1eec5_95c2_11eb_bf6e_5076af1ef045row2_col0 {\n",
       "            width:  10em;\n",
       "             height:  80%;\n",
       "            background:  linear-gradient(90deg,#d65f5f 100.0%, transparent 100.0%);\n",
       "        }    #T_76f1eec5_95c2_11eb_bf6e_5076af1ef045row3_col0 {\n",
       "            width:  10em;\n",
       "             height:  80%;\n",
       "        }</style><table id=\"T_76f1eec5_95c2_11eb_bf6e_5076af1ef045\" ><thead>    <tr>        <th class=\"blank\" ></th>        <th class=\"blank level0\" ></th>        <th class=\"col_heading level0 col0\" >ratio</th>    </tr>    <tr>        <th class=\"index_name level0\" >Gender</th>        <th class=\"index_name level1\" >Exited</th>        <th class=\"blank\" ></th>    </tr></thead><tbody>\n",
       "                <tr>\n",
       "                        <th id=\"T_76f1eec5_95c2_11eb_bf6e_5076af1ef045level0_row0\" class=\"row_heading level0 row0\" rowspan=2>Female</th>\n",
       "                        <th id=\"T_76f1eec5_95c2_11eb_bf6e_5076af1ef045level1_row0\" class=\"row_heading level1 row0\" >0</th>\n",
       "                        <td id=\"T_76f1eec5_95c2_11eb_bf6e_5076af1ef045row0_col0\" class=\"data row0 col0\" >0.749285</td>\n",
       "            </tr>\n",
       "            <tr>\n",
       "                                <th id=\"T_76f1eec5_95c2_11eb_bf6e_5076af1ef045level1_row1\" class=\"row_heading level1 row1\" >1</th>\n",
       "                        <td id=\"T_76f1eec5_95c2_11eb_bf6e_5076af1ef045row1_col0\" class=\"data row1 col0\" >0.250715</td>\n",
       "            </tr>\n",
       "            <tr>\n",
       "                        <th id=\"T_76f1eec5_95c2_11eb_bf6e_5076af1ef045level0_row2\" class=\"row_heading level0 row2\" rowspan=2>Male</th>\n",
       "                        <th id=\"T_76f1eec5_95c2_11eb_bf6e_5076af1ef045level1_row2\" class=\"row_heading level1 row2\" >0</th>\n",
       "                        <td id=\"T_76f1eec5_95c2_11eb_bf6e_5076af1ef045row2_col0\" class=\"data row2 col0\" >0.835441</td>\n",
       "            </tr>\n",
       "            <tr>\n",
       "                                <th id=\"T_76f1eec5_95c2_11eb_bf6e_5076af1ef045level1_row3\" class=\"row_heading level1 row3\" >1</th>\n",
       "                        <td id=\"T_76f1eec5_95c2_11eb_bf6e_5076af1ef045row3_col0\" class=\"data row3 col0\" >0.164559</td>\n",
       "            </tr>\n",
       "    </tbody></table>"
      ],
      "text/plain": [
       "<pandas.io.formats.style.Styler at 0x2d96ca50340>"
      ]
     },
     "execution_count": 14,
     "metadata": {},
     "output_type": "execute_result"
    }
   ],
   "source": [
    "check_ratio('Gender')"
   ]
  },
  {
   "cell_type": "markdown",
   "metadata": {},
   "source": [
    "Так же заметим, что девушки уходят чаще, чем мужчины. Опять же, это либо закономерность, либо случайность. "
   ]
  },
  {
   "cell_type": "markdown",
   "metadata": {},
   "source": [
    "Теперь посмотрим на распределение возраста среди наших групп."
   ]
  },
  {
   "cell_type": "code",
   "execution_count": 15,
   "metadata": {},
   "outputs": [
    {
     "data": {
      "text/plain": [
       "Text(0, 0.5, 'Колличество клиентов')"
      ]
     },
     "execution_count": 15,
     "metadata": {},
     "output_type": "execute_result"
    },
    {
     "data": {
      "image/png": "[encoded data removed]",
      "text/plain": [
       "<Figure size 720x576 with 1 Axes>"
      ]
     },
     "metadata": {
      "needs_background": "light"
     },
     "output_type": "display_data"
    }
   ],
   "source": [
    "fig, ax = plt.subplots(figsize=(10,8))\n",
    "sns.histplot(data=df, x='Age',hue='Exited', kde=True,bins=100, ax=ax)\n",
    "plt.title('Распределение возраста')\n",
    "plt.xlabel('Возраст')\n",
    "plt.ylabel('Колличество клиентов')"
   ]
  },
  {
   "cell_type": "code",
   "execution_count": 16,
   "metadata": {},
   "outputs": [
    {
     "data": {
      "text/plain": [
       "Text(0, 0.5, 'Ушёл клиент или нет')"
      ]
     },
     "execution_count": 16,
     "metadata": {},
     "output_type": "execute_result"
    },
    {
     "data": {
      "image/png": "[encoded data removed]",
      "text/plain": [
       "<Figure size 576x720 with 1 Axes>"
      ]
     },
     "metadata": {
      "needs_background": "light"
     },
     "output_type": "display_data"
    }
   ],
   "source": [
    "plt.figure(figsize=(8, 10))\n",
    "sns.boxplot(data=df, x='Exited',y='Age')\n",
    "plt.title('Возраст клиентов')\n",
    "plt.xlabel('Возраст')\n",
    "plt.ylabel('Ушёл клиент или нет')"
   ]
  },
  {
   "cell_type": "markdown",
   "metadata": {},
   "source": [
    "По данным графиках видно, что люди, которые уходят более старшего возраста, чем те, которые остаются. Учитывая, что наша выборка имеет дисбаланс, то разделим наши выборки и сравним средние бутстрап методом. \n",
    "\n",
    "Итак, нулевая гипотеза гласит нам о том, что средний возраст в наших группах одинаковый, а альтернативная гипотеза о том, что возраст отличается."
   ]
  },
  {
   "cell_type": "code",
   "execution_count": 17,
   "metadata": {},
   "outputs": [],
   "source": [
    "leave = df[df['Exited'] == 1]\n",
    "did_not_leave = df[df['Exited'] == 0]"
   ]
  },
  {
   "cell_type": "code",
   "execution_count": 18,
   "metadata": {},
   "outputs": [
    {
     "data": {
      "application/vnd.jupyter.widget-view+json": {
       "model_id": "555c953b49524b42a08ec067fcd7f7e8",
       "version_major": 2,
       "version_minor": 0
      },
      "text/plain": [
       "HBox(children=(FloatProgress(value=0.0), HTML(value='')))"
      ]
     },
     "metadata": {},
     "output_type": "display_data"
    },
    {
     "name": "stdout",
     "output_type": "stream",
     "text": [
      "\n"
     ]
    },
    {
     "data": {
      "image/png": "[encoded data removed]",
      "text/plain": [
       "<Figure size 432x288 with 1 Axes>"
      ]
     },
     "metadata": {
      "needs_background": "light"
     },
     "output_type": "display_data"
    },
    {
     "name": "stdout",
     "output_type": "stream",
     "text": [
      "Отвергаем нулевую гипотезу\n"
     ]
    },
    {
     "data": {
      "text/plain": [
       "{'quants':               0\n",
       " 0.025  7.143137\n",
       " 0.975  7.805350,\n",
       " 'p_value': 0.0}"
      ]
     },
     "execution_count": 18,
     "metadata": {},
     "output_type": "execute_result"
    }
   ],
   "source": [
    "get_bootstrap(leave.Age, did_not_leave.Age, boot_it = 100, statistic = np.mean, bootstrap_conf_level = 0.95, alpha = 0.05)"
   ]
  },
  {
   "cell_type": "markdown",
   "metadata": {},
   "source": [
    "Итак, если переводить на человеческий язык, то можно сказать, что люди, которые уходят более старшего возраста, чем те, которые остаются. Теперь посмотрим на другие признаки и так же прогоним их через бутсрап метод. Возьмём за основу, что нулевая гипотеза всегда нам говорит о равенстве, а альтернативная о различии."
   ]
  },
  {
   "cell_type": "code",
   "execution_count": 19,
   "metadata": {},
   "outputs": [
    {
     "data": {
      "text/plain": [
       "Text(0, 0.5, 'Колличество клиентов')"
      ]
     },
     "execution_count": 19,
     "metadata": {},
     "output_type": "execute_result"
    },
    {
     "data": {
      "image/png": "[encoded data removed]",
      "text/plain": [
       "<Figure size 720x576 with 1 Axes>"
      ]
     },
     "metadata": {},
     "output_type": "display_data"
    }
   ],
   "source": [
    "fig, ax = plt.subplots(figsize=(10,8))\n",
    "sns.histplot(data=df, x='Balance',hue='Exited', kde=True,bins=50, ax=ax)\n",
    "plt.title('Распределение клиентов по балансу')\n",
    "plt.xlabel('Баланс клиентов')\n",
    "plt.ylabel('Колличество клиентов')"
   ]
  },
  {
   "cell_type": "code",
   "execution_count": 20,
   "metadata": {},
   "outputs": [
    {
     "data": {
      "text/plain": [
       "Text(0, 0.5, 'Колличество клиентов')"
      ]
     },
     "execution_count": 20,
     "metadata": {},
     "output_type": "execute_result"
    },
    {
     "data": {
      "image/png": "[encoded data removed]",
      "text/plain": [
       "<Figure size 576x720 with 1 Axes>"
      ]
     },
     "metadata": {},
     "output_type": "display_data"
    }
   ],
   "source": [
    "plt.figure(figsize=(8, 10))\n",
    "sns.boxplot(data=df, x='Exited',y='Balance')\n",
    "plt.title('Баланс клиентов')\n",
    "plt.xlabel('Ушёл клиент или нет')\n",
    "plt.ylabel('Колличество клиентов')"
   ]
  },
  {
   "cell_type": "code",
   "execution_count": 21,
   "metadata": {},
   "outputs": [
    {
     "data": {
      "application/vnd.jupyter.widget-view+json": {
       "model_id": "0cbeda077e8841d6831d04f43eb4ac42",
       "version_major": 2,
       "version_minor": 0
      },
      "text/plain": [
       "HBox(children=(FloatProgress(value=0.0, max=1000.0), HTML(value='')))"
      ]
     },
     "metadata": {},
     "output_type": "display_data"
    },
    {
     "name": "stdout",
     "output_type": "stream",
     "text": [
      "\n"
     ]
    },
    {
     "data": {
      "image/png": "[encoded data removed]",
      "text/plain": [
       "<Figure size 432x288 with 1 Axes>"
      ]
     },
     "metadata": {},
     "output_type": "display_data"
    },
    {
     "name": "stdout",
     "output_type": "stream",
     "text": [
      "Отвергаем нулевую гипотезу\n"
     ]
    },
    {
     "data": {
      "text/plain": [
       "{'quants':                   0\n",
       " 0.025  16436.834990\n",
       " 0.975  20349.877789,\n",
       " 'p_value': 2.707923291736891e-78}"
      ]
     },
     "execution_count": 21,
     "metadata": {},
     "output_type": "execute_result"
    }
   ],
   "source": [
    "get_bootstrap(leave.Balance, \n",
    "              did_not_leave.Balance, boot_it = 1000,\n",
    "              statistic = np.mean, bootstrap_conf_level = 0.95, alpha = 0.05)"
   ]
  },
  {
   "cell_type": "markdown",
   "metadata": {},
   "source": [
    "Тут видно, что баланс всё-таки имеет значение. Что те, кто уходит имеют баланс счёта выше, чем те, кто остаётся. Теперь посмотрим как обстоят дела с зарплатой."
   ]
  },
  {
   "cell_type": "code",
   "execution_count": 22,
   "metadata": {},
   "outputs": [
    {
     "data": {
      "text/plain": [
       "Text(0, 0.5, 'Колличество клиентов')"
      ]
     },
     "execution_count": 22,
     "metadata": {},
     "output_type": "execute_result"
    },
    {
     "data": {
      "image/png": "[encoded data removed]",
      "text/plain": [
       "<Figure size 720x576 with 1 Axes>"
      ]
     },
     "metadata": {},
     "output_type": "display_data"
    }
   ],
   "source": [
    "fig, ax = plt.subplots(figsize=(10,8))\n",
    "sns.histplot(data=df, x='EstimatedSalary',hue='Exited', kde=True,bins=50, ax=ax)\n",
    "plt.title('Распределение клиентов по зарплате')\n",
    "plt.xlabel('Зарплата клиентов')\n",
    "plt.ylabel('Колличество клиентов')"
   ]
  },
  {
   "cell_type": "code",
   "execution_count": 23,
   "metadata": {},
   "outputs": [
    {
     "data": {
      "application/vnd.jupyter.widget-view+json": {
       "model_id": "f3ecb9e221c74cf9b98487f844d22215",
       "version_major": 2,
       "version_minor": 0
      },
      "text/plain": [
       "HBox(children=(FloatProgress(value=0.0, max=1000.0), HTML(value='')))"
      ]
     },
     "metadata": {},
     "output_type": "display_data"
    },
    {
     "name": "stdout",
     "output_type": "stream",
     "text": [
      "\n"
     ]
    },
    {
     "data": {
      "image/png": "[encoded data removed]",
      "text/plain": [
       "<Figure size 432x288 with 1 Axes>"
      ]
     },
     "metadata": {},
     "output_type": "display_data"
    },
    {
     "name": "stdout",
     "output_type": "stream",
     "text": [
      "Не получилось отвергнуть нулевую гипотезу\n"
     ]
    },
    {
     "data": {
      "text/plain": [
       "{'quants':                  0\n",
       " 0.025   -50.719748\n",
       " 0.975  3552.658211,\n",
       " 'p_value': 0.060100164871156124}"
      ]
     },
     "execution_count": 23,
     "metadata": {},
     "output_type": "execute_result"
    }
   ],
   "source": [
    "get_bootstrap(leave.EstimatedSalary, \n",
    "              did_not_leave.EstimatedSalary, boot_it = 1000,\n",
    "              statistic = np.mean, bootstrap_conf_level = 0.95, alpha = 0.05)"
   ]
  },
  {
   "cell_type": "markdown",
   "metadata": {},
   "source": [
    "А вот зарплата не имеет значения. "
   ]
  },
  {
   "cell_type": "code",
   "execution_count": 24,
   "metadata": {},
   "outputs": [
    {
     "data": {
      "text/plain": [
       "Text(0, 0.5, 'Колличество клиентов')"
      ]
     },
     "execution_count": 24,
     "metadata": {},
     "output_type": "execute_result"
    },
    {
     "data": {
      "image/png": "[encoded data removed]",
      "text/plain": [
       "<Figure size 720x576 with 1 Axes>"
      ]
     },
     "metadata": {},
     "output_type": "display_data"
    }
   ],
   "source": [
    "fig, ax = plt.subplots(figsize=(10,8))\n",
    "sns.histplot(data=df, x='CreditScore',hue='Exited', kde=True,bins=50, ax=ax)\n",
    "plt.title('Распределение клиентов по кредитным баллам')\n",
    "plt.xlabel('Кредитные баллы')\n",
    "plt.ylabel('Колличество клиентов')"
   ]
  },
  {
   "cell_type": "code",
   "execution_count": 25,
   "metadata": {},
   "outputs": [
    {
     "data": {
      "application/vnd.jupyter.widget-view+json": {
       "model_id": "ac3890442a774bbd81bf4c2938d3a078",
       "version_major": 2,
       "version_minor": 0
      },
      "text/plain": [
       "HBox(children=(FloatProgress(value=0.0, max=1000.0), HTML(value='')))"
      ]
     },
     "metadata": {},
     "output_type": "display_data"
    },
    {
     "name": "stdout",
     "output_type": "stream",
     "text": [
      "\n"
     ]
    },
    {
     "data": {
      "image/png": "[encoded data removed]",
      "text/plain": [
       "<Figure size 432x288 with 1 Axes>"
      ]
     },
     "metadata": {},
     "output_type": "display_data"
    },
    {
     "name": "stdout",
     "output_type": "stream",
     "text": [
      "Отвергаем нулевую гипотезу\n"
     ]
    },
    {
     "data": {
      "text/plain": [
       "{'quants':               0\n",
       " 0.025 -9.635643\n",
       " 0.975 -3.407055,\n",
       " 'p_value': 4.4224161559480104e-05}"
      ]
     },
     "execution_count": 25,
     "metadata": {},
     "output_type": "execute_result"
    }
   ],
   "source": [
    "get_bootstrap(leave.CreditScore,\n",
    "              did_not_leave.CreditScore, boot_it = 1000,\n",
    "              statistic = np.mean, bootstrap_conf_level = 0.95, alpha = 0.05)"
   ]
  },
  {
   "cell_type": "markdown",
   "metadata": {},
   "source": [
    "Ага, тут можно сказать, что те, кто уходит имеют более низкий кредитный рейтинг, чем те, кто остался с банком. Теперь глянем на колличество продуктов. "
   ]
  },
  {
   "cell_type": "code",
   "execution_count": 26,
   "metadata": {},
   "outputs": [
    {
     "data": {
      "text/plain": [
       "([<matplotlib.axis.XTick at 0x2d96f1d42b0>,\n",
       "  <matplotlib.axis.XTick at 0x2d96f1d4280>,\n",
       "  <matplotlib.axis.XTick at 0x2d96f1f8be0>,\n",
       "  <matplotlib.axis.XTick at 0x2d96f543940>],\n",
       " [Text(0, 0, ''), Text(0, 0, ''), Text(0, 0, ''), Text(0, 0, '')])"
      ]
     },
     "execution_count": 26,
     "metadata": {},
     "output_type": "execute_result"
    },
    {
     "data": {
      "image/png": "[encoded data removed]",
      "text/plain": [
       "<Figure size 720x576 with 1 Axes>"
      ]
     },
     "metadata": {},
     "output_type": "display_data"
    }
   ],
   "source": [
    "fig, ax = plt.subplots(figsize=(10,8))\n",
    "sns.histplot(data=df, x='NumOfProducts',hue='Exited', kde=False,bins=50, ax=ax)\n",
    "plt.title('Соотношение группы клиентов по продуктам')\n",
    "plt.xlabel('Вид продукта')\n",
    "plt.ylabel('Колличество клиентов')\n",
    "plt.xticks(np.arange(0,4,1))"
   ]
  },
  {
   "cell_type": "code",
   "execution_count": 27,
   "metadata": {},
   "outputs": [
    {
     "data": {
      "text/html": [
       "<style  type=\"text/css\" >\n",
       "    #T_79505f5e_95c2_11eb_8f65_5076af1ef045row0_col0 {\n",
       "            width:  10em;\n",
       "             height:  80%;\n",
       "            background:  linear-gradient(90deg,#d65f5f 70.0%, transparent 70.0%);\n",
       "        }    #T_79505f5e_95c2_11eb_8f65_5076af1ef045row1_col0 {\n",
       "            width:  10em;\n",
       "             height:  80%;\n",
       "            background:  linear-gradient(90deg,#d65f5f 21.8%, transparent 21.8%);\n",
       "        }    #T_79505f5e_95c2_11eb_8f65_5076af1ef045row2_col0 {\n",
       "            width:  10em;\n",
       "             height:  80%;\n",
       "            background:  linear-gradient(90deg,#d65f5f 91.8%, transparent 91.8%);\n",
       "        }    #T_79505f5e_95c2_11eb_8f65_5076af1ef045row3_col0 {\n",
       "            width:  10em;\n",
       "             height:  80%;\n",
       "        }    #T_79505f5e_95c2_11eb_8f65_5076af1ef045row4_col0 {\n",
       "            width:  10em;\n",
       "             height:  80%;\n",
       "            background:  linear-gradient(90deg,#d65f5f 10.5%, transparent 10.5%);\n",
       "        }    #T_79505f5e_95c2_11eb_8f65_5076af1ef045row5_col0 {\n",
       "            width:  10em;\n",
       "             height:  80%;\n",
       "            background:  linear-gradient(90deg,#d65f5f 81.3%, transparent 81.3%);\n",
       "        }    #T_79505f5e_95c2_11eb_8f65_5076af1ef045row6_col0 {\n",
       "            width:  10em;\n",
       "             height:  80%;\n",
       "            background:  linear-gradient(90deg,#d65f5f 100.0%, transparent 100.0%);\n",
       "        }</style><table id=\"T_79505f5e_95c2_11eb_8f65_5076af1ef045\" ><thead>    <tr>        <th class=\"blank\" ></th>        <th class=\"blank level0\" ></th>        <th class=\"col_heading level0 col0\" >ratio</th>    </tr>    <tr>        <th class=\"index_name level0\" >NumOfProducts</th>        <th class=\"index_name level1\" >Exited</th>        <th class=\"blank\" ></th>    </tr></thead><tbody>\n",
       "                <tr>\n",
       "                        <th id=\"T_79505f5e_95c2_11eb_8f65_5076af1ef045level0_row0\" class=\"row_heading level0 row0\" rowspan=2>1</th>\n",
       "                        <th id=\"T_79505f5e_95c2_11eb_8f65_5076af1ef045level1_row0\" class=\"row_heading level1 row0\" >0</th>\n",
       "                        <td id=\"T_79505f5e_95c2_11eb_8f65_5076af1ef045row0_col0\" class=\"data row0 col0\" >0.722856</td>\n",
       "            </tr>\n",
       "            <tr>\n",
       "                                <th id=\"T_79505f5e_95c2_11eb_8f65_5076af1ef045level1_row1\" class=\"row_heading level1 row1\" >1</th>\n",
       "                        <td id=\"T_79505f5e_95c2_11eb_8f65_5076af1ef045row1_col0\" class=\"data row1 col0\" >0.277144</td>\n",
       "            </tr>\n",
       "            <tr>\n",
       "                        <th id=\"T_79505f5e_95c2_11eb_8f65_5076af1ef045level0_row2\" class=\"row_heading level0 row2\" rowspan=2>2</th>\n",
       "                        <th id=\"T_79505f5e_95c2_11eb_8f65_5076af1ef045level1_row2\" class=\"row_heading level1 row2\" >0</th>\n",
       "                        <td id=\"T_79505f5e_95c2_11eb_8f65_5076af1ef045row2_col0\" class=\"data row2 col0\" >0.924183</td>\n",
       "            </tr>\n",
       "            <tr>\n",
       "                                <th id=\"T_79505f5e_95c2_11eb_8f65_5076af1ef045level1_row3\" class=\"row_heading level1 row3\" >1</th>\n",
       "                        <td id=\"T_79505f5e_95c2_11eb_8f65_5076af1ef045row3_col0\" class=\"data row3 col0\" >0.075817</td>\n",
       "            </tr>\n",
       "            <tr>\n",
       "                        <th id=\"T_79505f5e_95c2_11eb_8f65_5076af1ef045level0_row4\" class=\"row_heading level0 row4\" rowspan=2>3</th>\n",
       "                        <th id=\"T_79505f5e_95c2_11eb_8f65_5076af1ef045level1_row4\" class=\"row_heading level1 row4\" >0</th>\n",
       "                        <td id=\"T_79505f5e_95c2_11eb_8f65_5076af1ef045row4_col0\" class=\"data row4 col0\" >0.172932</td>\n",
       "            </tr>\n",
       "            <tr>\n",
       "                                <th id=\"T_79505f5e_95c2_11eb_8f65_5076af1ef045level1_row5\" class=\"row_heading level1 row5\" >1</th>\n",
       "                        <td id=\"T_79505f5e_95c2_11eb_8f65_5076af1ef045row5_col0\" class=\"data row5 col0\" >0.827068</td>\n",
       "            </tr>\n",
       "            <tr>\n",
       "                        <th id=\"T_79505f5e_95c2_11eb_8f65_5076af1ef045level0_row6\" class=\"row_heading level0 row6\" >4</th>\n",
       "                        <th id=\"T_79505f5e_95c2_11eb_8f65_5076af1ef045level1_row6\" class=\"row_heading level1 row6\" >1</th>\n",
       "                        <td id=\"T_79505f5e_95c2_11eb_8f65_5076af1ef045row6_col0\" class=\"data row6 col0\" >1.000000</td>\n",
       "            </tr>\n",
       "    </tbody></table>"
      ],
      "text/plain": [
       "<pandas.io.formats.style.Styler at 0x2d96f576a30>"
      ]
     },
     "execution_count": 27,
     "metadata": {},
     "output_type": "execute_result"
    }
   ],
   "source": [
    "check_ratio('NumOfProducts')"
   ]
  },
  {
   "cell_type": "markdown",
   "metadata": {},
   "source": [
    "Ознакомившись с таблицами можно предположить, что люди имеющих 2 продукта более надежны, чем те у кого их 1 или 3 или 4."
   ]
  },
  {
   "cell_type": "code",
   "execution_count": 28,
   "metadata": {},
   "outputs": [
    {
     "data": {
      "text/plain": [
       "([<matplotlib.axis.XTick at 0x2d96f7498e0>], [Text(0, 0, '')])"
      ]
     },
     "execution_count": 28,
     "metadata": {},
     "output_type": "execute_result"
    },
    {
     "data": {
      "image/png": "[encoded data removed]",
      "text/plain": [
       "<Figure size 720x576 with 1 Axes>"
      ]
     },
     "metadata": {},
     "output_type": "display_data"
    }
   ],
   "source": [
    "fig, ax = plt.subplots(figsize=(10,8))\n",
    "sns.histplot(data=df, x='HasCrCard',hue='Exited', kde=False,bins=50, ax=ax)\n",
    "plt.title('Соотношение группы клиентов по наличию кредитной карты')\n",
    "plt.xlabel('есть карта или нет')\n",
    "plt.ylabel('Колличество клиентов')\n",
    "plt.xticks(np.arange(0,1,1))"
   ]
  },
  {
   "cell_type": "code",
   "execution_count": 29,
   "metadata": {},
   "outputs": [
    {
     "data": {
      "text/html": [
       "<style  type=\"text/css\" >\n",
       "    #T_797f178e_95c2_11eb_8438_5076af1ef045row0_col0 {\n",
       "            width:  10em;\n",
       "             height:  80%;\n",
       "            background:  linear-gradient(90deg,#d65f5f 98.9%, transparent 98.9%);\n",
       "        }    #T_797f178e_95c2_11eb_8438_5076af1ef045row1_col0 {\n",
       "            width:  10em;\n",
       "             height:  80%;\n",
       "            background:  linear-gradient(90deg,#d65f5f 1.1%, transparent 1.1%);\n",
       "        }    #T_797f178e_95c2_11eb_8438_5076af1ef045row2_col0 {\n",
       "            width:  10em;\n",
       "             height:  80%;\n",
       "            background:  linear-gradient(90deg,#d65f5f 100.0%, transparent 100.0%);\n",
       "        }    #T_797f178e_95c2_11eb_8438_5076af1ef045row3_col0 {\n",
       "            width:  10em;\n",
       "             height:  80%;\n",
       "        }</style><table id=\"T_797f178e_95c2_11eb_8438_5076af1ef045\" ><thead>    <tr>        <th class=\"blank\" ></th>        <th class=\"blank level0\" ></th>        <th class=\"col_heading level0 col0\" >ratio</th>    </tr>    <tr>        <th class=\"index_name level0\" >HasCrCard</th>        <th class=\"index_name level1\" >Exited</th>        <th class=\"blank\" ></th>    </tr></thead><tbody>\n",
       "                <tr>\n",
       "                        <th id=\"T_797f178e_95c2_11eb_8438_5076af1ef045level0_row0\" class=\"row_heading level0 row0\" rowspan=2>0</th>\n",
       "                        <th id=\"T_797f178e_95c2_11eb_8438_5076af1ef045level1_row0\" class=\"row_heading level1 row0\" >0</th>\n",
       "                        <td id=\"T_797f178e_95c2_11eb_8438_5076af1ef045row0_col0\" class=\"data row0 col0\" >0.791851</td>\n",
       "            </tr>\n",
       "            <tr>\n",
       "                                <th id=\"T_797f178e_95c2_11eb_8438_5076af1ef045level1_row1\" class=\"row_heading level1 row1\" >1</th>\n",
       "                        <td id=\"T_797f178e_95c2_11eb_8438_5076af1ef045row1_col0\" class=\"data row1 col0\" >0.208149</td>\n",
       "            </tr>\n",
       "            <tr>\n",
       "                        <th id=\"T_797f178e_95c2_11eb_8438_5076af1ef045level0_row2\" class=\"row_heading level0 row2\" rowspan=2>1</th>\n",
       "                        <th id=\"T_797f178e_95c2_11eb_8438_5076af1ef045level1_row2\" class=\"row_heading level1 row2\" >0</th>\n",
       "                        <td id=\"T_797f178e_95c2_11eb_8438_5076af1ef045row2_col0\" class=\"data row2 col0\" >0.798157</td>\n",
       "            </tr>\n",
       "            <tr>\n",
       "                                <th id=\"T_797f178e_95c2_11eb_8438_5076af1ef045level1_row3\" class=\"row_heading level1 row3\" >1</th>\n",
       "                        <td id=\"T_797f178e_95c2_11eb_8438_5076af1ef045row3_col0\" class=\"data row3 col0\" >0.201843</td>\n",
       "            </tr>\n",
       "    </tbody></table>"
      ],
      "text/plain": [
       "<pandas.io.formats.style.Styler at 0x2d96d722100>"
      ]
     },
     "execution_count": 29,
     "metadata": {},
     "output_type": "execute_result"
    }
   ],
   "source": [
    "check_ratio('HasCrCard')"
   ]
  },
  {
   "cell_type": "markdown",
   "metadata": {},
   "source": [
    "Наличие кредитной карты особо не влияет на то, что ушёл клиент или нет. Теперь посмотрим на то, что влияет ли как-то активность клиента или нет"
   ]
  },
  {
   "cell_type": "code",
   "execution_count": 30,
   "metadata": {},
   "outputs": [
    {
     "data": {
      "text/plain": [
       "([<matplotlib.axis.XTick at 0x2d96f6b31f0>], [Text(0, 0, '')])"
      ]
     },
     "execution_count": 30,
     "metadata": {},
     "output_type": "execute_result"
    },
    {
     "data": {
      "image/png": "[encoded data removed]",
      "text/plain": [
       "<Figure size 720x576 with 1 Axes>"
      ]
     },
     "metadata": {},
     "output_type": "display_data"
    }
   ],
   "source": [
    "fig, ax = plt.subplots(figsize=(10,8))\n",
    "sns.histplot(data=df, x='IsActiveMember',hue='Exited', kde=False,bins=50, ax=ax)\n",
    "plt.title('Соотношение группы клиентов по активности')\n",
    "plt.xlabel('Активность клиента')\n",
    "plt.ylabel('Колличество клиентов')\n",
    "plt.xticks(np.arange(0,1,1))"
   ]
  },
  {
   "cell_type": "code",
   "execution_count": 31,
   "metadata": {},
   "outputs": [
    {
     "data": {
      "text/html": [
       "<style  type=\"text/css\" >\n",
       "    #T_79af2fa8_95c2_11eb_ab95_5076af1ef045row0_col0 {\n",
       "            width:  10em;\n",
       "             height:  80%;\n",
       "            background:  linear-gradient(90deg,#d65f5f 82.4%, transparent 82.4%);\n",
       "        }    #T_79af2fa8_95c2_11eb_ab95_5076af1ef045row1_col0 {\n",
       "            width:  10em;\n",
       "             height:  80%;\n",
       "            background:  linear-gradient(90deg,#d65f5f 17.6%, transparent 17.6%);\n",
       "        }    #T_79af2fa8_95c2_11eb_ab95_5076af1ef045row2_col0 {\n",
       "            width:  10em;\n",
       "             height:  80%;\n",
       "            background:  linear-gradient(90deg,#d65f5f 100.0%, transparent 100.0%);\n",
       "        }    #T_79af2fa8_95c2_11eb_ab95_5076af1ef045row3_col0 {\n",
       "            width:  10em;\n",
       "             height:  80%;\n",
       "        }</style><table id=\"T_79af2fa8_95c2_11eb_ab95_5076af1ef045\" ><thead>    <tr>        <th class=\"blank\" ></th>        <th class=\"blank level0\" ></th>        <th class=\"col_heading level0 col0\" >ratio</th>    </tr>    <tr>        <th class=\"index_name level0\" >IsActiveMember</th>        <th class=\"index_name level1\" >Exited</th>        <th class=\"blank\" ></th>    </tr></thead><tbody>\n",
       "                <tr>\n",
       "                        <th id=\"T_79af2fa8_95c2_11eb_ab95_5076af1ef045level0_row0\" class=\"row_heading level0 row0\" rowspan=2>0</th>\n",
       "                        <th id=\"T_79af2fa8_95c2_11eb_ab95_5076af1ef045level1_row0\" class=\"row_heading level1 row0\" >0</th>\n",
       "                        <td id=\"T_79af2fa8_95c2_11eb_ab95_5076af1ef045row0_col0\" class=\"data row0 col0\" >0.731491</td>\n",
       "            </tr>\n",
       "            <tr>\n",
       "                                <th id=\"T_79af2fa8_95c2_11eb_ab95_5076af1ef045level1_row1\" class=\"row_heading level1 row1\" >1</th>\n",
       "                        <td id=\"T_79af2fa8_95c2_11eb_ab95_5076af1ef045row1_col0\" class=\"data row1 col0\" >0.268509</td>\n",
       "            </tr>\n",
       "            <tr>\n",
       "                        <th id=\"T_79af2fa8_95c2_11eb_ab95_5076af1ef045level0_row2\" class=\"row_heading level0 row2\" rowspan=2>1</th>\n",
       "                        <th id=\"T_79af2fa8_95c2_11eb_ab95_5076af1ef045level1_row2\" class=\"row_heading level1 row2\" >0</th>\n",
       "                        <td id=\"T_79af2fa8_95c2_11eb_ab95_5076af1ef045row2_col0\" class=\"data row2 col0\" >0.857309</td>\n",
       "            </tr>\n",
       "            <tr>\n",
       "                                <th id=\"T_79af2fa8_95c2_11eb_ab95_5076af1ef045level1_row3\" class=\"row_heading level1 row3\" >1</th>\n",
       "                        <td id=\"T_79af2fa8_95c2_11eb_ab95_5076af1ef045row3_col0\" class=\"data row3 col0\" >0.142691</td>\n",
       "            </tr>\n",
       "    </tbody></table>"
      ],
      "text/plain": [
       "<pandas.io.formats.style.Styler at 0x2d96f1c0fa0>"
      ]
     },
     "execution_count": 31,
     "metadata": {},
     "output_type": "execute_result"
    }
   ],
   "source": [
    "check_ratio('IsActiveMember')"
   ]
  },
  {
   "cell_type": "markdown",
   "metadata": {},
   "source": [
    "Тут можно увидеть, что чаще уходят менее активные пользователи, чем активные. Но учитывая, опять же баланс классов сложно сказать точно. Теперь посмотрим влияет ли колличество лет на то, что уйдёт клиент или нет."
   ]
  },
  {
   "cell_type": "code",
   "execution_count": 32,
   "metadata": {},
   "outputs": [
    {
     "data": {
      "text/plain": [
       "Text(0, 0.5, 'Колличество людей')"
      ]
     },
     "execution_count": 32,
     "metadata": {},
     "output_type": "execute_result"
    },
    {
     "data": {
      "image/png": "[encoded data removed]",
      "text/plain": [
       "<Figure size 720x576 with 1 Axes>"
      ]
     },
     "metadata": {},
     "output_type": "display_data"
    }
   ],
   "source": [
    "fig, ax = plt.subplots(figsize=(10,8))\n",
    "sns.histplot(data=df, x='Tenure',hue='Exited',bins=50, ax=ax)\n",
    "plt.title('Распределение клиентов по годам')\n",
    "plt.xlabel('сколько лет человек является клиентом банка')\n",
    "plt.ylabel('Колличество людей')"
   ]
  },
  {
   "cell_type": "code",
   "execution_count": 33,
   "metadata": {},
   "outputs": [
    {
     "data": {
      "text/html": [
       "<style  type=\"text/css\" >\n",
       "    #T_79f271da_95c2_11eb_af73_5076af1ef045row0_col0 {\n",
       "            width:  10em;\n",
       "             height:  80%;\n",
       "            background:  linear-gradient(90deg,#d65f5f 90.4%, transparent 90.4%);\n",
       "        }    #T_79f271da_95c2_11eb_af73_5076af1ef045row1_col0 {\n",
       "            width:  10em;\n",
       "             height:  80%;\n",
       "            background:  linear-gradient(90deg,#d65f5f 9.6%, transparent 9.6%);\n",
       "        }    #T_79f271da_95c2_11eb_af73_5076af1ef045row2_col0 {\n",
       "            width:  10em;\n",
       "             height:  80%;\n",
       "            background:  linear-gradient(90deg,#d65f5f 92.2%, transparent 92.2%);\n",
       "        }    #T_79f271da_95c2_11eb_af73_5076af1ef045row3_col0 {\n",
       "            width:  10em;\n",
       "             height:  80%;\n",
       "            background:  linear-gradient(90deg,#d65f5f 7.8%, transparent 7.8%);\n",
       "        }    #T_79f271da_95c2_11eb_af73_5076af1ef045row4_col0 {\n",
       "            width:  10em;\n",
       "             height:  80%;\n",
       "            background:  linear-gradient(90deg,#d65f5f 96.7%, transparent 96.7%);\n",
       "        }    #T_79f271da_95c2_11eb_af73_5076af1ef045row5_col0 {\n",
       "            width:  10em;\n",
       "             height:  80%;\n",
       "            background:  linear-gradient(90deg,#d65f5f 3.3%, transparent 3.3%);\n",
       "        }    #T_79f271da_95c2_11eb_af73_5076af1ef045row6_col0 {\n",
       "            width:  10em;\n",
       "             height:  80%;\n",
       "            background:  linear-gradient(90deg,#d65f5f 93.8%, transparent 93.8%);\n",
       "        }    #T_79f271da_95c2_11eb_af73_5076af1ef045row7_col0 {\n",
       "            width:  10em;\n",
       "             height:  80%;\n",
       "            background:  linear-gradient(90deg,#d65f5f 6.2%, transparent 6.2%);\n",
       "        }    #T_79f271da_95c2_11eb_af73_5076af1ef045row8_col0 {\n",
       "            width:  10em;\n",
       "             height:  80%;\n",
       "            background:  linear-gradient(90deg,#d65f5f 94.7%, transparent 94.7%);\n",
       "        }    #T_79f271da_95c2_11eb_af73_5076af1ef045row9_col0 {\n",
       "            width:  10em;\n",
       "             height:  80%;\n",
       "            background:  linear-gradient(90deg,#d65f5f 5.3%, transparent 5.3%);\n",
       "        }    #T_79f271da_95c2_11eb_af73_5076af1ef045row10_col0 {\n",
       "            width:  10em;\n",
       "             height:  80%;\n",
       "            background:  linear-gradient(90deg,#d65f5f 95.6%, transparent 95.6%);\n",
       "        }    #T_79f271da_95c2_11eb_af73_5076af1ef045row11_col0 {\n",
       "            width:  10em;\n",
       "             height:  80%;\n",
       "            background:  linear-gradient(90deg,#d65f5f 4.4%, transparent 4.4%);\n",
       "        }    #T_79f271da_95c2_11eb_af73_5076af1ef045row12_col0 {\n",
       "            width:  10em;\n",
       "             height:  80%;\n",
       "            background:  linear-gradient(90deg,#d65f5f 95.7%, transparent 95.7%);\n",
       "        }    #T_79f271da_95c2_11eb_af73_5076af1ef045row13_col0 {\n",
       "            width:  10em;\n",
       "             height:  80%;\n",
       "            background:  linear-gradient(90deg,#d65f5f 4.3%, transparent 4.3%);\n",
       "        }    #T_79f271da_95c2_11eb_af73_5076af1ef045row14_col0 {\n",
       "            width:  10em;\n",
       "             height:  80%;\n",
       "            background:  linear-gradient(90deg,#d65f5f 100.0%, transparent 100.0%);\n",
       "        }    #T_79f271da_95c2_11eb_af73_5076af1ef045row15_col0 {\n",
       "            width:  10em;\n",
       "             height:  80%;\n",
       "        }    #T_79f271da_95c2_11eb_af73_5076af1ef045row16_col0 {\n",
       "            width:  10em;\n",
       "             height:  80%;\n",
       "            background:  linear-gradient(90deg,#d65f5f 97.9%, transparent 97.9%);\n",
       "        }    #T_79f271da_95c2_11eb_af73_5076af1ef045row17_col0 {\n",
       "            width:  10em;\n",
       "             height:  80%;\n",
       "            background:  linear-gradient(90deg,#d65f5f 2.1%, transparent 2.1%);\n",
       "        }    #T_79f271da_95c2_11eb_af73_5076af1ef045row18_col0 {\n",
       "            width:  10em;\n",
       "             height:  80%;\n",
       "            background:  linear-gradient(90deg,#d65f5f 92.8%, transparent 92.8%);\n",
       "        }    #T_79f271da_95c2_11eb_af73_5076af1ef045row19_col0 {\n",
       "            width:  10em;\n",
       "             height:  80%;\n",
       "            background:  linear-gradient(90deg,#d65f5f 7.2%, transparent 7.2%);\n",
       "        }    #T_79f271da_95c2_11eb_af73_5076af1ef045row20_col0 {\n",
       "            width:  10em;\n",
       "             height:  80%;\n",
       "            background:  linear-gradient(90deg,#d65f5f 94.9%, transparent 94.9%);\n",
       "        }    #T_79f271da_95c2_11eb_af73_5076af1ef045row21_col0 {\n",
       "            width:  10em;\n",
       "             height:  80%;\n",
       "            background:  linear-gradient(90deg,#d65f5f 5.1%, transparent 5.1%);\n",
       "        }</style><table id=\"T_79f271da_95c2_11eb_af73_5076af1ef045\" ><thead>    <tr>        <th class=\"blank\" ></th>        <th class=\"blank level0\" ></th>        <th class=\"col_heading level0 col0\" >ratio</th>    </tr>    <tr>        <th class=\"index_name level0\" >Tenure</th>        <th class=\"index_name level1\" >Exited</th>        <th class=\"blank\" ></th>    </tr></thead><tbody>\n",
       "                <tr>\n",
       "                        <th id=\"T_79f271da_95c2_11eb_af73_5076af1ef045level0_row0\" class=\"row_heading level0 row0\" rowspan=2>0.0</th>\n",
       "                        <th id=\"T_79f271da_95c2_11eb_af73_5076af1ef045level1_row0\" class=\"row_heading level1 row0\" >0</th>\n",
       "                        <td id=\"T_79f271da_95c2_11eb_af73_5076af1ef045row0_col0\" class=\"data row0 col0\" >0.764398</td>\n",
       "            </tr>\n",
       "            <tr>\n",
       "                                <th id=\"T_79f271da_95c2_11eb_af73_5076af1ef045level1_row1\" class=\"row_heading level1 row1\" >1</th>\n",
       "                        <td id=\"T_79f271da_95c2_11eb_af73_5076af1ef045row1_col0\" class=\"data row1 col0\" >0.235602</td>\n",
       "            </tr>\n",
       "            <tr>\n",
       "                        <th id=\"T_79f271da_95c2_11eb_af73_5076af1ef045level0_row2\" class=\"row_heading level0 row2\" rowspan=2>1.0</th>\n",
       "                        <th id=\"T_79f271da_95c2_11eb_af73_5076af1ef045level1_row2\" class=\"row_heading level1 row2\" >0</th>\n",
       "                        <td id=\"T_79f271da_95c2_11eb_af73_5076af1ef045row2_col0\" class=\"data row2 col0\" >0.776261</td>\n",
       "            </tr>\n",
       "            <tr>\n",
       "                                <th id=\"T_79f271da_95c2_11eb_af73_5076af1ef045level1_row3\" class=\"row_heading level1 row3\" >1</th>\n",
       "                        <td id=\"T_79f271da_95c2_11eb_af73_5076af1ef045row3_col0\" class=\"data row3 col0\" >0.223739</td>\n",
       "            </tr>\n",
       "            <tr>\n",
       "                        <th id=\"T_79f271da_95c2_11eb_af73_5076af1ef045level0_row4\" class=\"row_heading level0 row4\" rowspan=2>2.0</th>\n",
       "                        <th id=\"T_79f271da_95c2_11eb_af73_5076af1ef045level1_row4\" class=\"row_heading level1 row4\" >0</th>\n",
       "                        <td id=\"T_79f271da_95c2_11eb_af73_5076af1ef045row4_col0\" class=\"data row4 col0\" >0.805263</td>\n",
       "            </tr>\n",
       "            <tr>\n",
       "                                <th id=\"T_79f271da_95c2_11eb_af73_5076af1ef045level1_row5\" class=\"row_heading level1 row5\" >1</th>\n",
       "                        <td id=\"T_79f271da_95c2_11eb_af73_5076af1ef045row5_col0\" class=\"data row5 col0\" >0.194737</td>\n",
       "            </tr>\n",
       "            <tr>\n",
       "                        <th id=\"T_79f271da_95c2_11eb_af73_5076af1ef045level0_row6\" class=\"row_heading level0 row6\" rowspan=2>3.0</th>\n",
       "                        <th id=\"T_79f271da_95c2_11eb_af73_5076af1ef045level1_row6\" class=\"row_heading level1 row6\" >0</th>\n",
       "                        <td id=\"T_79f271da_95c2_11eb_af73_5076af1ef045row6_col0\" class=\"data row6 col0\" >0.786638</td>\n",
       "            </tr>\n",
       "            <tr>\n",
       "                                <th id=\"T_79f271da_95c2_11eb_af73_5076af1ef045level1_row7\" class=\"row_heading level1 row7\" >1</th>\n",
       "                        <td id=\"T_79f271da_95c2_11eb_af73_5076af1ef045row7_col0\" class=\"data row7 col0\" >0.213362</td>\n",
       "            </tr>\n",
       "            <tr>\n",
       "                        <th id=\"T_79f271da_95c2_11eb_af73_5076af1ef045level0_row8\" class=\"row_heading level0 row8\" rowspan=2>4.0</th>\n",
       "                        <th id=\"T_79f271da_95c2_11eb_af73_5076af1ef045level1_row8\" class=\"row_heading level1 row8\" >0</th>\n",
       "                        <td id=\"T_79f271da_95c2_11eb_af73_5076af1ef045row8_col0\" class=\"data row8 col0\" >0.792090</td>\n",
       "            </tr>\n",
       "            <tr>\n",
       "                                <th id=\"T_79f271da_95c2_11eb_af73_5076af1ef045level1_row9\" class=\"row_heading level1 row9\" >1</th>\n",
       "                        <td id=\"T_79f271da_95c2_11eb_af73_5076af1ef045row9_col0\" class=\"data row9 col0\" >0.207910</td>\n",
       "            </tr>\n",
       "            <tr>\n",
       "                        <th id=\"T_79f271da_95c2_11eb_af73_5076af1ef045level0_row10\" class=\"row_heading level0 row10\" rowspan=2>5.0</th>\n",
       "                        <th id=\"T_79f271da_95c2_11eb_af73_5076af1ef045level1_row10\" class=\"row_heading level1 row10\" >0</th>\n",
       "                        <td id=\"T_79f271da_95c2_11eb_af73_5076af1ef045row10_col0\" class=\"data row10 col0\" >0.798274</td>\n",
       "            </tr>\n",
       "            <tr>\n",
       "                                <th id=\"T_79f271da_95c2_11eb_af73_5076af1ef045level1_row11\" class=\"row_heading level1 row11\" >1</th>\n",
       "                        <td id=\"T_79f271da_95c2_11eb_af73_5076af1ef045row11_col0\" class=\"data row11 col0\" >0.201726</td>\n",
       "            </tr>\n",
       "            <tr>\n",
       "                        <th id=\"T_79f271da_95c2_11eb_af73_5076af1ef045level0_row12\" class=\"row_heading level0 row12\" rowspan=2>6.0</th>\n",
       "                        <th id=\"T_79f271da_95c2_11eb_af73_5076af1ef045level1_row12\" class=\"row_heading level1 row12\" >0</th>\n",
       "                        <td id=\"T_79f271da_95c2_11eb_af73_5076af1ef045row12_col0\" class=\"data row12 col0\" >0.799092</td>\n",
       "            </tr>\n",
       "            <tr>\n",
       "                                <th id=\"T_79f271da_95c2_11eb_af73_5076af1ef045level1_row13\" class=\"row_heading level1 row13\" >1</th>\n",
       "                        <td id=\"T_79f271da_95c2_11eb_af73_5076af1ef045row13_col0\" class=\"data row13 col0\" >0.200908</td>\n",
       "            </tr>\n",
       "            <tr>\n",
       "                        <th id=\"T_79f271da_95c2_11eb_af73_5076af1ef045level0_row14\" class=\"row_heading level0 row14\" rowspan=2>7.0</th>\n",
       "                        <th id=\"T_79f271da_95c2_11eb_af73_5076af1ef045level1_row14\" class=\"row_heading level1 row14\" >0</th>\n",
       "                        <td id=\"T_79f271da_95c2_11eb_af73_5076af1ef045row14_col0\" class=\"data row14 col0\" >0.827027</td>\n",
       "            </tr>\n",
       "            <tr>\n",
       "                                <th id=\"T_79f271da_95c2_11eb_af73_5076af1ef045level1_row15\" class=\"row_heading level1 row15\" >1</th>\n",
       "                        <td id=\"T_79f271da_95c2_11eb_af73_5076af1ef045row15_col0\" class=\"data row15 col0\" >0.172973</td>\n",
       "            </tr>\n",
       "            <tr>\n",
       "                        <th id=\"T_79f271da_95c2_11eb_af73_5076af1ef045level0_row16\" class=\"row_heading level0 row16\" rowspan=2>8.0</th>\n",
       "                        <th id=\"T_79f271da_95c2_11eb_af73_5076af1ef045level1_row16\" class=\"row_heading level1 row16\" >0</th>\n",
       "                        <td id=\"T_79f271da_95c2_11eb_af73_5076af1ef045row16_col0\" class=\"data row16 col0\" >0.813505</td>\n",
       "            </tr>\n",
       "            <tr>\n",
       "                                <th id=\"T_79f271da_95c2_11eb_af73_5076af1ef045level1_row17\" class=\"row_heading level1 row17\" >1</th>\n",
       "                        <td id=\"T_79f271da_95c2_11eb_af73_5076af1ef045row17_col0\" class=\"data row17 col0\" >0.186495</td>\n",
       "            </tr>\n",
       "            <tr>\n",
       "                        <th id=\"T_79f271da_95c2_11eb_af73_5076af1ef045level0_row18\" class=\"row_heading level0 row18\" rowspan=2>9.0</th>\n",
       "                        <th id=\"T_79f271da_95c2_11eb_af73_5076af1ef045level1_row18\" class=\"row_heading level1 row18\" >0</th>\n",
       "                        <td id=\"T_79f271da_95c2_11eb_af73_5076af1ef045row18_col0\" class=\"data row18 col0\" >0.780045</td>\n",
       "            </tr>\n",
       "            <tr>\n",
       "                                <th id=\"T_79f271da_95c2_11eb_af73_5076af1ef045level1_row19\" class=\"row_heading level1 row19\" >1</th>\n",
       "                        <td id=\"T_79f271da_95c2_11eb_af73_5076af1ef045row19_col0\" class=\"data row19 col0\" >0.219955</td>\n",
       "            </tr>\n",
       "            <tr>\n",
       "                        <th id=\"T_79f271da_95c2_11eb_af73_5076af1ef045level0_row20\" class=\"row_heading level0 row20\" rowspan=2>10.0</th>\n",
       "                        <th id=\"T_79f271da_95c2_11eb_af73_5076af1ef045level1_row20\" class=\"row_heading level1 row20\" >0</th>\n",
       "                        <td id=\"T_79f271da_95c2_11eb_af73_5076af1ef045row20_col0\" class=\"data row20 col0\" >0.793722</td>\n",
       "            </tr>\n",
       "            <tr>\n",
       "                                <th id=\"T_79f271da_95c2_11eb_af73_5076af1ef045level1_row21\" class=\"row_heading level1 row21\" >1</th>\n",
       "                        <td id=\"T_79f271da_95c2_11eb_af73_5076af1ef045row21_col0\" class=\"data row21 col0\" >0.206278</td>\n",
       "            </tr>\n",
       "    </tbody></table>"
      ],
      "text/plain": [
       "<pandas.io.formats.style.Styler at 0x2d96d752850>"
      ]
     },
     "execution_count": 33,
     "metadata": {},
     "output_type": "execute_result"
    }
   ],
   "source": [
    "check_ratio('Tenure')"
   ]
  },
  {
   "cell_type": "markdown",
   "metadata": {},
   "source": [
    "% ухода практически везде одинаков. О чём это говорит? О том, что уйти могут как и те клиенты, которые были с банком 10 лет, так и те, кто пробыл с банком меньше года. Так же стоит помнить, что в данном столбце пропущенны значения, что плохо для нашей модели. Так что данный признак можно будет убрать, так же как и признак о зарпллате клиента. "
   ]
  },
  {
   "cell_type": "code",
   "execution_count": 34,
   "metadata": {},
   "outputs": [],
   "source": [
    "df.drop(columns=['RowNumber', 'CustomerId', 'Surname'], inplace=True)"
   ]
  },
  {
   "cell_type": "code",
   "execution_count": 35,
   "metadata": {},
   "outputs": [
    {
     "data": {
      "text/plain": [
       "Text(0.5, 1.0, 'Корреляция между признаками')"
      ]
     },
     "execution_count": 35,
     "metadata": {},
     "output_type": "execute_result"
    },
    {
     "data": {
      "image/png": "[encoded data removed]",
      "text/plain": [
       "<Figure size 720x720 with 2 Axes>"
      ]
     },
     "metadata": {},
     "output_type": "display_data"
    }
   ],
   "source": [
    "Corr=df.corr()\n",
    "plt.figure(figsize=(10, 10))\n",
    "sns.heatmap(Corr, annot=True, fmt='.2f', cmap='RdYlGn')\n",
    "plt.title('Корреляция между признаками')"
   ]
  },
  {
   "cell_type": "markdown",
   "metadata": {},
   "source": [
    "Итак, тут видим, что с Exited есть небольшая положительная корреляция у таких признаков как возраст и баланс. Что показывает нам, что чем старше человек, тем больше Exited, а точнее 1. Так же и с балансом. С активностью можем наблюдать небольшую отрицательную корреляцию, т.е. если человек не активен, то уйдет. Вполне логично.\n",
    "Так же видим, отрицательную корреляцию между балансом и колличеством продуктов. Чем больше у человека продуктов банка, тем ниже его баланс. "
   ]
  },
  {
   "cell_type": "markdown",
   "metadata": {},
   "source": [
    "<b><font size=4>Выводы после анализа</font></b><a name=\"3.3\"></a>\n",
    "[<font size=\"2\">(к содержанию)</font>](#to_content.)\n",
    "\n",
    "Итак, пройдясь по нашим признакам можно прикинуть примерный портрет пользователей, которые уходят. Посмотрим на признаки, которые говорят нам об этом.\n",
    "\n",
    "1. клиенты с Германии\n",
    "2. женского пола\n",
    "3. имеют невысокий кредитный рейтинг\n",
    "4. Не особо активны\n",
    "5. Люди более зрелого возраста\n",
    "6. Имеют небольшой баланс\n"
   ]
  },
  {
   "cell_type": "markdown",
   "metadata": {},
   "source": [
    "<b><font size=4>Кодировка данных</font></b><a name=\"3.4.\"></a>\n",
    "[<font size=\"2\">(к содержанию)</font>](#to_content.)"
   ]
  },
  {
   "cell_type": "markdown",
   "metadata": {},
   "source": [
    "Теперь подготовим наши данные к обучению модели. Для начала уберём лишние признаки. После исследовательского анализа можно сказать, что уход клиента не связан с тем, сколько пробыл данный человек с банком. Равновероятно, что человек уйдёт как сразу, так и после 10 лет обслуживания в банке. Уберём и наличие кредитной карты. Я думаю, что этот признак уже указан в колличестве продуктов у данного пользователя. Так же мы выяснили, что в среднем зарплата клиента не влияет на то, что уйдёт человек или нет. А точнее, что средние в группах равны."
   ]
  },
  {
   "cell_type": "code",
   "execution_count": 36,
   "metadata": {},
   "outputs": [],
   "source": [
    "new_df = df.drop(columns=['Tenure', 'EstimatedSalary','HasCrCard'])"
   ]
  },
  {
   "cell_type": "markdown",
   "metadata": {},
   "source": [
    "Теперь разделим наши данные на признаки и целевой признак и перекодируем их. Приведём признак кредитного рейтинга в ординальную переменную и закодируем её. Остальные признаки номинативные, так что здесь хорошо зайдёт OHE кодировка. Т.к. мы в дальнейшем будем использовать модели деревьев, то колличественные переменные кодировать не будем."
   ]
  },
  {
   "cell_type": "code",
   "execution_count": 37,
   "metadata": {},
   "outputs": [],
   "source": [
    "bins = [0,500,600,650,690, 850]\n",
    "labels = [1,2,3,4,5]\n",
    "new_df['CreditScore_cats'] = pd.cut(new_df['CreditScore'], bins=bins, labels=labels)"
   ]
  },
  {
   "cell_type": "code",
   "execution_count": 38,
   "metadata": {},
   "outputs": [],
   "source": [
    "new_df = new_df.drop(columns=['CreditScore'])"
   ]
  },
  {
   "cell_type": "markdown",
   "metadata": {},
   "source": [
    "Теперь разделим нашу выборки на тестовую и обучающую. "
   ]
  },
  {
   "cell_type": "code",
   "execution_count": 39,
   "metadata": {},
   "outputs": [],
   "source": [
    "features_train, features_test, target_train, target_test = train_test_split(\n",
    "    new_df.drop(['Exited'], axis=1), new_df['Exited'], test_size=0.25, random_state=42, stratify=new_df['Exited'])"
   ]
  },
  {
   "cell_type": "markdown",
   "metadata": {},
   "source": [
    "Перекодируем наши признаки."
   ]
  },
  {
   "cell_type": "code",
   "execution_count": 40,
   "metadata": {},
   "outputs": [],
   "source": [
    "ce_one_hot = ce.OneHotEncoder(cols=['Geography', 'Gender'])\n",
    "features_train = ce_one_hot.fit_transform(features_train, target_train)\n",
    "features_test = ce_one_hot.transform(features_test, target_test)"
   ]
  },
  {
   "cell_type": "code",
   "execution_count": 41,
   "metadata": {},
   "outputs": [],
   "source": [
    "ce_ord = ce.OrdinalEncoder(cols = ['NumOfProducts', 'CreditScore_cats'])\n",
    "features_train = ce_ord.fit_transform(features_train, target_train)\n",
    "features_test = ce_ord.transform(features_test, target_test)"
   ]
  },
  {
   "cell_type": "markdown",
   "metadata": {},
   "source": [
    "Уравновесим наш баланс в выборке оверсэмплингом. Для этого будем использовать алгоритм SMOTE, основанный на идее генерации некоторого количества искусственных примеров, которые были бы «похожи» на имеющиеся в миноритарном классе, но при этом не дублировали их."
   ]
  },
  {
   "cell_type": "code",
   "execution_count": 42,
   "metadata": {},
   "outputs": [
    {
     "data": {
      "text/html": [
       "<div>\n",
       "<style scoped>\n",
       "    .dataframe tbody tr th:only-of-type {\n",
       "        vertical-align: middle;\n",
       "    }\n",
       "\n",
       "    .dataframe tbody tr th {\n",
       "        vertical-align: top;\n",
       "    }\n",
       "\n",
       "    .dataframe thead th {\n",
       "        text-align: right;\n",
       "    }\n",
       "</style>\n",
       "<table border=\"1\" class=\"dataframe\">\n",
       "  <thead>\n",
       "    <tr style=\"text-align: right;\">\n",
       "      <th></th>\n",
       "      <th>Geography_1</th>\n",
       "      <th>Geography_2</th>\n",
       "      <th>Geography_3</th>\n",
       "      <th>Gender_1</th>\n",
       "      <th>Gender_2</th>\n",
       "      <th>Age</th>\n",
       "      <th>Balance</th>\n",
       "      <th>NumOfProducts</th>\n",
       "      <th>IsActiveMember</th>\n",
       "      <th>CreditScore_cats</th>\n",
       "    </tr>\n",
       "  </thead>\n",
       "  <tbody>\n",
       "    <tr>\n",
       "      <th>9570</th>\n",
       "      <td>0</td>\n",
       "      <td>1</td>\n",
       "      <td>0</td>\n",
       "      <td>0</td>\n",
       "      <td>0</td>\n",
       "      <td>38</td>\n",
       "      <td>117304.14275</td>\n",
       "      <td>2</td>\n",
       "      <td>0</td>\n",
       "      <td>5</td>\n",
       "    </tr>\n",
       "    <tr>\n",
       "      <th>4985</th>\n",
       "      <td>1</td>\n",
       "      <td>0</td>\n",
       "      <td>0</td>\n",
       "      <td>0</td>\n",
       "      <td>1</td>\n",
       "      <td>52</td>\n",
       "      <td>0.00000</td>\n",
       "      <td>2</td>\n",
       "      <td>1</td>\n",
       "      <td>2</td>\n",
       "    </tr>\n",
       "    <tr>\n",
       "      <th>1389</th>\n",
       "      <td>1</td>\n",
       "      <td>0</td>\n",
       "      <td>0</td>\n",
       "      <td>1</td>\n",
       "      <td>0</td>\n",
       "      <td>42</td>\n",
       "      <td>0.00000</td>\n",
       "      <td>1</td>\n",
       "      <td>0</td>\n",
       "      <td>4</td>\n",
       "    </tr>\n",
       "    <tr>\n",
       "      <th>10010</th>\n",
       "      <td>1</td>\n",
       "      <td>0</td>\n",
       "      <td>0</td>\n",
       "      <td>1</td>\n",
       "      <td>0</td>\n",
       "      <td>44</td>\n",
       "      <td>0.00000</td>\n",
       "      <td>2</td>\n",
       "      <td>1</td>\n",
       "      <td>3</td>\n",
       "    </tr>\n",
       "    <tr>\n",
       "      <th>5923</th>\n",
       "      <td>1</td>\n",
       "      <td>0</td>\n",
       "      <td>0</td>\n",
       "      <td>1</td>\n",
       "      <td>0</td>\n",
       "      <td>20</td>\n",
       "      <td>133800.98000</td>\n",
       "      <td>2</td>\n",
       "      <td>1</td>\n",
       "      <td>5</td>\n",
       "    </tr>\n",
       "  </tbody>\n",
       "</table>\n",
       "</div>"
      ],
      "text/plain": [
       "       Geography_1  Geography_2  Geography_3  Gender_1  Gender_2  Age  \\\n",
       "9570             0            1            0         0         0   38   \n",
       "4985             1            0            0         0         1   52   \n",
       "1389             1            0            0         1         0   42   \n",
       "10010            1            0            0         1         0   44   \n",
       "5923             1            0            0         1         0   20   \n",
       "\n",
       "            Balance  NumOfProducts  IsActiveMember  CreditScore_cats  \n",
       "9570   117304.14275              2               0                 5  \n",
       "4985        0.00000              2               1                 2  \n",
       "1389        0.00000              1               0                 4  \n",
       "10010       0.00000              2               1                 3  \n",
       "5923   133800.98000              2               1                 5  "
      ]
     },
     "execution_count": 42,
     "metadata": {},
     "output_type": "execute_result"
    }
   ],
   "source": [
    "features_oversampled, target_oversampled = SMOTE(random_state=0).fit_resample(features_train, target_train)\n",
    "features_oversampled.sample(5)"
   ]
  },
  {
   "cell_type": "code",
   "execution_count": 43,
   "metadata": {},
   "outputs": [
    {
     "data": {
      "text/plain": [
       "1    0.5\n",
       "0    0.5\n",
       "Name: Exited, dtype: float64"
      ]
     },
     "execution_count": 43,
     "metadata": {},
     "output_type": "execute_result"
    }
   ],
   "source": [
    "target_oversampled.value_counts(normalize=True)"
   ]
  },
  {
   "cell_type": "markdown",
   "metadata": {},
   "source": [
    "Теперь путем случайного отбора уравновесим нашу выборку андерсэмплингом."
   ]
  },
  {
   "cell_type": "code",
   "execution_count": 44,
   "metadata": {},
   "outputs": [
    {
     "data": {
      "text/html": [
       "<div>\n",
       "<style scoped>\n",
       "    .dataframe tbody tr th:only-of-type {\n",
       "        vertical-align: middle;\n",
       "    }\n",
       "\n",
       "    .dataframe tbody tr th {\n",
       "        vertical-align: top;\n",
       "    }\n",
       "\n",
       "    .dataframe thead th {\n",
       "        text-align: right;\n",
       "    }\n",
       "</style>\n",
       "<table border=\"1\" class=\"dataframe\">\n",
       "  <thead>\n",
       "    <tr style=\"text-align: right;\">\n",
       "      <th></th>\n",
       "      <th>Geography_1</th>\n",
       "      <th>Geography_2</th>\n",
       "      <th>Geography_3</th>\n",
       "      <th>Gender_1</th>\n",
       "      <th>Gender_2</th>\n",
       "      <th>Age</th>\n",
       "      <th>Balance</th>\n",
       "      <th>NumOfProducts</th>\n",
       "      <th>IsActiveMember</th>\n",
       "      <th>CreditScore_cats</th>\n",
       "    </tr>\n",
       "  </thead>\n",
       "  <tbody>\n",
       "    <tr>\n",
       "      <th>2497</th>\n",
       "      <td>1</td>\n",
       "      <td>0</td>\n",
       "      <td>0</td>\n",
       "      <td>0</td>\n",
       "      <td>1</td>\n",
       "      <td>32</td>\n",
       "      <td>0.00</td>\n",
       "      <td>1</td>\n",
       "      <td>0</td>\n",
       "      <td>5</td>\n",
       "    </tr>\n",
       "    <tr>\n",
       "      <th>2748</th>\n",
       "      <td>0</td>\n",
       "      <td>1</td>\n",
       "      <td>0</td>\n",
       "      <td>0</td>\n",
       "      <td>1</td>\n",
       "      <td>40</td>\n",
       "      <td>107949.45</td>\n",
       "      <td>2</td>\n",
       "      <td>0</td>\n",
       "      <td>3</td>\n",
       "    </tr>\n",
       "    <tr>\n",
       "      <th>3054</th>\n",
       "      <td>0</td>\n",
       "      <td>0</td>\n",
       "      <td>1</td>\n",
       "      <td>0</td>\n",
       "      <td>1</td>\n",
       "      <td>42</td>\n",
       "      <td>41473.33</td>\n",
       "      <td>2</td>\n",
       "      <td>0</td>\n",
       "      <td>4</td>\n",
       "    </tr>\n",
       "    <tr>\n",
       "      <th>2254</th>\n",
       "      <td>1</td>\n",
       "      <td>0</td>\n",
       "      <td>0</td>\n",
       "      <td>1</td>\n",
       "      <td>0</td>\n",
       "      <td>54</td>\n",
       "      <td>0.00</td>\n",
       "      <td>2</td>\n",
       "      <td>0</td>\n",
       "      <td>4</td>\n",
       "    </tr>\n",
       "    <tr>\n",
       "      <th>231</th>\n",
       "      <td>1</td>\n",
       "      <td>0</td>\n",
       "      <td>0</td>\n",
       "      <td>1</td>\n",
       "      <td>0</td>\n",
       "      <td>39</td>\n",
       "      <td>112687.69</td>\n",
       "      <td>2</td>\n",
       "      <td>1</td>\n",
       "      <td>2</td>\n",
       "    </tr>\n",
       "  </tbody>\n",
       "</table>\n",
       "</div>"
      ],
      "text/plain": [
       "      Geography_1  Geography_2  Geography_3  Gender_1  Gender_2  Age  \\\n",
       "2497            1            0            0         0         1   32   \n",
       "2748            0            1            0         0         1   40   \n",
       "3054            0            0            1         0         1   42   \n",
       "2254            1            0            0         1         0   54   \n",
       "231             1            0            0         1         0   39   \n",
       "\n",
       "        Balance  NumOfProducts  IsActiveMember  CreditScore_cats  \n",
       "2497       0.00              1               0                 5  \n",
       "2748  107949.45              2               0                 3  \n",
       "3054   41473.33              2               0                 4  \n",
       "2254       0.00              2               0                 4  \n",
       "231   112687.69              2               1                 2  "
      ]
     },
     "execution_count": 44,
     "metadata": {},
     "output_type": "execute_result"
    }
   ],
   "source": [
    "rus = RandomUnderSampler()\n",
    "features_undersampled, target_undersampled = rus.fit_resample(features_train, target_train)\n",
    "features_undersampled.sample(5)"
   ]
  },
  {
   "cell_type": "code",
   "execution_count": 45,
   "metadata": {},
   "outputs": [
    {
     "data": {
      "text/plain": [
       "1    0.5\n",
       "0    0.5\n",
       "Name: Exited, dtype: float64"
      ]
     },
     "execution_count": 45,
     "metadata": {},
     "output_type": "execute_result"
    }
   ],
   "source": [
    "target_undersampled.value_counts(normalize=True)"
   ]
  },
  {
   "cell_type": "markdown",
   "metadata": {},
   "source": [
    "<b><font size=4>Обший вывод по данному шагу</font></b><a name=\"3.5.\"></a>\n",
    "[<font size=\"2\">(к содержанию)</font>](#to_content.)"
   ]
  },
  {
   "cell_type": "markdown",
   "metadata": {},
   "source": [
    "В данном шаге мы провели стат.анализ. Посмотрели на более выраженые признаки. Лишние отбросили. Так же закодировали наши переменные под обучение моделей с деревьями. Так же уравновесили наши выборки двумя разными методами. "
   ]
  },
  {
   "cell_type": "markdown",
   "metadata": {},
   "source": [
    "<b><font size=5>Обучение модели</font></b><a name=\"4.\"></a>\n",
    "[<font size=\"2\">(к содержанию)</font>](#to_content.)"
   ]
  },
  {
   "cell_type": "markdown",
   "metadata": {},
   "source": [
    "Теперь приступим к обучению модели и посмотрим какая из них поведёт себя лучше и на каких выборках. Оценивать будем по F1 оценке."
   ]
  },
  {
   "cell_type": "code",
   "execution_count": 46,
   "metadata": {},
   "outputs": [
    {
     "name": "stdout",
     "output_type": "stream",
     "text": [
      "F1 лучшей модели 0.5736837375252237 с параметрами {'max_depth': 12, 'n_estimators': 40}\n"
     ]
    }
   ],
   "source": [
    "clf_rfc = RandomForestClassifier()\n",
    "parametrs_rfc = {'n_estimators': range (10, 61, 10), 'max_depth': range (1,15)}\n",
    "grid_rfc = GridSearchCV(clf_rfc, parametrs_rfc, cv=5, n_jobs=-1, scoring='f1')\n",
    "grid_rfc.fit(features_train, target_train)\n",
    "print('F1 лучшей модели', grid_rfc.best_score_, 'с параметрами', grid_rfc.best_params_ )"
   ]
  },
  {
   "cell_type": "code",
   "execution_count": 47,
   "metadata": {},
   "outputs": [
    {
     "name": "stdout",
     "output_type": "stream",
     "text": [
      "F1-оценка лучшей модели 0.8596480921149384 с параметрами {'max_depth': 14, 'n_estimators': 80}\n"
     ]
    }
   ],
   "source": [
    "clf_rfc_ov = RandomForestClassifier()\n",
    "parametrs_rfc_ov = {'n_estimators': range (10, 91, 10), 'max_depth': range (1,25)}\n",
    "grid_rfc_ov = GridSearchCV(clf_rfc_ov, parametrs_rfc_ov, cv=5, n_jobs=-1, scoring='f1')\n",
    "grid_rfc_ov.fit(features_oversampled, target_oversampled)\n",
    "print('F1-оценка лучшей модели', grid_rfc_ov.best_score_, 'с параметрами', grid_rfc_ov.best_params_ )"
   ]
  },
  {
   "cell_type": "code",
   "execution_count": 48,
   "metadata": {},
   "outputs": [
    {
     "name": "stdout",
     "output_type": "stream",
     "text": [
      "F1-оценка лучшей модели 0.7840947892988843 с параметрами {'max_depth': 8, 'n_estimators': 70}\n"
     ]
    }
   ],
   "source": [
    "clf_rfc_und = RandomForestClassifier()\n",
    "parametrs_rfc_und = {'n_estimators': range (10, 91, 10), 'max_depth': range (1,20)}\n",
    "grid_rfc_und = GridSearchCV(clf_rfc_und, parametrs_rfc_und, cv=5, n_jobs=-1, scoring='f1')\n",
    "grid_rfc_und.fit(features_undersampled, target_undersampled)\n",
    "print('F1-оценка лучшей модели', grid_rfc_und.best_score_, 'с параметрами', grid_rfc_und.best_params_ )"
   ]
  },
  {
   "cell_type": "code",
   "execution_count": 49,
   "metadata": {},
   "outputs": [
    {
     "name": "stdout",
     "output_type": "stream",
     "text": [
      "F1-оценка лучшей модели 0.5444375397376746 с параметрами {'max_depth': 9}\n"
     ]
    }
   ],
   "source": [
    "clf_dtc = DecisionTreeClassifier()\n",
    "parametrs_dtc = {'max_depth': range (1,31)}\n",
    "grid_dtc = GridSearchCV(clf_dtc, parametrs_dtc, cv=5, n_jobs=-1, scoring='f1')\n",
    "grid_dtc.fit(features_train, target_train)\n",
    "print('F1-оценка лучшей модели', grid_dtc.best_score_, 'с параметрами', grid_dtc.best_params_ )"
   ]
  },
  {
   "cell_type": "code",
   "execution_count": 50,
   "metadata": {},
   "outputs": [
    {
     "name": "stdout",
     "output_type": "stream",
     "text": [
      "F1-оценка лучшей модели 0.8327300121924331 с параметрами {'max_depth': 13}\n"
     ]
    }
   ],
   "source": [
    "clf_dtc_ov = DecisionTreeClassifier()\n",
    "parametrs_dtc_ov = {'max_depth': range (1,31)}\n",
    "grid_dtc_ov = GridSearchCV(clf_dtc_ov, parametrs_dtc_ov, cv=5, n_jobs=-1, scoring='f1')\n",
    "grid_dtc_ov.fit(features_oversampled, target_oversampled)\n",
    "print('F1-оценка лучшей модели', grid_dtc_ov.best_score_, 'с параметрами', grid_dtc_ov.best_params_ )"
   ]
  },
  {
   "cell_type": "code",
   "execution_count": 51,
   "metadata": {},
   "outputs": [
    {
     "name": "stdout",
     "output_type": "stream",
     "text": [
      "F1-оценка лучшей модели 0.7643756119135033 с параметрами {'max_depth': 6}\n"
     ]
    }
   ],
   "source": [
    "clf_dtc_und = DecisionTreeClassifier()\n",
    "parametrs_dtc_und = {'max_depth': range (1,31)}\n",
    "grid_dtc_und = GridSearchCV(clf_dtc_und, parametrs_dtc_und, cv=5, n_jobs=-1, scoring='f1')\n",
    "grid_dtc_und.fit(features_undersampled, target_undersampled)\n",
    "print('F1-оценка лучшей модели', grid_dtc_und.best_score_, 'с параметрами', grid_dtc_und.best_params_ )"
   ]
  },
  {
   "cell_type": "code",
   "execution_count": 52,
   "metadata": {},
   "outputs": [],
   "source": [
    "best_model = grid_rfc_ov.best_estimator_"
   ]
  },
  {
   "cell_type": "markdown",
   "metadata": {},
   "source": [
    "<b><font size=4>Вывод по данному шагу</font></b><a name=\"4.1\"></a>\n",
    "[<font size=\"2\">(к содержанию)</font>](#to_content.)"
   ]
  },
  {
   "cell_type": "markdown",
   "metadata": {},
   "source": [
    "Наилучшую оценку нам показала модель случайного леса с оверсемплингом. Приведём тестирование и посмотрим на результаты."
   ]
  },
  {
   "cell_type": "markdown",
   "metadata": {},
   "source": [
    "<b><font size=5>Тестирование модели</font></b><a name=\"5.\"></a>\n",
    "[<font size=\"2\">(к содержанию)</font>](#to_content.)"
   ]
  },
  {
   "cell_type": "code",
   "execution_count": 53,
   "metadata": {},
   "outputs": [],
   "source": [
    "def draw_ROC(target, features, model):\n",
    "    fpr, tpr, thresholds = roc_curve(target, model.predict_proba(features)[:,1], pos_label=1)\n",
    "    plt.figure(figsize=(12, 10))\n",
    "    plt.plot(fpr, tpr)\n",
    "    plt.xlim([0.0, 1.0])\n",
    "    plt.ylim([0.0, 1.0])\n",
    "    plt.xlabel('False Positive Rate')\n",
    "    plt.ylabel('True Positive Rate')\n",
    "    plt.title('ROC-кривая')\n",
    "    plt.plot([0, 1], [0, 1], linestyle='--')\n",
    "    plt.show() "
   ]
  },
  {
   "cell_type": "code",
   "execution_count": 54,
   "metadata": {},
   "outputs": [
    {
     "data": {
      "image/png": "[encoded data removed]",
      "text/plain": [
       "<Figure size 864x720 with 1 Axes>"
      ]
     },
     "metadata": {},
     "output_type": "display_data"
    }
   ],
   "source": [
    "draw_ROC(target_test, features_test, best_model)"
   ]
  },
  {
   "cell_type": "code",
   "execution_count": 55,
   "metadata": {},
   "outputs": [
    {
     "data": {
      "text/plain": [
       "0.5935114503816793"
      ]
     },
     "execution_count": 55,
     "metadata": {},
     "output_type": "execute_result"
    }
   ],
   "source": [
    "predicted_test = best_model.predict(features_test)\n",
    "f1_score(target_test, predicted_test)"
   ]
  },
  {
   "cell_type": "code",
   "execution_count": 56,
   "metadata": {},
   "outputs": [
    {
     "name": "stdout",
     "output_type": "stream",
     "text": [
      "              precision    recall  f1-score   support\n",
      "\n",
      "           0       0.90      0.89      0.89      1991\n",
      "           1       0.58      0.61      0.59       509\n",
      "\n",
      "    accuracy                           0.83      2500\n",
      "   macro avg       0.74      0.75      0.74      2500\n",
      "weighted avg       0.83      0.83      0.83      2500\n",
      "\n"
     ]
    }
   ],
   "source": [
    "print(classification_report(target_test,predicted_test))"
   ]
  },
  {
   "cell_type": "code",
   "execution_count": 57,
   "metadata": {},
   "outputs": [
    {
     "data": {
      "text/plain": [
       "Text(0.5, 1.05, 'Confusion_matrix')"
      ]
     },
     "execution_count": 57,
     "metadata": {},
     "output_type": "execute_result"
    },
    {
     "data": {
      "image/png": "[encoded data removed]",
      "text/plain": [
       "<Figure size 432x288 with 2 Axes>"
      ]
     },
     "metadata": {},
     "output_type": "display_data"
    }
   ],
   "source": [
    "sns.heatmap(confusion_matrix(target_test, predicted_test),annot=True,fmt='3.0f',cmap=\"summer\")\n",
    "plt.title('Confusion_matrix', y=1.05, size=15)"
   ]
  },
  {
   "cell_type": "markdown",
   "metadata": {},
   "source": [
    "<b><font size=4>Вывод по данному шагу</font></b><a name=\"5.1\"></a>\n",
    "[<font size=\"2\">(к содержанию)</font>](#to_content.)"
   ]
  },
  {
   "cell_type": "markdown",
   "metadata": {},
   "source": [
    "Итак, f1 оценка на тестовой модели показала нам 0.60. Roc-кривая показала нам неплохие результаты, которые говорят, что модель предсказывала не случайно и чаще отвечала верно."
   ]
  },
  {
   "cell_type": "code",
   "execution_count": null,
   "metadata": {},
   "outputs": [],
   "source": []
  }
 ],
 "metadata": {
  "kernelspec": {
   "display_name": "Python 3",
   "language": "python",
   "name": "python3"
  },
  "language_info": {
   "codemirror_mode": {
    "name": "ipython",
    "version": 3
   },
   "file_extension": ".py",
   "mimetype": "text/x-python",
   "name": "python",
   "nbconvert_exporter": "python",
   "pygments_lexer": "ipython3",
   "version": "3.8.3"
  },
  "toc": {
   "base_numbering": 1,
   "nav_menu": {},
   "number_sections": true,
   "sideBar": true,
   "skip_h1_title": true,
   "title_cell": "Содержание",
   "title_sidebar": "Contents",
   "toc_cell": true,
   "toc_position": {},
   "toc_section_display": true,
   "toc_window_display": false
  }
 },
 "nbformat": 4,
 "nbformat_minor": 2
}
