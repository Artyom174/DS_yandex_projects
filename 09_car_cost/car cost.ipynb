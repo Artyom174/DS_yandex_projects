{
 "cells": [
  {
   "cell_type": "markdown",
   "metadata": {},
   "source": [
    "<b><font size=5>Определение стоимости автомобилей</font></b><a name=\"0.\"></a>"
   ]
  },
  {
   "cell_type": "markdown",
   "metadata": {},
   "source": [
    "В данной работе необходимо построить модель для определения стоимости. В распоряжении исторические данные: технические характеристики, комплектации и цены автомобилей.\n",
    "\n",
    "Заказчику важны:\n",
    "\n",
    "* качество предсказания\n",
    "* скорость предсказания\n",
    "* время обучения."
   ]
  },
  {
   "cell_type": "markdown",
   "metadata": {},
   "source": [
    "<b><font size=5>Содержание</font></b><a name=\"to_content.\"></a>\n",
    "* [Описание проекта](#0.)\n",
    "* [Описание данных](#1.)\n",
    "* [Задачи](#2.)\n",
    "*  [Подготовка и исследование данных](#3.)\n",
    "     - [Первые выводы](#3.1.)\n",
    "     - [Первичная предобработка](#3.2.)     \n",
    "     - [Обработка пропусков](#3.3.)\n",
    "     - [Кодировка данных](#3.4.)\n",
    "* [Обчение моделей](#4.) \n",
    "* [Общий вывод](#5.)"
   ]
  },
  {
   "cell_type": "markdown",
   "metadata": {},
   "source": [
    "<b><font size=5>Описание данных</font></b><a name=\"1.\"></a>\n",
    "[<font size=\"2\">(к содержанию)</font>](#to_content.)"
   ]
  },
  {
   "cell_type": "markdown",
   "metadata": {},
   "source": [
    "<b>Признаки</b>\n",
    "\n",
    "* DateCrawled — дата скачивания анкеты из базы\n",
    "* VehicleType — тип автомобильного кузова\n",
    "* RegistrationYear — год регистрации автомобиля\n",
    "* Gearbox — тип коробки передач\n",
    "* Power — мощность (л. с.)\n",
    "* Model — модель автомобиля\n",
    "* Kilometer — пробег (км)\n",
    "* RegistrationMonth — месяц регистрации автомобиля\n",
    "* FuelType — тип топлива\n",
    "* Brand — марка автомобиля\n",
    "* NotRepaired — была машина в ремонте или нет\n",
    "* DateCreated — дата создания анкеты\n",
    "* NumberOfPictures — количество фотографий автомобиля\n",
    "* PostalCode — почтовый индекс владельца анкеты (пользователя)\n",
    "* LastSeen — дата последней активности пользователя\n",
    "\n",
    "<b>Целевой признак</b>\n",
    "\n",
    "* Price — цена (евро)"
   ]
  },
  {
   "cell_type": "markdown",
   "metadata": {},
   "source": [
    "<b><font size=5>Задачи:</font></b><a name=\"2.\"></a>\n",
    "[<font size=\"2\">(к содержанию)</font>](#to_content.)"
   ]
  },
  {
   "cell_type": "markdown",
   "metadata": {},
   "source": [
    "1. Загрузить,подготовить и исследовать данные.\n",
    "2. Обучить разные модели. \n",
    "3. Проанализировать скорость работы и качество моделей.\n",
    "4. Выбрать наулилучшую модель по 3 параметрам: качество, скорость и время обучения."
   ]
  },
  {
   "cell_type": "markdown",
   "metadata": {},
   "source": [
    "<b><font size=5>Подготовка и исследование данных</font></b><a name=\"3.\"></a>\n",
    "[<font size=\"2\">(к содержанию)</font>](#to_content.)"
   ]
  },
  {
   "cell_type": "code",
   "execution_count": 1,
   "metadata": {},
   "outputs": [],
   "source": [
    "import pandas as pd\n",
    "\n",
    "import time\n",
    "\n",
    "import seaborn as sns\n",
    "import matplotlib.pyplot as plt\n",
    "%matplotlib inline\n",
    "\n",
    "from sklearn.model_selection import cross_val_score, RandomizedSearchCV, GridSearchCV, train_test_split\n",
    "\n",
    "import category_encoders as ce\n",
    "from sklearn.preprocessing import StandardScaler\n",
    "\n",
    "from sklearn.linear_model import Lasso\n",
    "from catboost import CatBoostRegressor\n",
    "from lightgbm import LGBMRegressor\n",
    "from sklearn.ensemble import RandomForestRegressor\n",
    "from sklearn.tree import DecisionTreeRegressor\n",
    "from sklearn.dummy import DummyRegressor\n",
    "\n",
    "from sklearn.metrics import mean_squared_error, make_scorer"
   ]
  },
  {
   "cell_type": "code",
   "execution_count": 2,
   "metadata": {},
   "outputs": [],
   "source": [
    "df = pd.read_csv('***')"
   ]
  },
  {
   "cell_type": "code",
   "execution_count": 3,
   "metadata": {},
   "outputs": [
    {
     "data": {
      "text/html": [
       "<div>\n",
       "<style scoped>\n",
       "    .dataframe tbody tr th:only-of-type {\n",
       "        vertical-align: middle;\n",
       "    }\n",
       "\n",
       "    .dataframe tbody tr th {\n",
       "        vertical-align: top;\n",
       "    }\n",
       "\n",
       "    .dataframe thead th {\n",
       "        text-align: right;\n",
       "    }\n",
       "</style>\n",
       "<table border=\"1\" class=\"dataframe\">\n",
       "  <thead>\n",
       "    <tr style=\"text-align: right;\">\n",
       "      <th></th>\n",
       "      <th>DateCrawled</th>\n",
       "      <th>Price</th>\n",
       "      <th>VehicleType</th>\n",
       "      <th>RegistrationYear</th>\n",
       "      <th>Gearbox</th>\n",
       "      <th>Power</th>\n",
       "      <th>Model</th>\n",
       "      <th>Kilometer</th>\n",
       "      <th>RegistrationMonth</th>\n",
       "      <th>FuelType</th>\n",
       "      <th>Brand</th>\n",
       "      <th>NotRepaired</th>\n",
       "      <th>DateCreated</th>\n",
       "      <th>NumberOfPictures</th>\n",
       "      <th>PostalCode</th>\n",
       "      <th>LastSeen</th>\n",
       "    </tr>\n",
       "  </thead>\n",
       "  <tbody>\n",
       "    <tr>\n",
       "      <th>174758</th>\n",
       "      <td>2016-03-31 09:36:43</td>\n",
       "      <td>500</td>\n",
       "      <td>small</td>\n",
       "      <td>1998</td>\n",
       "      <td>manual</td>\n",
       "      <td>60</td>\n",
       "      <td>ibiza</td>\n",
       "      <td>100000</td>\n",
       "      <td>3</td>\n",
       "      <td>petrol</td>\n",
       "      <td>seat</td>\n",
       "      <td>no</td>\n",
       "      <td>2016-03-31 00:00:00</td>\n",
       "      <td>0</td>\n",
       "      <td>34346</td>\n",
       "      <td>2016-04-06 03:44:31</td>\n",
       "    </tr>\n",
       "    <tr>\n",
       "      <th>142771</th>\n",
       "      <td>2016-03-27 20:49:20</td>\n",
       "      <td>3899</td>\n",
       "      <td>wagon</td>\n",
       "      <td>2001</td>\n",
       "      <td>manual</td>\n",
       "      <td>131</td>\n",
       "      <td>passat</td>\n",
       "      <td>150000</td>\n",
       "      <td>5</td>\n",
       "      <td>gasoline</td>\n",
       "      <td>volkswagen</td>\n",
       "      <td>no</td>\n",
       "      <td>2016-03-27 00:00:00</td>\n",
       "      <td>0</td>\n",
       "      <td>98673</td>\n",
       "      <td>2016-04-05 19:45:26</td>\n",
       "    </tr>\n",
       "    <tr>\n",
       "      <th>225380</th>\n",
       "      <td>2016-03-27 10:07:41</td>\n",
       "      <td>0</td>\n",
       "      <td>convertible</td>\n",
       "      <td>1997</td>\n",
       "      <td>manual</td>\n",
       "      <td>150</td>\n",
       "      <td>3er</td>\n",
       "      <td>150000</td>\n",
       "      <td>5</td>\n",
       "      <td>petrol</td>\n",
       "      <td>bmw</td>\n",
       "      <td>no</td>\n",
       "      <td>2016-03-26 00:00:00</td>\n",
       "      <td>0</td>\n",
       "      <td>65366</td>\n",
       "      <td>2016-03-27 20:28:02</td>\n",
       "    </tr>\n",
       "    <tr>\n",
       "      <th>267082</th>\n",
       "      <td>2016-03-29 19:48:41</td>\n",
       "      <td>0</td>\n",
       "      <td>sedan</td>\n",
       "      <td>1994</td>\n",
       "      <td>manual</td>\n",
       "      <td>103</td>\n",
       "      <td>3er</td>\n",
       "      <td>150000</td>\n",
       "      <td>7</td>\n",
       "      <td>petrol</td>\n",
       "      <td>bmw</td>\n",
       "      <td>yes</td>\n",
       "      <td>2016-03-29 00:00:00</td>\n",
       "      <td>0</td>\n",
       "      <td>53819</td>\n",
       "      <td>2016-04-06 05:46:39</td>\n",
       "    </tr>\n",
       "    <tr>\n",
       "      <th>136746</th>\n",
       "      <td>2016-03-06 11:43:21</td>\n",
       "      <td>4999</td>\n",
       "      <td>small</td>\n",
       "      <td>2009</td>\n",
       "      <td>manual</td>\n",
       "      <td>101</td>\n",
       "      <td>clio</td>\n",
       "      <td>125000</td>\n",
       "      <td>9</td>\n",
       "      <td>petrol</td>\n",
       "      <td>renault</td>\n",
       "      <td>no</td>\n",
       "      <td>2016-03-06 00:00:00</td>\n",
       "      <td>0</td>\n",
       "      <td>63179</td>\n",
       "      <td>2016-04-06 05:46:02</td>\n",
       "    </tr>\n",
       "    <tr>\n",
       "      <th>322124</th>\n",
       "      <td>2016-03-31 07:57:40</td>\n",
       "      <td>1500</td>\n",
       "      <td>coupe</td>\n",
       "      <td>1997</td>\n",
       "      <td>manual</td>\n",
       "      <td>125</td>\n",
       "      <td>a3</td>\n",
       "      <td>150000</td>\n",
       "      <td>1</td>\n",
       "      <td>petrol</td>\n",
       "      <td>audi</td>\n",
       "      <td>NaN</td>\n",
       "      <td>2016-03-31 00:00:00</td>\n",
       "      <td>0</td>\n",
       "      <td>45326</td>\n",
       "      <td>2016-04-06 02:17:33</td>\n",
       "    </tr>\n",
       "    <tr>\n",
       "      <th>238809</th>\n",
       "      <td>2016-03-10 21:48:25</td>\n",
       "      <td>3500</td>\n",
       "      <td>small</td>\n",
       "      <td>2009</td>\n",
       "      <td>manual</td>\n",
       "      <td>75</td>\n",
       "      <td>sandero</td>\n",
       "      <td>80000</td>\n",
       "      <td>8</td>\n",
       "      <td>petrol</td>\n",
       "      <td>dacia</td>\n",
       "      <td>yes</td>\n",
       "      <td>2016-03-10 00:00:00</td>\n",
       "      <td>0</td>\n",
       "      <td>58332</td>\n",
       "      <td>2016-04-06 22:15:49</td>\n",
       "    </tr>\n",
       "    <tr>\n",
       "      <th>309553</th>\n",
       "      <td>2016-04-04 15:54:46</td>\n",
       "      <td>700</td>\n",
       "      <td>wagon</td>\n",
       "      <td>1999</td>\n",
       "      <td>manual</td>\n",
       "      <td>136</td>\n",
       "      <td>omega</td>\n",
       "      <td>150000</td>\n",
       "      <td>9</td>\n",
       "      <td>petrol</td>\n",
       "      <td>opel</td>\n",
       "      <td>no</td>\n",
       "      <td>2016-04-04 00:00:00</td>\n",
       "      <td>0</td>\n",
       "      <td>21438</td>\n",
       "      <td>2016-04-04 15:54:46</td>\n",
       "    </tr>\n",
       "    <tr>\n",
       "      <th>78525</th>\n",
       "      <td>2016-03-16 18:51:50</td>\n",
       "      <td>6449</td>\n",
       "      <td>wagon</td>\n",
       "      <td>2006</td>\n",
       "      <td>manual</td>\n",
       "      <td>102</td>\n",
       "      <td>a3</td>\n",
       "      <td>125000</td>\n",
       "      <td>8</td>\n",
       "      <td>petrol</td>\n",
       "      <td>audi</td>\n",
       "      <td>no</td>\n",
       "      <td>2016-03-16 00:00:00</td>\n",
       "      <td>0</td>\n",
       "      <td>33758</td>\n",
       "      <td>2016-03-19 17:17:26</td>\n",
       "    </tr>\n",
       "    <tr>\n",
       "      <th>144351</th>\n",
       "      <td>2016-03-19 20:56:33</td>\n",
       "      <td>2300</td>\n",
       "      <td>wagon</td>\n",
       "      <td>2000</td>\n",
       "      <td>manual</td>\n",
       "      <td>90</td>\n",
       "      <td>golf</td>\n",
       "      <td>150000</td>\n",
       "      <td>10</td>\n",
       "      <td>gasoline</td>\n",
       "      <td>volkswagen</td>\n",
       "      <td>no</td>\n",
       "      <td>2016-03-19 00:00:00</td>\n",
       "      <td>0</td>\n",
       "      <td>74544</td>\n",
       "      <td>2016-03-22 03:16:27</td>\n",
       "    </tr>\n",
       "  </tbody>\n",
       "</table>\n",
       "</div>"
      ],
      "text/plain": [
       "                DateCrawled  Price  VehicleType  RegistrationYear Gearbox  \\\n",
       "174758  2016-03-31 09:36:43    500        small              1998  manual   \n",
       "142771  2016-03-27 20:49:20   3899        wagon              2001  manual   \n",
       "225380  2016-03-27 10:07:41      0  convertible              1997  manual   \n",
       "267082  2016-03-29 19:48:41      0        sedan              1994  manual   \n",
       "136746  2016-03-06 11:43:21   4999        small              2009  manual   \n",
       "322124  2016-03-31 07:57:40   1500        coupe              1997  manual   \n",
       "238809  2016-03-10 21:48:25   3500        small              2009  manual   \n",
       "309553  2016-04-04 15:54:46    700        wagon              1999  manual   \n",
       "78525   2016-03-16 18:51:50   6449        wagon              2006  manual   \n",
       "144351  2016-03-19 20:56:33   2300        wagon              2000  manual   \n",
       "\n",
       "        Power    Model  Kilometer  RegistrationMonth  FuelType       Brand  \\\n",
       "174758     60    ibiza     100000                  3    petrol        seat   \n",
       "142771    131   passat     150000                  5  gasoline  volkswagen   \n",
       "225380    150      3er     150000                  5    petrol         bmw   \n",
       "267082    103      3er     150000                  7    petrol         bmw   \n",
       "136746    101     clio     125000                  9    petrol     renault   \n",
       "322124    125       a3     150000                  1    petrol        audi   \n",
       "238809     75  sandero      80000                  8    petrol       dacia   \n",
       "309553    136    omega     150000                  9    petrol        opel   \n",
       "78525     102       a3     125000                  8    petrol        audi   \n",
       "144351     90     golf     150000                 10  gasoline  volkswagen   \n",
       "\n",
       "       NotRepaired          DateCreated  NumberOfPictures  PostalCode  \\\n",
       "174758          no  2016-03-31 00:00:00                 0       34346   \n",
       "142771          no  2016-03-27 00:00:00                 0       98673   \n",
       "225380          no  2016-03-26 00:00:00                 0       65366   \n",
       "267082         yes  2016-03-29 00:00:00                 0       53819   \n",
       "136746          no  2016-03-06 00:00:00                 0       63179   \n",
       "322124         NaN  2016-03-31 00:00:00                 0       45326   \n",
       "238809         yes  2016-03-10 00:00:00                 0       58332   \n",
       "309553          no  2016-04-04 00:00:00                 0       21438   \n",
       "78525           no  2016-03-16 00:00:00                 0       33758   \n",
       "144351          no  2016-03-19 00:00:00                 0       74544   \n",
       "\n",
       "                   LastSeen  \n",
       "174758  2016-04-06 03:44:31  \n",
       "142771  2016-04-05 19:45:26  \n",
       "225380  2016-03-27 20:28:02  \n",
       "267082  2016-04-06 05:46:39  \n",
       "136746  2016-04-06 05:46:02  \n",
       "322124  2016-04-06 02:17:33  \n",
       "238809  2016-04-06 22:15:49  \n",
       "309553  2016-04-04 15:54:46  \n",
       "78525   2016-03-19 17:17:26  \n",
       "144351  2016-03-22 03:16:27  "
      ]
     },
     "execution_count": 3,
     "metadata": {},
     "output_type": "execute_result"
    }
   ],
   "source": [
    "df.sample(10)"
   ]
  },
  {
   "cell_type": "code",
   "execution_count": 4,
   "metadata": {},
   "outputs": [
    {
     "name": "stdout",
     "output_type": "stream",
     "text": [
      "<class 'pandas.core.frame.DataFrame'>\n",
      "RangeIndex: 354369 entries, 0 to 354368\n",
      "Data columns (total 16 columns):\n",
      " #   Column             Non-Null Count   Dtype \n",
      "---  ------             --------------   ----- \n",
      " 0   DateCrawled        354369 non-null  object\n",
      " 1   Price              354369 non-null  int64 \n",
      " 2   VehicleType        316879 non-null  object\n",
      " 3   RegistrationYear   354369 non-null  int64 \n",
      " 4   Gearbox            334536 non-null  object\n",
      " 5   Power              354369 non-null  int64 \n",
      " 6   Model              334664 non-null  object\n",
      " 7   Kilometer          354369 non-null  int64 \n",
      " 8   RegistrationMonth  354369 non-null  int64 \n",
      " 9   FuelType           321474 non-null  object\n",
      " 10  Brand              354369 non-null  object\n",
      " 11  NotRepaired        283215 non-null  object\n",
      " 12  DateCreated        354369 non-null  object\n",
      " 13  NumberOfPictures   354369 non-null  int64 \n",
      " 14  PostalCode         354369 non-null  int64 \n",
      " 15  LastSeen           354369 non-null  object\n",
      "dtypes: int64(7), object(9)\n",
      "memory usage: 43.3+ MB\n"
     ]
    }
   ],
   "source": [
    "df.info()"
   ]
  },
  {
   "cell_type": "code",
   "execution_count": 5,
   "metadata": {},
   "outputs": [
    {
     "data": {
      "text/plain": [
       "4"
      ]
     },
     "execution_count": 5,
     "metadata": {},
     "output_type": "execute_result"
    }
   ],
   "source": [
    "df.duplicated().sum()"
   ]
  },
  {
   "cell_type": "markdown",
   "metadata": {},
   "source": [
    "Дубликаты уберём сразу. Не так много, но всё же"
   ]
  },
  {
   "cell_type": "code",
   "execution_count": 6,
   "metadata": {},
   "outputs": [],
   "source": [
    "df.drop_duplicates(inplace=True)"
   ]
  },
  {
   "cell_type": "code",
   "execution_count": 7,
   "metadata": {},
   "outputs": [
    {
     "data": {
      "text/plain": [
       "DateCrawled              0\n",
       "Price                    0\n",
       "VehicleType          37490\n",
       "RegistrationYear         0\n",
       "Gearbox              19833\n",
       "Power                    0\n",
       "Model                19705\n",
       "Kilometer                0\n",
       "RegistrationMonth        0\n",
       "FuelType             32895\n",
       "Brand                    0\n",
       "NotRepaired          71154\n",
       "DateCreated              0\n",
       "NumberOfPictures         0\n",
       "PostalCode               0\n",
       "LastSeen                 0\n",
       "dtype: int64"
      ]
     },
     "execution_count": 7,
     "metadata": {},
     "output_type": "execute_result"
    }
   ],
   "source": [
    "df.isnull().sum()"
   ]
  },
  {
   "cell_type": "code",
   "execution_count": 8,
   "metadata": {},
   "outputs": [
    {
     "data": {
      "text/html": [
       "<div>\n",
       "<style scoped>\n",
       "    .dataframe tbody tr th:only-of-type {\n",
       "        vertical-align: middle;\n",
       "    }\n",
       "\n",
       "    .dataframe tbody tr th {\n",
       "        vertical-align: top;\n",
       "    }\n",
       "\n",
       "    .dataframe thead th {\n",
       "        text-align: right;\n",
       "    }\n",
       "</style>\n",
       "<table border=\"1\" class=\"dataframe\">\n",
       "  <thead>\n",
       "    <tr style=\"text-align: right;\">\n",
       "      <th></th>\n",
       "      <th>Price</th>\n",
       "      <th>RegistrationYear</th>\n",
       "      <th>Power</th>\n",
       "      <th>Kilometer</th>\n",
       "      <th>RegistrationMonth</th>\n",
       "      <th>NumberOfPictures</th>\n",
       "      <th>PostalCode</th>\n",
       "    </tr>\n",
       "  </thead>\n",
       "  <tbody>\n",
       "    <tr>\n",
       "      <th>count</th>\n",
       "      <td>354365.000000</td>\n",
       "      <td>354365.000000</td>\n",
       "      <td>354365.000000</td>\n",
       "      <td>354365.000000</td>\n",
       "      <td>354365.000000</td>\n",
       "      <td>354365.0</td>\n",
       "      <td>354365.000000</td>\n",
       "    </tr>\n",
       "    <tr>\n",
       "      <th>mean</th>\n",
       "      <td>4416.679830</td>\n",
       "      <td>2004.234481</td>\n",
       "      <td>110.093816</td>\n",
       "      <td>128211.363989</td>\n",
       "      <td>5.714650</td>\n",
       "      <td>0.0</td>\n",
       "      <td>50508.503800</td>\n",
       "    </tr>\n",
       "    <tr>\n",
       "      <th>std</th>\n",
       "      <td>4514.176349</td>\n",
       "      <td>90.228466</td>\n",
       "      <td>189.851330</td>\n",
       "      <td>37905.083858</td>\n",
       "      <td>3.726432</td>\n",
       "      <td>0.0</td>\n",
       "      <td>25783.100078</td>\n",
       "    </tr>\n",
       "    <tr>\n",
       "      <th>min</th>\n",
       "      <td>0.000000</td>\n",
       "      <td>1000.000000</td>\n",
       "      <td>0.000000</td>\n",
       "      <td>5000.000000</td>\n",
       "      <td>0.000000</td>\n",
       "      <td>0.0</td>\n",
       "      <td>1067.000000</td>\n",
       "    </tr>\n",
       "    <tr>\n",
       "      <th>25%</th>\n",
       "      <td>1050.000000</td>\n",
       "      <td>1999.000000</td>\n",
       "      <td>69.000000</td>\n",
       "      <td>125000.000000</td>\n",
       "      <td>3.000000</td>\n",
       "      <td>0.0</td>\n",
       "      <td>30165.000000</td>\n",
       "    </tr>\n",
       "    <tr>\n",
       "      <th>50%</th>\n",
       "      <td>2700.000000</td>\n",
       "      <td>2003.000000</td>\n",
       "      <td>105.000000</td>\n",
       "      <td>150000.000000</td>\n",
       "      <td>6.000000</td>\n",
       "      <td>0.0</td>\n",
       "      <td>49413.000000</td>\n",
       "    </tr>\n",
       "    <tr>\n",
       "      <th>75%</th>\n",
       "      <td>6400.000000</td>\n",
       "      <td>2008.000000</td>\n",
       "      <td>143.000000</td>\n",
       "      <td>150000.000000</td>\n",
       "      <td>9.000000</td>\n",
       "      <td>0.0</td>\n",
       "      <td>71083.000000</td>\n",
       "    </tr>\n",
       "    <tr>\n",
       "      <th>max</th>\n",
       "      <td>20000.000000</td>\n",
       "      <td>9999.000000</td>\n",
       "      <td>20000.000000</td>\n",
       "      <td>150000.000000</td>\n",
       "      <td>12.000000</td>\n",
       "      <td>0.0</td>\n",
       "      <td>99998.000000</td>\n",
       "    </tr>\n",
       "  </tbody>\n",
       "</table>\n",
       "</div>"
      ],
      "text/plain": [
       "               Price  RegistrationYear          Power      Kilometer  \\\n",
       "count  354365.000000     354365.000000  354365.000000  354365.000000   \n",
       "mean     4416.679830       2004.234481     110.093816  128211.363989   \n",
       "std      4514.176349         90.228466     189.851330   37905.083858   \n",
       "min         0.000000       1000.000000       0.000000    5000.000000   \n",
       "25%      1050.000000       1999.000000      69.000000  125000.000000   \n",
       "50%      2700.000000       2003.000000     105.000000  150000.000000   \n",
       "75%      6400.000000       2008.000000     143.000000  150000.000000   \n",
       "max     20000.000000       9999.000000   20000.000000  150000.000000   \n",
       "\n",
       "       RegistrationMonth  NumberOfPictures     PostalCode  \n",
       "count      354365.000000          354365.0  354365.000000  \n",
       "mean            5.714650               0.0   50508.503800  \n",
       "std             3.726432               0.0   25783.100078  \n",
       "min             0.000000               0.0    1067.000000  \n",
       "25%             3.000000               0.0   30165.000000  \n",
       "50%             6.000000               0.0   49413.000000  \n",
       "75%             9.000000               0.0   71083.000000  \n",
       "max            12.000000               0.0   99998.000000  "
      ]
     },
     "execution_count": 8,
     "metadata": {},
     "output_type": "execute_result"
    }
   ],
   "source": [
    "df.describe()"
   ]
  },
  {
   "cell_type": "markdown",
   "metadata": {},
   "source": [
    "<b><font size=4>Первые выводы</font></b><a name=\"3.1.\"></a>\n",
    "[<font size=\"2\">(к содержанию)</font>](#to_content.)"
   ]
  },
  {
   "cell_type": "markdown",
   "metadata": {},
   "source": [
    "После первичного знакомства с нашими данными можно сделать вывод, что:\n",
    "\n",
    "1. В столбце RegistrationYear есть аномальные значения, а именно, минимальный год выпуска 1000 год, а максимальный 9999\n",
    "2. В столбце Power минимальное значение 0, что говорит скорее не об аномалии, а о том, что скорее всего автомобиль в разборе и не имеет двигателя на данный момент. Но вот максимальное значение аномально. \n",
    "3. В столбце NumberOfPictures не ни одного значения. На данном этапе этот столбец для нас бесполезный.\n",
    "4. В столбце Price есть аномальное значение в 0. \n",
    "5. Так же в столбце RegistrationMonth есть 0 значение, которое скорее всего говорит о том, что данные не указаны или потеряны\n",
    "6. В 4 столбцах: VehicleType, Gearbox, Model, FuelType, NotRepaired много пропущенных значений\n",
    "7. В столбце Kilometer слишком округлённые значения и максимальные значение 150 000 км, учитывая, что в выборке есть автомобили прошлого тысячелетия.  Скорее всего при заполнении объявления на сайте есть готовые шаблоны. \n",
    "\n",
    "Приступим к первичной предобработке данных"
   ]
  },
  {
   "cell_type": "markdown",
   "metadata": {},
   "source": [
    "<b><font size=4>Первичная предобработка</font></b><a name=\"3.2.\"></a>\n",
    "[<font size=\"2\">(к содержанию)</font>](#to_content.)"
   ]
  },
  {
   "cell_type": "markdown",
   "metadata": {},
   "source": [
    "Для начала посмотрим на аномальные значения и потом определимся, что с ними делать"
   ]
  },
  {
   "cell_type": "code",
   "execution_count": 9,
   "metadata": {},
   "outputs": [
    {
     "data": {
      "text/html": [
       "<div>\n",
       "<style scoped>\n",
       "    .dataframe tbody tr th:only-of-type {\n",
       "        vertical-align: middle;\n",
       "    }\n",
       "\n",
       "    .dataframe tbody tr th {\n",
       "        vertical-align: top;\n",
       "    }\n",
       "\n",
       "    .dataframe thead th {\n",
       "        text-align: right;\n",
       "    }\n",
       "</style>\n",
       "<table border=\"1\" class=\"dataframe\">\n",
       "  <thead>\n",
       "    <tr style=\"text-align: right;\">\n",
       "      <th></th>\n",
       "      <th>DateCrawled</th>\n",
       "      <th>Price</th>\n",
       "      <th>VehicleType</th>\n",
       "      <th>RegistrationYear</th>\n",
       "      <th>Gearbox</th>\n",
       "      <th>Power</th>\n",
       "      <th>Model</th>\n",
       "      <th>Kilometer</th>\n",
       "      <th>RegistrationMonth</th>\n",
       "      <th>FuelType</th>\n",
       "      <th>Brand</th>\n",
       "      <th>NotRepaired</th>\n",
       "      <th>DateCreated</th>\n",
       "      <th>NumberOfPictures</th>\n",
       "      <th>PostalCode</th>\n",
       "      <th>LastSeen</th>\n",
       "    </tr>\n",
       "  </thead>\n",
       "  <tbody>\n",
       "    <tr>\n",
       "      <th>207631</th>\n",
       "      <td>2016-03-25 12:58:35</td>\n",
       "      <td>0</td>\n",
       "      <td>sedan</td>\n",
       "      <td>2000</td>\n",
       "      <td>manual</td>\n",
       "      <td>170</td>\n",
       "      <td>5er</td>\n",
       "      <td>5000</td>\n",
       "      <td>3</td>\n",
       "      <td>lpg</td>\n",
       "      <td>bmw</td>\n",
       "      <td>NaN</td>\n",
       "      <td>2016-03-25 00:00:00</td>\n",
       "      <td>0</td>\n",
       "      <td>42107</td>\n",
       "      <td>2016-03-26 23:17:58</td>\n",
       "    </tr>\n",
       "    <tr>\n",
       "      <th>330199</th>\n",
       "      <td>2016-03-26 11:45:54</td>\n",
       "      <td>0</td>\n",
       "      <td>small</td>\n",
       "      <td>1997</td>\n",
       "      <td>manual</td>\n",
       "      <td>86</td>\n",
       "      <td>other</td>\n",
       "      <td>150000</td>\n",
       "      <td>5</td>\n",
       "      <td>petrol</td>\n",
       "      <td>suzuki</td>\n",
       "      <td>no</td>\n",
       "      <td>2016-03-26 00:00:00</td>\n",
       "      <td>0</td>\n",
       "      <td>9496</td>\n",
       "      <td>2016-04-05 23:15:43</td>\n",
       "    </tr>\n",
       "    <tr>\n",
       "      <th>187456</th>\n",
       "      <td>2016-03-08 18:56:17</td>\n",
       "      <td>0</td>\n",
       "      <td>NaN</td>\n",
       "      <td>2007</td>\n",
       "      <td>manual</td>\n",
       "      <td>0</td>\n",
       "      <td>NaN</td>\n",
       "      <td>150000</td>\n",
       "      <td>1</td>\n",
       "      <td>NaN</td>\n",
       "      <td>mercedes_benz</td>\n",
       "      <td>NaN</td>\n",
       "      <td>2016-03-08 00:00:00</td>\n",
       "      <td>0</td>\n",
       "      <td>6193</td>\n",
       "      <td>2016-03-09 02:44:27</td>\n",
       "    </tr>\n",
       "    <tr>\n",
       "      <th>220595</th>\n",
       "      <td>2016-03-27 12:51:39</td>\n",
       "      <td>0</td>\n",
       "      <td>sedan</td>\n",
       "      <td>1995</td>\n",
       "      <td>manual</td>\n",
       "      <td>104</td>\n",
       "      <td>3er</td>\n",
       "      <td>150000</td>\n",
       "      <td>12</td>\n",
       "      <td>petrol</td>\n",
       "      <td>bmw</td>\n",
       "      <td>no</td>\n",
       "      <td>2016-03-27 00:00:00</td>\n",
       "      <td>0</td>\n",
       "      <td>52355</td>\n",
       "      <td>2016-04-07 08:17:45</td>\n",
       "    </tr>\n",
       "    <tr>\n",
       "      <th>196328</th>\n",
       "      <td>2016-03-11 19:40:53</td>\n",
       "      <td>0</td>\n",
       "      <td>wagon</td>\n",
       "      <td>2001</td>\n",
       "      <td>manual</td>\n",
       "      <td>101</td>\n",
       "      <td>zafira</td>\n",
       "      <td>150000</td>\n",
       "      <td>5</td>\n",
       "      <td>petrol</td>\n",
       "      <td>opel</td>\n",
       "      <td>no</td>\n",
       "      <td>2016-03-11 00:00:00</td>\n",
       "      <td>0</td>\n",
       "      <td>19322</td>\n",
       "      <td>2016-03-23 19:19:19</td>\n",
       "    </tr>\n",
       "  </tbody>\n",
       "</table>\n",
       "</div>"
      ],
      "text/plain": [
       "                DateCrawled  Price VehicleType  RegistrationYear Gearbox  \\\n",
       "207631  2016-03-25 12:58:35      0       sedan              2000  manual   \n",
       "330199  2016-03-26 11:45:54      0       small              1997  manual   \n",
       "187456  2016-03-08 18:56:17      0         NaN              2007  manual   \n",
       "220595  2016-03-27 12:51:39      0       sedan              1995  manual   \n",
       "196328  2016-03-11 19:40:53      0       wagon              2001  manual   \n",
       "\n",
       "        Power   Model  Kilometer  RegistrationMonth FuelType          Brand  \\\n",
       "207631    170     5er       5000                  3      lpg            bmw   \n",
       "330199     86   other     150000                  5   petrol         suzuki   \n",
       "187456      0     NaN     150000                  1      NaN  mercedes_benz   \n",
       "220595    104     3er     150000                 12   petrol            bmw   \n",
       "196328    101  zafira     150000                  5   petrol           opel   \n",
       "\n",
       "       NotRepaired          DateCreated  NumberOfPictures  PostalCode  \\\n",
       "207631         NaN  2016-03-25 00:00:00                 0       42107   \n",
       "330199          no  2016-03-26 00:00:00                 0        9496   \n",
       "187456         NaN  2016-03-08 00:00:00                 0        6193   \n",
       "220595          no  2016-03-27 00:00:00                 0       52355   \n",
       "196328          no  2016-03-11 00:00:00                 0       19322   \n",
       "\n",
       "                   LastSeen  \n",
       "207631  2016-03-26 23:17:58  \n",
       "330199  2016-04-05 23:15:43  \n",
       "187456  2016-03-09 02:44:27  \n",
       "220595  2016-04-07 08:17:45  \n",
       "196328  2016-03-23 19:19:19  "
      ]
     },
     "execution_count": 9,
     "metadata": {},
     "output_type": "execute_result"
    }
   ],
   "source": [
    "df[df['Price'] == 0].sample(5)"
   ]
  },
  {
   "cell_type": "code",
   "execution_count": 10,
   "metadata": {},
   "outputs": [
    {
     "name": "stdout",
     "output_type": "stream",
     "text": [
      "Колличество аномальных значений по целевому признаку составляет: 3 %\n"
     ]
    }
   ],
   "source": [
    "print('Колличество аномальных значений по целевому признаку составляет:',\n",
    "      round(df[df['Price'] == 0].shape[0] / df.shape[0] * 100),'%')"
   ]
  },
  {
   "cell_type": "markdown",
   "metadata": {},
   "source": [
    "Теперь посмотрим на распределение наших цен. Напишем функцию для дальнейшего использования.Не так много от общего колличества. "
   ]
  },
  {
   "cell_type": "code",
   "execution_count": 11,
   "metadata": {},
   "outputs": [],
   "source": [
    "def draw_distribution(df, x, x_label, y_label, title, bins):\n",
    "    plt.figure(figsize=(12, 8))\n",
    "    sns.histplot(data=df, x=x, kde=True, bins=bins)\n",
    "    plt.title(title)\n",
    "    plt.xlabel(x_label)\n",
    "    plt.ylabel(y_label)\n",
    "    plt.show()\n",
    "\n",
    "    plt.figure(figsize=(12, 8))\n",
    "    sns.boxplot(data=df, x=x)\n",
    "    plt.title(title)\n",
    "    plt.xlabel(x_label)\n",
    "    plt.show()"
   ]
  },
  {
   "cell_type": "code",
   "execution_count": 12,
   "metadata": {},
   "outputs": [
    {
     "data": {
      "image/png": "[encoded data removed]",
      "text/plain": [
       "<Figure size 864x576 with 1 Axes>"
      ]
     },
     "metadata": {
      "needs_background": "light"
     },
     "output_type": "display_data"
    },
    {
     "data": {
      "image/png": "[encoded data removed]",
      "text/plain": [
       "<Figure size 864x576 with 1 Axes>"
      ]
     },
     "metadata": {
      "needs_background": "light"
     },
     "output_type": "display_data"
    }
   ],
   "source": [
    "draw_distribution(df, 'Price', 'Цена', 'Колличество', 'Распределение цены автомобилей', 100)"
   ]
  },
  {
   "cell_type": "markdown",
   "metadata": {},
   "source": [
    "Итак, видим, что тут у нас представлен типичный правый длинный хвост. Учитывая, какие года выпуска присутствуют в нашей выборке, то не будем считать это аномальными значениями и оставим эти данные для дальнейшего обучения модели. Но вот обратим внимание, что довольно много значений вокруг 0. Уберём их."
   ]
  },
  {
   "cell_type": "code",
   "execution_count": 13,
   "metadata": {},
   "outputs": [],
   "source": [
    "new_df = df.loc[df['Price'] != 0]"
   ]
  },
  {
   "cell_type": "markdown",
   "metadata": {},
   "source": [
    "Мы знаем, что серийное производство автомобилей началось приблизительно в 1900 годах. Предположим, что теоретически такие автомобили живы и могут появляться на площадках. Так что 1900 будет нашей отправной точкой. С другой стороны, это раритетные автомобили, у которых потенциально другое ценообразование, но тем не менее пусть наша модель знает и их. Так как дата выгрузки составляет на период 2016 года, то и предел отсавим 2016 год. "
   ]
  },
  {
   "cell_type": "code",
   "execution_count": 14,
   "metadata": {},
   "outputs": [
    {
     "data": {
      "text/plain": [
       "1000    31\n",
       "1800     5\n",
       "1234     4\n",
       "1500     3\n",
       "1300     2\n",
       "1600     2\n",
       "1400     1\n",
       "1001     1\n",
       "1255     1\n",
       "1111     1\n",
       "1039     1\n",
       "1602     1\n",
       "Name: RegistrationYear, dtype: int64"
      ]
     },
     "execution_count": 14,
     "metadata": {},
     "output_type": "execute_result"
    }
   ],
   "source": [
    "new_df[new_df['RegistrationYear'] < 1900].RegistrationYear.value_counts()"
   ]
  },
  {
   "cell_type": "code",
   "execution_count": 15,
   "metadata": {},
   "outputs": [],
   "source": [
    "new_df = new_df.loc[(new_df['RegistrationYear'] >= 1900) & (new_df['RegistrationYear'] <= 2016)]"
   ]
  },
  {
   "cell_type": "code",
   "execution_count": 16,
   "metadata": {},
   "outputs": [
    {
     "data": {
      "text/html": [
       "<div>\n",
       "<style scoped>\n",
       "    .dataframe tbody tr th:only-of-type {\n",
       "        vertical-align: middle;\n",
       "    }\n",
       "\n",
       "    .dataframe tbody tr th {\n",
       "        vertical-align: top;\n",
       "    }\n",
       "\n",
       "    .dataframe thead th {\n",
       "        text-align: right;\n",
       "    }\n",
       "</style>\n",
       "<table border=\"1\" class=\"dataframe\">\n",
       "  <thead>\n",
       "    <tr style=\"text-align: right;\">\n",
       "      <th></th>\n",
       "      <th>DateCrawled</th>\n",
       "      <th>Price</th>\n",
       "      <th>VehicleType</th>\n",
       "      <th>RegistrationYear</th>\n",
       "      <th>Gearbox</th>\n",
       "      <th>Power</th>\n",
       "      <th>Model</th>\n",
       "      <th>Kilometer</th>\n",
       "      <th>RegistrationMonth</th>\n",
       "      <th>FuelType</th>\n",
       "      <th>Brand</th>\n",
       "      <th>NotRepaired</th>\n",
       "      <th>DateCreated</th>\n",
       "      <th>NumberOfPictures</th>\n",
       "      <th>PostalCode</th>\n",
       "      <th>LastSeen</th>\n",
       "    </tr>\n",
       "  </thead>\n",
       "  <tbody>\n",
       "    <tr>\n",
       "      <th>151445</th>\n",
       "      <td>2016-04-02 01:57:32</td>\n",
       "      <td>8750</td>\n",
       "      <td>sedan</td>\n",
       "      <td>2007</td>\n",
       "      <td>manual</td>\n",
       "      <td>177</td>\n",
       "      <td>5er</td>\n",
       "      <td>150000</td>\n",
       "      <td>3</td>\n",
       "      <td>petrol</td>\n",
       "      <td>bmw</td>\n",
       "      <td>no</td>\n",
       "      <td>2016-04-02 00:00:00</td>\n",
       "      <td>0</td>\n",
       "      <td>45896</td>\n",
       "      <td>2016-04-06 04:16:22</td>\n",
       "    </tr>\n",
       "    <tr>\n",
       "      <th>339869</th>\n",
       "      <td>2016-03-11 11:54:32</td>\n",
       "      <td>1200</td>\n",
       "      <td>sedan</td>\n",
       "      <td>1997</td>\n",
       "      <td>manual</td>\n",
       "      <td>75</td>\n",
       "      <td>astra</td>\n",
       "      <td>150000</td>\n",
       "      <td>1</td>\n",
       "      <td>petrol</td>\n",
       "      <td>opel</td>\n",
       "      <td>no</td>\n",
       "      <td>2016-03-11 00:00:00</td>\n",
       "      <td>0</td>\n",
       "      <td>12589</td>\n",
       "      <td>2016-04-07 05:44:30</td>\n",
       "    </tr>\n",
       "    <tr>\n",
       "      <th>254918</th>\n",
       "      <td>2016-03-30 13:53:29</td>\n",
       "      <td>2900</td>\n",
       "      <td>convertible</td>\n",
       "      <td>2000</td>\n",
       "      <td>manual</td>\n",
       "      <td>116</td>\n",
       "      <td>golf</td>\n",
       "      <td>150000</td>\n",
       "      <td>8</td>\n",
       "      <td>petrol</td>\n",
       "      <td>volkswagen</td>\n",
       "      <td>NaN</td>\n",
       "      <td>2016-03-30 00:00:00</td>\n",
       "      <td>0</td>\n",
       "      <td>78713</td>\n",
       "      <td>2016-04-07 05:15:32</td>\n",
       "    </tr>\n",
       "    <tr>\n",
       "      <th>322439</th>\n",
       "      <td>2016-03-16 19:56:36</td>\n",
       "      <td>2700</td>\n",
       "      <td>coupe</td>\n",
       "      <td>1999</td>\n",
       "      <td>manual</td>\n",
       "      <td>170</td>\n",
       "      <td>other</td>\n",
       "      <td>125000</td>\n",
       "      <td>2</td>\n",
       "      <td>petrol</td>\n",
       "      <td>ford</td>\n",
       "      <td>no</td>\n",
       "      <td>2016-03-16 00:00:00</td>\n",
       "      <td>0</td>\n",
       "      <td>56626</td>\n",
       "      <td>2016-04-05 22:17:31</td>\n",
       "    </tr>\n",
       "    <tr>\n",
       "      <th>344439</th>\n",
       "      <td>2016-03-19 15:50:22</td>\n",
       "      <td>1111</td>\n",
       "      <td>sedan</td>\n",
       "      <td>2000</td>\n",
       "      <td>manual</td>\n",
       "      <td>155</td>\n",
       "      <td>156</td>\n",
       "      <td>150000</td>\n",
       "      <td>10</td>\n",
       "      <td>petrol</td>\n",
       "      <td>alfa_romeo</td>\n",
       "      <td>no</td>\n",
       "      <td>2016-03-19 00:00:00</td>\n",
       "      <td>0</td>\n",
       "      <td>90461</td>\n",
       "      <td>2016-03-20 17:48:51</td>\n",
       "    </tr>\n",
       "  </tbody>\n",
       "</table>\n",
       "</div>"
      ],
      "text/plain": [
       "                DateCrawled  Price  VehicleType  RegistrationYear Gearbox  \\\n",
       "151445  2016-04-02 01:57:32   8750        sedan              2007  manual   \n",
       "339869  2016-03-11 11:54:32   1200        sedan              1997  manual   \n",
       "254918  2016-03-30 13:53:29   2900  convertible              2000  manual   \n",
       "322439  2016-03-16 19:56:36   2700        coupe              1999  manual   \n",
       "344439  2016-03-19 15:50:22   1111        sedan              2000  manual   \n",
       "\n",
       "        Power  Model  Kilometer  RegistrationMonth FuelType       Brand  \\\n",
       "151445    177    5er     150000                  3   petrol         bmw   \n",
       "339869     75  astra     150000                  1   petrol        opel   \n",
       "254918    116   golf     150000                  8   petrol  volkswagen   \n",
       "322439    170  other     125000                  2   petrol        ford   \n",
       "344439    155    156     150000                 10   petrol  alfa_romeo   \n",
       "\n",
       "       NotRepaired          DateCreated  NumberOfPictures  PostalCode  \\\n",
       "151445          no  2016-04-02 00:00:00                 0       45896   \n",
       "339869          no  2016-03-11 00:00:00                 0       12589   \n",
       "254918         NaN  2016-03-30 00:00:00                 0       78713   \n",
       "322439          no  2016-03-16 00:00:00                 0       56626   \n",
       "344439          no  2016-03-19 00:00:00                 0       90461   \n",
       "\n",
       "                   LastSeen  \n",
       "151445  2016-04-06 04:16:22  \n",
       "339869  2016-04-07 05:44:30  \n",
       "254918  2016-04-07 05:15:32  \n",
       "322439  2016-04-05 22:17:31  \n",
       "344439  2016-03-20 17:48:51  "
      ]
     },
     "execution_count": 16,
     "metadata": {},
     "output_type": "execute_result"
    }
   ],
   "source": [
    "new_df.sample(5)"
   ]
  },
  {
   "cell_type": "markdown",
   "metadata": {},
   "source": [
    "Теперь Посмотрим на распределение по мощности автомбилей. т.к. данные представлены в л.с., то можно смело убрать до 1000"
   ]
  },
  {
   "cell_type": "code",
   "execution_count": 17,
   "metadata": {},
   "outputs": [],
   "source": [
    "Power = new_df.loc[new_df['Power'] < 1000]"
   ]
  },
  {
   "cell_type": "code",
   "execution_count": 18,
   "metadata": {},
   "outputs": [
    {
     "data": {
      "image/png": "[encoded data removed]",
      "text/plain": [
       "<Figure size 864x576 with 1 Axes>"
      ]
     },
     "metadata": {
      "needs_background": "light"
     },
     "output_type": "display_data"
    },
    {
     "data": {
      "image/png": "[encoded data removed]",
      "text/plain": [
       "<Figure size 864x576 with 1 Axes>"
      ]
     },
     "metadata": {
      "needs_background": "light"
     },
     "output_type": "display_data"
    }
   ],
   "source": [
    "draw_distribution(Power, 'Power', 'Мощность', 'Колличество', 'Распределение мощности автомобилей', 120)"
   ]
  },
  {
   "cell_type": "markdown",
   "metadata": {},
   "source": [
    "Видим, что тут тоже много значений возле 0, а так же выбросы начинаются ~ с 400 л.с."
   ]
  },
  {
   "cell_type": "code",
   "execution_count": 19,
   "metadata": {},
   "outputs": [
    {
     "data": {
      "text/html": [
       "<div>\n",
       "<style scoped>\n",
       "    .dataframe tbody tr th:only-of-type {\n",
       "        vertical-align: middle;\n",
       "    }\n",
       "\n",
       "    .dataframe tbody tr th {\n",
       "        vertical-align: top;\n",
       "    }\n",
       "\n",
       "    .dataframe thead th {\n",
       "        text-align: right;\n",
       "    }\n",
       "</style>\n",
       "<table border=\"1\" class=\"dataframe\">\n",
       "  <thead>\n",
       "    <tr style=\"text-align: right;\">\n",
       "      <th></th>\n",
       "      <th>DateCrawled</th>\n",
       "      <th>Price</th>\n",
       "      <th>VehicleType</th>\n",
       "      <th>RegistrationYear</th>\n",
       "      <th>Gearbox</th>\n",
       "      <th>Power</th>\n",
       "      <th>Model</th>\n",
       "      <th>Kilometer</th>\n",
       "      <th>RegistrationMonth</th>\n",
       "      <th>FuelType</th>\n",
       "      <th>Brand</th>\n",
       "      <th>NotRepaired</th>\n",
       "      <th>DateCreated</th>\n",
       "      <th>NumberOfPictures</th>\n",
       "      <th>PostalCode</th>\n",
       "      <th>LastSeen</th>\n",
       "    </tr>\n",
       "  </thead>\n",
       "  <tbody>\n",
       "    <tr>\n",
       "      <th>267123</th>\n",
       "      <td>2016-03-27 01:00:03</td>\n",
       "      <td>1400</td>\n",
       "      <td>other</td>\n",
       "      <td>1970</td>\n",
       "      <td>manual</td>\n",
       "      <td>0</td>\n",
       "      <td>500</td>\n",
       "      <td>50000</td>\n",
       "      <td>3</td>\n",
       "      <td>petrol</td>\n",
       "      <td>fiat</td>\n",
       "      <td>no</td>\n",
       "      <td>2016-03-27 00:00:00</td>\n",
       "      <td>0</td>\n",
       "      <td>84091</td>\n",
       "      <td>2016-03-27 09:47:19</td>\n",
       "    </tr>\n",
       "    <tr>\n",
       "      <th>429</th>\n",
       "      <td>2016-03-24 18:55:31</td>\n",
       "      <td>11000</td>\n",
       "      <td>wagon</td>\n",
       "      <td>2010</td>\n",
       "      <td>auto</td>\n",
       "      <td>0</td>\n",
       "      <td>a4</td>\n",
       "      <td>150000</td>\n",
       "      <td>1</td>\n",
       "      <td>petrol</td>\n",
       "      <td>audi</td>\n",
       "      <td>no</td>\n",
       "      <td>2016-03-24 00:00:00</td>\n",
       "      <td>0</td>\n",
       "      <td>24837</td>\n",
       "      <td>2016-04-07 13:15:53</td>\n",
       "    </tr>\n",
       "    <tr>\n",
       "      <th>24045</th>\n",
       "      <td>2016-03-20 13:47:21</td>\n",
       "      <td>4700</td>\n",
       "      <td>coupe</td>\n",
       "      <td>2002</td>\n",
       "      <td>manual</td>\n",
       "      <td>0</td>\n",
       "      <td>c_klasse</td>\n",
       "      <td>150000</td>\n",
       "      <td>2</td>\n",
       "      <td>gasoline</td>\n",
       "      <td>mercedes_benz</td>\n",
       "      <td>NaN</td>\n",
       "      <td>2016-03-20 00:00:00</td>\n",
       "      <td>0</td>\n",
       "      <td>22111</td>\n",
       "      <td>2016-04-06 15:15:23</td>\n",
       "    </tr>\n",
       "    <tr>\n",
       "      <th>19544</th>\n",
       "      <td>2016-03-31 23:37:43</td>\n",
       "      <td>16500</td>\n",
       "      <td>NaN</td>\n",
       "      <td>2005</td>\n",
       "      <td>NaN</td>\n",
       "      <td>0</td>\n",
       "      <td>NaN</td>\n",
       "      <td>150000</td>\n",
       "      <td>0</td>\n",
       "      <td>NaN</td>\n",
       "      <td>volkswagen</td>\n",
       "      <td>NaN</td>\n",
       "      <td>2016-03-31 00:00:00</td>\n",
       "      <td>0</td>\n",
       "      <td>97447</td>\n",
       "      <td>2016-04-07 02:44:22</td>\n",
       "    </tr>\n",
       "    <tr>\n",
       "      <th>108008</th>\n",
       "      <td>2016-03-27 22:52:29</td>\n",
       "      <td>1490</td>\n",
       "      <td>convertible</td>\n",
       "      <td>1997</td>\n",
       "      <td>NaN</td>\n",
       "      <td>0</td>\n",
       "      <td>golf</td>\n",
       "      <td>150000</td>\n",
       "      <td>6</td>\n",
       "      <td>petrol</td>\n",
       "      <td>volkswagen</td>\n",
       "      <td>no</td>\n",
       "      <td>2016-03-27 00:00:00</td>\n",
       "      <td>0</td>\n",
       "      <td>23730</td>\n",
       "      <td>2016-04-06 01:15:28</td>\n",
       "    </tr>\n",
       "    <tr>\n",
       "      <th>95576</th>\n",
       "      <td>2016-03-16 15:46:00</td>\n",
       "      <td>4500</td>\n",
       "      <td>sedan</td>\n",
       "      <td>2003</td>\n",
       "      <td>manual</td>\n",
       "      <td>0</td>\n",
       "      <td>touareg</td>\n",
       "      <td>150000</td>\n",
       "      <td>9</td>\n",
       "      <td>gasoline</td>\n",
       "      <td>volkswagen</td>\n",
       "      <td>NaN</td>\n",
       "      <td>2016-03-16 00:00:00</td>\n",
       "      <td>0</td>\n",
       "      <td>51065</td>\n",
       "      <td>2016-03-16 15:46:00</td>\n",
       "    </tr>\n",
       "    <tr>\n",
       "      <th>265117</th>\n",
       "      <td>2016-03-17 16:38:08</td>\n",
       "      <td>1</td>\n",
       "      <td>NaN</td>\n",
       "      <td>2000</td>\n",
       "      <td>NaN</td>\n",
       "      <td>0</td>\n",
       "      <td>3er</td>\n",
       "      <td>150000</td>\n",
       "      <td>0</td>\n",
       "      <td>NaN</td>\n",
       "      <td>bmw</td>\n",
       "      <td>NaN</td>\n",
       "      <td>2016-03-17 00:00:00</td>\n",
       "      <td>0</td>\n",
       "      <td>52355</td>\n",
       "      <td>2016-03-30 10:46:16</td>\n",
       "    </tr>\n",
       "    <tr>\n",
       "      <th>241922</th>\n",
       "      <td>2016-03-28 21:56:04</td>\n",
       "      <td>300</td>\n",
       "      <td>other</td>\n",
       "      <td>1996</td>\n",
       "      <td>manual</td>\n",
       "      <td>0</td>\n",
       "      <td>NaN</td>\n",
       "      <td>125000</td>\n",
       "      <td>5</td>\n",
       "      <td>petrol</td>\n",
       "      <td>opel</td>\n",
       "      <td>yes</td>\n",
       "      <td>2016-03-28 00:00:00</td>\n",
       "      <td>0</td>\n",
       "      <td>87734</td>\n",
       "      <td>2016-04-03 04:18:46</td>\n",
       "    </tr>\n",
       "    <tr>\n",
       "      <th>112420</th>\n",
       "      <td>2016-03-31 21:55:34</td>\n",
       "      <td>1990</td>\n",
       "      <td>small</td>\n",
       "      <td>2003</td>\n",
       "      <td>NaN</td>\n",
       "      <td>0</td>\n",
       "      <td>2_reihe</td>\n",
       "      <td>150000</td>\n",
       "      <td>9</td>\n",
       "      <td>gasoline</td>\n",
       "      <td>peugeot</td>\n",
       "      <td>NaN</td>\n",
       "      <td>2016-03-31 00:00:00</td>\n",
       "      <td>0</td>\n",
       "      <td>49661</td>\n",
       "      <td>2016-04-06 18:17:55</td>\n",
       "    </tr>\n",
       "    <tr>\n",
       "      <th>155805</th>\n",
       "      <td>2016-03-18 07:53:17</td>\n",
       "      <td>1799</td>\n",
       "      <td>NaN</td>\n",
       "      <td>2005</td>\n",
       "      <td>manual</td>\n",
       "      <td>0</td>\n",
       "      <td>passat</td>\n",
       "      <td>150000</td>\n",
       "      <td>8</td>\n",
       "      <td>NaN</td>\n",
       "      <td>volkswagen</td>\n",
       "      <td>no</td>\n",
       "      <td>2016-03-18 00:00:00</td>\n",
       "      <td>0</td>\n",
       "      <td>51379</td>\n",
       "      <td>2016-03-18 08:46:21</td>\n",
       "    </tr>\n",
       "    <tr>\n",
       "      <th>203117</th>\n",
       "      <td>2016-03-31 19:46:50</td>\n",
       "      <td>1900</td>\n",
       "      <td>NaN</td>\n",
       "      <td>2016</td>\n",
       "      <td>manual</td>\n",
       "      <td>0</td>\n",
       "      <td>clk</td>\n",
       "      <td>150000</td>\n",
       "      <td>4</td>\n",
       "      <td>petrol</td>\n",
       "      <td>mercedes_benz</td>\n",
       "      <td>NaN</td>\n",
       "      <td>2016-03-31 00:00:00</td>\n",
       "      <td>0</td>\n",
       "      <td>12045</td>\n",
       "      <td>2016-03-31 19:46:50</td>\n",
       "    </tr>\n",
       "    <tr>\n",
       "      <th>2077</th>\n",
       "      <td>2016-03-16 20:42:28</td>\n",
       "      <td>2250</td>\n",
       "      <td>NaN</td>\n",
       "      <td>2005</td>\n",
       "      <td>NaN</td>\n",
       "      <td>0</td>\n",
       "      <td>NaN</td>\n",
       "      <td>150000</td>\n",
       "      <td>0</td>\n",
       "      <td>NaN</td>\n",
       "      <td>sonstige_autos</td>\n",
       "      <td>NaN</td>\n",
       "      <td>2016-03-16 00:00:00</td>\n",
       "      <td>0</td>\n",
       "      <td>49084</td>\n",
       "      <td>2016-03-17 19:19:09</td>\n",
       "    </tr>\n",
       "    <tr>\n",
       "      <th>259508</th>\n",
       "      <td>2016-03-10 12:47:00</td>\n",
       "      <td>499</td>\n",
       "      <td>NaN</td>\n",
       "      <td>2016</td>\n",
       "      <td>manual</td>\n",
       "      <td>0</td>\n",
       "      <td>ka</td>\n",
       "      <td>125000</td>\n",
       "      <td>0</td>\n",
       "      <td>NaN</td>\n",
       "      <td>ford</td>\n",
       "      <td>no</td>\n",
       "      <td>2016-03-10 00:00:00</td>\n",
       "      <td>0</td>\n",
       "      <td>38440</td>\n",
       "      <td>2016-03-12 16:45:03</td>\n",
       "    </tr>\n",
       "    <tr>\n",
       "      <th>352683</th>\n",
       "      <td>2016-03-15 19:00:08</td>\n",
       "      <td>1550</td>\n",
       "      <td>NaN</td>\n",
       "      <td>2005</td>\n",
       "      <td>NaN</td>\n",
       "      <td>0</td>\n",
       "      <td>caddy</td>\n",
       "      <td>150000</td>\n",
       "      <td>0</td>\n",
       "      <td>gasoline</td>\n",
       "      <td>volkswagen</td>\n",
       "      <td>NaN</td>\n",
       "      <td>2016-03-15 00:00:00</td>\n",
       "      <td>0</td>\n",
       "      <td>42107</td>\n",
       "      <td>2016-03-15 19:00:08</td>\n",
       "    </tr>\n",
       "    <tr>\n",
       "      <th>154274</th>\n",
       "      <td>2016-03-27 09:56:31</td>\n",
       "      <td>3200</td>\n",
       "      <td>convertible</td>\n",
       "      <td>1989</td>\n",
       "      <td>manual</td>\n",
       "      <td>0</td>\n",
       "      <td>mx_reihe</td>\n",
       "      <td>150000</td>\n",
       "      <td>7</td>\n",
       "      <td>petrol</td>\n",
       "      <td>mazda</td>\n",
       "      <td>yes</td>\n",
       "      <td>2016-03-27 00:00:00</td>\n",
       "      <td>0</td>\n",
       "      <td>18211</td>\n",
       "      <td>2016-04-07 04:46:04</td>\n",
       "    </tr>\n",
       "  </tbody>\n",
       "</table>\n",
       "</div>"
      ],
      "text/plain": [
       "                DateCrawled  Price  VehicleType  RegistrationYear Gearbox  \\\n",
       "267123  2016-03-27 01:00:03   1400        other              1970  manual   \n",
       "429     2016-03-24 18:55:31  11000        wagon              2010    auto   \n",
       "24045   2016-03-20 13:47:21   4700        coupe              2002  manual   \n",
       "19544   2016-03-31 23:37:43  16500          NaN              2005     NaN   \n",
       "108008  2016-03-27 22:52:29   1490  convertible              1997     NaN   \n",
       "95576   2016-03-16 15:46:00   4500        sedan              2003  manual   \n",
       "265117  2016-03-17 16:38:08      1          NaN              2000     NaN   \n",
       "241922  2016-03-28 21:56:04    300        other              1996  manual   \n",
       "112420  2016-03-31 21:55:34   1990        small              2003     NaN   \n",
       "155805  2016-03-18 07:53:17   1799          NaN              2005  manual   \n",
       "203117  2016-03-31 19:46:50   1900          NaN              2016  manual   \n",
       "2077    2016-03-16 20:42:28   2250          NaN              2005     NaN   \n",
       "259508  2016-03-10 12:47:00    499          NaN              2016  manual   \n",
       "352683  2016-03-15 19:00:08   1550          NaN              2005     NaN   \n",
       "154274  2016-03-27 09:56:31   3200  convertible              1989  manual   \n",
       "\n",
       "        Power     Model  Kilometer  RegistrationMonth  FuelType  \\\n",
       "267123      0       500      50000                  3    petrol   \n",
       "429         0        a4     150000                  1    petrol   \n",
       "24045       0  c_klasse     150000                  2  gasoline   \n",
       "19544       0       NaN     150000                  0       NaN   \n",
       "108008      0      golf     150000                  6    petrol   \n",
       "95576       0   touareg     150000                  9  gasoline   \n",
       "265117      0       3er     150000                  0       NaN   \n",
       "241922      0       NaN     125000                  5    petrol   \n",
       "112420      0   2_reihe     150000                  9  gasoline   \n",
       "155805      0    passat     150000                  8       NaN   \n",
       "203117      0       clk     150000                  4    petrol   \n",
       "2077        0       NaN     150000                  0       NaN   \n",
       "259508      0        ka     125000                  0       NaN   \n",
       "352683      0     caddy     150000                  0  gasoline   \n",
       "154274      0  mx_reihe     150000                  7    petrol   \n",
       "\n",
       "                 Brand NotRepaired          DateCreated  NumberOfPictures  \\\n",
       "267123            fiat          no  2016-03-27 00:00:00                 0   \n",
       "429               audi          no  2016-03-24 00:00:00                 0   \n",
       "24045    mercedes_benz         NaN  2016-03-20 00:00:00                 0   \n",
       "19544       volkswagen         NaN  2016-03-31 00:00:00                 0   \n",
       "108008      volkswagen          no  2016-03-27 00:00:00                 0   \n",
       "95576       volkswagen         NaN  2016-03-16 00:00:00                 0   \n",
       "265117             bmw         NaN  2016-03-17 00:00:00                 0   \n",
       "241922            opel         yes  2016-03-28 00:00:00                 0   \n",
       "112420         peugeot         NaN  2016-03-31 00:00:00                 0   \n",
       "155805      volkswagen          no  2016-03-18 00:00:00                 0   \n",
       "203117   mercedes_benz         NaN  2016-03-31 00:00:00                 0   \n",
       "2077    sonstige_autos         NaN  2016-03-16 00:00:00                 0   \n",
       "259508            ford          no  2016-03-10 00:00:00                 0   \n",
       "352683      volkswagen         NaN  2016-03-15 00:00:00                 0   \n",
       "154274           mazda         yes  2016-03-27 00:00:00                 0   \n",
       "\n",
       "        PostalCode             LastSeen  \n",
       "267123       84091  2016-03-27 09:47:19  \n",
       "429          24837  2016-04-07 13:15:53  \n",
       "24045        22111  2016-04-06 15:15:23  \n",
       "19544        97447  2016-04-07 02:44:22  \n",
       "108008       23730  2016-04-06 01:15:28  \n",
       "95576        51065  2016-03-16 15:46:00  \n",
       "265117       52355  2016-03-30 10:46:16  \n",
       "241922       87734  2016-04-03 04:18:46  \n",
       "112420       49661  2016-04-06 18:17:55  \n",
       "155805       51379  2016-03-18 08:46:21  \n",
       "203117       12045  2016-03-31 19:46:50  \n",
       "2077         49084  2016-03-17 19:19:09  \n",
       "259508       38440  2016-03-12 16:45:03  \n",
       "352683       42107  2016-03-15 19:00:08  \n",
       "154274       18211  2016-04-07 04:46:04  "
      ]
     },
     "execution_count": 19,
     "metadata": {},
     "output_type": "execute_result"
    }
   ],
   "source": [
    "new_df.loc[new_df['Power'] == 0].sample(15)"
   ]
  },
  {
   "cell_type": "markdown",
   "metadata": {},
   "source": [
    "Было предположение, что значения с нулём это сломанные автомобили с определённым значением в столбце NotRepaired, но нет. Это ошибка данных. Отфильтруем. Итак, отберём значения больше 0. Возьмём от 30 и до 600. Т.к. свыше 600 л.с. встретить практически невозможно."
   ]
  },
  {
   "cell_type": "code",
   "execution_count": 20,
   "metadata": {},
   "outputs": [],
   "source": [
    "new_df = new_df.loc[(new_df['Power'] >= 30) & (new_df['Power'] <= 600)]"
   ]
  },
  {
   "cell_type": "markdown",
   "metadata": {},
   "source": [
    "Теперь глянем, что у нас лежит в столбце с пробегом."
   ]
  },
  {
   "cell_type": "code",
   "execution_count": 21,
   "metadata": {},
   "outputs": [
    {
     "data": {
      "image/png": "[encoded data removed]",
      "text/plain": [
       "<Figure size 864x576 with 1 Axes>"
      ]
     },
     "metadata": {
      "needs_background": "light"
     },
     "output_type": "display_data"
    },
    {
     "data": {
      "image/png": "[encoded data removed]",
      "text/plain": [
       "<Figure size 864x576 with 1 Axes>"
      ]
     },
     "metadata": {
      "needs_background": "light"
     },
     "output_type": "display_data"
    }
   ],
   "source": [
    "draw_distribution(new_df, 'Kilometer', 'Пробег в км', 'Колличество', 'Распределение пробега автомобилей', 100)"
   ]
  },
  {
   "cell_type": "markdown",
   "metadata": {},
   "source": [
    "Итак, видим, что практически все значения лежат вокруг 150 тыс. км. Скорее всего на сайте при размещении объявления максимальный пробег обозначался как \"более 150 000\". "
   ]
  },
  {
   "cell_type": "markdown",
   "metadata": {},
   "source": [
    "Теперь обратим внимание на лишние столбцы. Т.к. в столбце NumberOfPictures отсутствуют значения, его можно удалить. Так же можно удалить столбцы с датой размещения объявления, даты скачивания, почтовый индекс пользователя и последняя активность. В данном исследовании они не несут никакой пользы для модели"
   ]
  },
  {
   "cell_type": "code",
   "execution_count": 22,
   "metadata": {},
   "outputs": [],
   "source": [
    "new_df.drop(columns=['DateCreated', 'DateCrawled', 'NumberOfPictures', 'PostalCode', 'LastSeen'], inplace=True)"
   ]
  },
  {
   "cell_type": "markdown",
   "metadata": {},
   "source": [
    "Теперь посмотрим на наши данные после первичной предобработки."
   ]
  },
  {
   "cell_type": "code",
   "execution_count": 23,
   "metadata": {},
   "outputs": [
    {
     "data": {
      "text/html": [
       "<div>\n",
       "<style scoped>\n",
       "    .dataframe tbody tr th:only-of-type {\n",
       "        vertical-align: middle;\n",
       "    }\n",
       "\n",
       "    .dataframe tbody tr th {\n",
       "        vertical-align: top;\n",
       "    }\n",
       "\n",
       "    .dataframe thead th {\n",
       "        text-align: right;\n",
       "    }\n",
       "</style>\n",
       "<table border=\"1\" class=\"dataframe\">\n",
       "  <thead>\n",
       "    <tr style=\"text-align: right;\">\n",
       "      <th></th>\n",
       "      <th>Price</th>\n",
       "      <th>RegistrationYear</th>\n",
       "      <th>Power</th>\n",
       "      <th>Kilometer</th>\n",
       "      <th>RegistrationMonth</th>\n",
       "    </tr>\n",
       "  </thead>\n",
       "  <tbody>\n",
       "    <tr>\n",
       "      <th>count</th>\n",
       "      <td>295730.000000</td>\n",
       "      <td>295730.000000</td>\n",
       "      <td>295730.000000</td>\n",
       "      <td>295730.000000</td>\n",
       "      <td>295730.000000</td>\n",
       "    </tr>\n",
       "    <tr>\n",
       "      <th>mean</th>\n",
       "      <td>4857.343107</td>\n",
       "      <td>2002.857877</td>\n",
       "      <td>120.866885</td>\n",
       "      <td>128459.912758</td>\n",
       "      <td>5.995621</td>\n",
       "    </tr>\n",
       "    <tr>\n",
       "      <th>std</th>\n",
       "      <td>4613.887542</td>\n",
       "      <td>6.451136</td>\n",
       "      <td>53.709473</td>\n",
       "      <td>36591.068401</td>\n",
       "      <td>3.583233</td>\n",
       "    </tr>\n",
       "    <tr>\n",
       "      <th>min</th>\n",
       "      <td>1.000000</td>\n",
       "      <td>1910.000000</td>\n",
       "      <td>30.000000</td>\n",
       "      <td>5000.000000</td>\n",
       "      <td>0.000000</td>\n",
       "    </tr>\n",
       "    <tr>\n",
       "      <th>25%</th>\n",
       "      <td>1350.000000</td>\n",
       "      <td>1999.000000</td>\n",
       "      <td>76.000000</td>\n",
       "      <td>125000.000000</td>\n",
       "      <td>3.000000</td>\n",
       "    </tr>\n",
       "    <tr>\n",
       "      <th>50%</th>\n",
       "      <td>3200.000000</td>\n",
       "      <td>2003.000000</td>\n",
       "      <td>111.000000</td>\n",
       "      <td>150000.000000</td>\n",
       "      <td>6.000000</td>\n",
       "    </tr>\n",
       "    <tr>\n",
       "      <th>75%</th>\n",
       "      <td>6999.000000</td>\n",
       "      <td>2007.000000</td>\n",
       "      <td>150.000000</td>\n",
       "      <td>150000.000000</td>\n",
       "      <td>9.000000</td>\n",
       "    </tr>\n",
       "    <tr>\n",
       "      <th>max</th>\n",
       "      <td>20000.000000</td>\n",
       "      <td>2016.000000</td>\n",
       "      <td>600.000000</td>\n",
       "      <td>150000.000000</td>\n",
       "      <td>12.000000</td>\n",
       "    </tr>\n",
       "  </tbody>\n",
       "</table>\n",
       "</div>"
      ],
      "text/plain": [
       "               Price  RegistrationYear          Power      Kilometer  \\\n",
       "count  295730.000000     295730.000000  295730.000000  295730.000000   \n",
       "mean     4857.343107       2002.857877     120.866885  128459.912758   \n",
       "std      4613.887542          6.451136      53.709473   36591.068401   \n",
       "min         1.000000       1910.000000      30.000000    5000.000000   \n",
       "25%      1350.000000       1999.000000      76.000000  125000.000000   \n",
       "50%      3200.000000       2003.000000     111.000000  150000.000000   \n",
       "75%      6999.000000       2007.000000     150.000000  150000.000000   \n",
       "max     20000.000000       2016.000000     600.000000  150000.000000   \n",
       "\n",
       "       RegistrationMonth  \n",
       "count      295730.000000  \n",
       "mean            5.995621  \n",
       "std             3.583233  \n",
       "min             0.000000  \n",
       "25%             3.000000  \n",
       "50%             6.000000  \n",
       "75%             9.000000  \n",
       "max            12.000000  "
      ]
     },
     "execution_count": 23,
     "metadata": {},
     "output_type": "execute_result"
    }
   ],
   "source": [
    "new_df.describe()"
   ]
  },
  {
   "cell_type": "markdown",
   "metadata": {},
   "source": [
    "Теперь всё выглядит более-менее прилично. Перейдём с следующему шагу. К обработке пропущенных значений в данных."
   ]
  },
  {
   "cell_type": "markdown",
   "metadata": {},
   "source": [
    "<b><font size=4>Обработка пропусков</font></b><a name=\"3.3.\"></a>\n",
    "[<font size=\"2\">(к содержанию)</font>](#to_content.)"
   ]
  },
  {
   "cell_type": "markdown",
   "metadata": {},
   "source": [
    "Посмотрим ещё раз на наши пропуски"
   ]
  },
  {
   "cell_type": "code",
   "execution_count": 24,
   "metadata": {},
   "outputs": [
    {
     "data": {
      "text/plain": [
       "Price                    0\n",
       "VehicleType          10985\n",
       "RegistrationYear         0\n",
       "Gearbox               5315\n",
       "Power                    0\n",
       "Model                10943\n",
       "Kilometer                0\n",
       "RegistrationMonth        0\n",
       "FuelType             15463\n",
       "Brand                    0\n",
       "NotRepaired          42746\n",
       "dtype: int64"
      ]
     },
     "execution_count": 24,
     "metadata": {},
     "output_type": "execute_result"
    }
   ],
   "source": [
    "new_df.isnull().sum()"
   ]
  },
  {
   "cell_type": "markdown",
   "metadata": {},
   "source": [
    "Посмотрим какие значения лежат в столбце Gearbox"
   ]
  },
  {
   "cell_type": "code",
   "execution_count": 25,
   "metadata": {},
   "outputs": [
    {
     "data": {
      "text/plain": [
       "manual    0.797638\n",
       "auto      0.202362\n",
       "Name: Gearbox, dtype: float64"
      ]
     },
     "execution_count": 25,
     "metadata": {},
     "output_type": "execute_result"
    }
   ],
   "source": [
    "new_df.Gearbox.value_counts(normalize=True)"
   ]
  },
  {
   "cell_type": "markdown",
   "metadata": {},
   "source": [
    "Итак, видим, что у нас всего 2 вида коробки передач. Скорее всего в пропущеных значениях лежат автоммобили с иной коробкой передач. Например, вариатором. Пропущенные значения заменим на other"
   ]
  },
  {
   "cell_type": "code",
   "execution_count": 26,
   "metadata": {},
   "outputs": [],
   "source": [
    "new_df.Gearbox = new_df.Gearbox.fillna('other')"
   ]
  },
  {
   "cell_type": "markdown",
   "metadata": {},
   "source": [
    "В остальных случаях заменить пропущенные значения на unknown, т.к. восстановить нет возможности. Точнее вероятно всего будет искажение данных, т.к. у одной и той же модели может быть разный вид кузова, а так же разная топливная система. Так что не будем заниматься угадыванием и определим наши пропуски как unknown"
   ]
  },
  {
   "cell_type": "code",
   "execution_count": 27,
   "metadata": {},
   "outputs": [],
   "source": [
    "new_df.Model = new_df.Model.fillna('unknown')\n",
    "new_df.FuelType = new_df.FuelType.fillna('unknown') \n",
    "new_df.NotRepaired = new_df.NotRepaired.fillna('unknown')\n",
    "new_df.VehicleType = new_df.VehicleType.fillna('unknown')\n"
   ]
  },
  {
   "cell_type": "code",
   "execution_count": 28,
   "metadata": {},
   "outputs": [
    {
     "data": {
      "text/plain": [
       "Price                0\n",
       "VehicleType          0\n",
       "RegistrationYear     0\n",
       "Gearbox              0\n",
       "Power                0\n",
       "Model                0\n",
       "Kilometer            0\n",
       "RegistrationMonth    0\n",
       "FuelType             0\n",
       "Brand                0\n",
       "NotRepaired          0\n",
       "dtype: int64"
      ]
     },
     "execution_count": 28,
     "metadata": {},
     "output_type": "execute_result"
    }
   ],
   "source": [
    "new_df.isnull().sum()"
   ]
  },
  {
   "cell_type": "markdown",
   "metadata": {},
   "source": [
    "Прежде чем перейдём к следующему шагу, то посмотрим на корреляцию медлу признаками"
   ]
  },
  {
   "cell_type": "markdown",
   "metadata": {},
   "source": [
    "<b><font size=4>Кодировка данных</font></b><a name=\"3.4.\"></a>\n",
    "[<font size=\"2\">(к содержанию)</font>](#to_content.)"
   ]
  },
  {
   "cell_type": "markdown",
   "metadata": {},
   "source": [
    "Прежде чем приступить к кодировке наших данных, разделим нашу выборку на тестовую и обучающую. "
   ]
  },
  {
   "cell_type": "code",
   "execution_count": 29,
   "metadata": {},
   "outputs": [
    {
     "name": "stdout",
     "output_type": "stream",
     "text": [
      "<class 'pandas.core.frame.DataFrame'>\n",
      "Int64Index: 295730 entries, 1 to 354368\n",
      "Data columns (total 11 columns):\n",
      " #   Column             Non-Null Count   Dtype \n",
      "---  ------             --------------   ----- \n",
      " 0   Price              295730 non-null  int64 \n",
      " 1   VehicleType        295730 non-null  object\n",
      " 2   RegistrationYear   295730 non-null  int64 \n",
      " 3   Gearbox            295730 non-null  object\n",
      " 4   Power              295730 non-null  int64 \n",
      " 5   Model              295730 non-null  object\n",
      " 6   Kilometer          295730 non-null  int64 \n",
      " 7   RegistrationMonth  295730 non-null  int64 \n",
      " 8   FuelType           295730 non-null  object\n",
      " 9   Brand              295730 non-null  object\n",
      " 10  NotRepaired        295730 non-null  object\n",
      "dtypes: int64(5), object(6)\n",
      "memory usage: 27.1+ MB\n"
     ]
    }
   ],
   "source": [
    "new_df.info()"
   ]
  },
  {
   "cell_type": "code",
   "execution_count": 30,
   "metadata": {},
   "outputs": [],
   "source": [
    "features_train, features_test, target_train, target_test = train_test_split(\n",
    "    new_df.drop(['Price'], axis=1), new_df['Price'], test_size=0.25, random_state=42)"
   ]
  },
  {
   "cell_type": "markdown",
   "metadata": {},
   "source": [
    "Теперь перекодируем категориальные признаки."
   ]
  },
  {
   "cell_type": "code",
   "execution_count": 31,
   "metadata": {},
   "outputs": [],
   "source": [
    "ce_ord = ce.OrdinalEncoder(cols = ['VehicleType', 'Gearbox', 'Model', 'FuelType', 'Brand', 'NotRepaired'])\n",
    "features_train = ce_ord.fit_transform(features_train, target_train)\n",
    "features_test = ce_ord.transform(features_test, target_test)"
   ]
  },
  {
   "cell_type": "code",
   "execution_count": 32,
   "metadata": {},
   "outputs": [],
   "source": [
    "scaler = StandardScaler()\n",
    "features_train = scaler.fit_transform(features_train, target_train)\n",
    "features_test = scaler.fit_transform(features_test, target_test)"
   ]
  },
  {
   "cell_type": "markdown",
   "metadata": {},
   "source": [
    "<b><font size=5>Обучение моделей</font></b><a name=\"4.\"></a>\n",
    "[<font size=\"2\">(к содержанию)</font>](#to_content.)"
   ]
  },
  {
   "cell_type": "markdown",
   "metadata": {},
   "source": [
    "Прежде чем приступим к обучению модели, напишем функцию для вычисления скорости выполнения, а так же RMSE и сделаем оценку для кросс-валидации. "
   ]
  },
  {
   "cell_type": "code",
   "execution_count": 33,
   "metadata": {},
   "outputs": [],
   "source": [
    "def RMSE(target,predictions):\n",
    "    MSE = mean_squared_error(target, predictions)\n",
    "    return MSE ** 0.5\n",
    "RMSE_score = make_scorer(RMSE, greater_is_better=False)"
   ]
  },
  {
   "cell_type": "code",
   "execution_count": 34,
   "metadata": {},
   "outputs": [],
   "source": [
    "def best_model(model, params, features_train, target_train, features_test, target_test):\n",
    "    start_time = time.time()\n",
    "    grid = GridSearchCV(model, param_grid = params, cv=5,\n",
    "                                            scoring = RMSE_score, n_jobs=-1)\n",
    "    grid.fit(features_train,target_train)\n",
    "    first_time = time.time() - start_time\n",
    "    start_time = time.time()\n",
    "    predict = grid.predict(features_test)\n",
    "    second_time = time.time() - start_time\n",
    "    return first_time, second_time, RMSE(target_test, predict)"
   ]
  },
  {
   "cell_type": "markdown",
   "metadata": {},
   "source": [
    "Посмотрим на Лассо модели как работает наша функция."
   ]
  },
  {
   "cell_type": "code",
   "execution_count": 35,
   "metadata": {},
   "outputs": [],
   "source": [
    "lasso_model = Lasso(random_state=42)\n",
    "lasso_params = {'alpha':[0.02, 0.024, 0.025, 0.026, 0.03]}"
   ]
  },
  {
   "cell_type": "code",
   "execution_count": 36,
   "metadata": {},
   "outputs": [],
   "source": [
    "lasso = best_model(lasso_model, lasso_params, features_train, target_train, features_test, target_test)"
   ]
  },
  {
   "cell_type": "code",
   "execution_count": 37,
   "metadata": {},
   "outputs": [
    {
     "data": {
      "text/plain": [
       "(10.959654331207275, 0.001995086669921875, 2980.6732961042867)"
      ]
     },
     "execution_count": 37,
     "metadata": {},
     "output_type": "execute_result"
    }
   ],
   "source": [
    "lasso"
   ]
  },
  {
   "cell_type": "markdown",
   "metadata": {},
   "source": [
    "Отлично, на выходе у нас получается время обучения, время предсказания и наша метрика. Попробуем с другими моделями"
   ]
  },
  {
   "cell_type": "markdown",
   "metadata": {},
   "source": [
    "Обучим LGBM модель"
   ]
  },
  {
   "cell_type": "code",
   "execution_count": 38,
   "metadata": {},
   "outputs": [],
   "source": [
    "lgbm_params = {\n",
    "    'n_estimators': [10,50,100],\n",
    "    'max_depth': [15,30],\n",
    "    'num_leaves': [10,20,31],\n",
    "    'learning_rate': [0.1]\n",
    "}\n",
    "lgbm_reg_model = LGBMRegressor(random_state=42)"
   ]
  },
  {
   "cell_type": "code",
   "execution_count": 39,
   "metadata": {},
   "outputs": [],
   "source": [
    "lgbm = best_model(lgbm_reg_model, lgbm_params, features_train, target_train, features_test, target_test)"
   ]
  },
  {
   "cell_type": "markdown",
   "metadata": {},
   "source": [
    "Обучим CatBoost модель"
   ]
  },
  {
   "cell_type": "code",
   "execution_count": 40,
   "metadata": {},
   "outputs": [],
   "source": [
    "catboost_params = {\n",
    "    'learning_rate': [0.1],\n",
    "    'iterations': [10,50,100],\n",
    "    'max_depth': [10,20]\n",
    "}\n",
    "catboost_model = CatBoostRegressor(random_state=42,silent=True)\n"
   ]
  },
  {
   "cell_type": "code",
   "execution_count": 41,
   "metadata": {},
   "outputs": [
    {
     "name": "stderr",
     "output_type": "stream",
     "text": [
      "C:\\Users\\User\\AppData\\Roaming\\Python\\Python38\\site-packages\\sklearn\\model_selection\\_search.py:918: UserWarning: One or more of the test scores are non-finite: [-2637.64626575            nan -1804.20049698            nan\n",
      " -1700.47213808            nan]\n",
      "  warnings.warn(\n"
     ]
    }
   ],
   "source": [
    "CatBoost = best_model(catboost_model, catboost_params, features_train, target_train, features_test, target_test)"
   ]
  },
  {
   "cell_type": "markdown",
   "metadata": {},
   "source": [
    "Обучим RandomForest модель"
   ]
  },
  {
   "cell_type": "code",
   "execution_count": 42,
   "metadata": {},
   "outputs": [],
   "source": [
    "RF_model = RandomForestRegressor(random_state=42)\n",
    "forestregressor_params = {'n_estimators':range(10, 51, 10),\n",
    "             'max_depth':range (1,10)}"
   ]
  },
  {
   "cell_type": "code",
   "execution_count": 43,
   "metadata": {},
   "outputs": [],
   "source": [
    "RandomForest = best_model(RF_model, forestregressor_params, features_train, target_train, features_test, target_test)"
   ]
  },
  {
   "cell_type": "markdown",
   "metadata": {},
   "source": [
    "Обучим DecisionTree модель"
   ]
  },
  {
   "cell_type": "code",
   "execution_count": 46,
   "metadata": {},
   "outputs": [],
   "source": [
    "DT_model = DecisionTreeRegressor(random_state=42)\n",
    "treeregressor_params = {'max_depth':range (1,10)}\n",
    "DecisionTrees = best_model(DT_model, treeregressor_params, features_train, target_train, features_test, target_test)"
   ]
  },
  {
   "cell_type": "markdown",
   "metadata": {},
   "source": [
    "Обучим константную модель"
   ]
  },
  {
   "cell_type": "code",
   "execution_count": 47,
   "metadata": {},
   "outputs": [],
   "source": [
    "constant_model = DummyRegressor(strategy='mean')"
   ]
  },
  {
   "cell_type": "code",
   "execution_count": 48,
   "metadata": {},
   "outputs": [
    {
     "data": {
      "text/plain": [
       "4620.618257647878"
      ]
     },
     "execution_count": 48,
     "metadata": {},
     "output_type": "execute_result"
    }
   ],
   "source": [
    "constant_model.fit(features_train,target_train)\n",
    "constant_pred = constant_model.predict(features_test)\n",
    "RMSE(target_test,constant_pred)"
   ]
  },
  {
   "cell_type": "code",
   "execution_count": 49,
   "metadata": {},
   "outputs": [],
   "source": [
    "Models = pd.DataFrame([lasso, lgbm, CatBoost, RandomForest, DecisionTrees], \n",
    "             columns=['Время обучения', 'Время предсказания', 'RMSE'], \n",
    "                      index=['Lasso','LGBM','CatBoost', 'RandomForest', 'DecisionTrees'])"
   ]
  },
  {
   "cell_type": "code",
   "execution_count": 50,
   "metadata": {},
   "outputs": [
    {
     "data": {
      "text/html": [
       "<div>\n",
       "<style scoped>\n",
       "    .dataframe tbody tr th:only-of-type {\n",
       "        vertical-align: middle;\n",
       "    }\n",
       "\n",
       "    .dataframe tbody tr th {\n",
       "        vertical-align: top;\n",
       "    }\n",
       "\n",
       "    .dataframe thead th {\n",
       "        text-align: right;\n",
       "    }\n",
       "</style>\n",
       "<table border=\"1\" class=\"dataframe\">\n",
       "  <thead>\n",
       "    <tr style=\"text-align: right;\">\n",
       "      <th></th>\n",
       "      <th>Время обучения</th>\n",
       "      <th>Время предсказания</th>\n",
       "      <th>RMSE</th>\n",
       "    </tr>\n",
       "  </thead>\n",
       "  <tbody>\n",
       "    <tr>\n",
       "      <th>Lasso</th>\n",
       "      <td>10.959654</td>\n",
       "      <td>0.001995</td>\n",
       "      <td>2980.673296</td>\n",
       "    </tr>\n",
       "    <tr>\n",
       "      <th>LGBM</th>\n",
       "      <td>25.132922</td>\n",
       "      <td>0.128980</td>\n",
       "      <td>1696.444768</td>\n",
       "    </tr>\n",
       "    <tr>\n",
       "      <th>CatBoost</th>\n",
       "      <td>31.032047</td>\n",
       "      <td>0.025995</td>\n",
       "      <td>1694.089497</td>\n",
       "    </tr>\n",
       "    <tr>\n",
       "      <th>RandomForest</th>\n",
       "      <td>420.049995</td>\n",
       "      <td>0.296252</td>\n",
       "      <td>2049.163253</td>\n",
       "    </tr>\n",
       "    <tr>\n",
       "      <th>DecisionTrees</th>\n",
       "      <td>13.467626</td>\n",
       "      <td>0.007975</td>\n",
       "      <td>2202.578208</td>\n",
       "    </tr>\n",
       "  </tbody>\n",
       "</table>\n",
       "</div>"
      ],
      "text/plain": [
       "               Время обучения  Время предсказания         RMSE\n",
       "Lasso               10.959654            0.001995  2980.673296\n",
       "LGBM                25.132922            0.128980  1696.444768\n",
       "CatBoost            31.032047            0.025995  1694.089497\n",
       "RandomForest       420.049995            0.296252  2049.163253\n",
       "DecisionTrees       13.467626            0.007975  2202.578208"
      ]
     },
     "execution_count": 50,
     "metadata": {},
     "output_type": "execute_result"
    }
   ],
   "source": [
    "Models"
   ]
  },
  {
   "cell_type": "markdown",
   "metadata": {},
   "source": [
    "<b><font size=5>Общий вывод</font></b><a name=\"5.\"></a>\n",
    "[<font size=\"2\">(к содержанию)</font>](#to_content.)"
   ]
  },
  {
   "cell_type": "markdown",
   "metadata": {},
   "source": [
    "Итак, модели обучены. Исходя из таблице выше можно сделать вывод, что:\n",
    "1. Самое высокое качество предсказания у модели CatBoost\n",
    "2. Самое быстрое время обучения у модели Lasso, но при этом низкое качество \n",
    "3. Самое быстрое время предсказания у Lasso, но при этом низкое качество \n",
    "\n",
    "Исходя из таблицы, то по всем трём параметрам выигрывает CatBoost, хоть и время обучения у неё выше, чем у LGBM, но качество и скорость предсказания намного выше. Так что можно сделать вывод, что наилучшая модель для заказчика это CatBoost."
   ]
  }
 ],
 "metadata": {
  "kernelspec": {
   "display_name": "Python 3",
   "language": "python",
   "name": "python3"
  },
  "language_info": {
   "codemirror_mode": {
    "name": "ipython",
    "version": 3
   },
   "file_extension": ".py",
   "mimetype": "text/x-python",
   "name": "python",
   "nbconvert_exporter": "python",
   "pygments_lexer": "ipython3",
   "version": "3.8.3"
  },
  "toc": {
   "base_numbering": 1,
   "nav_menu": {},
   "number_sections": true,
   "sideBar": true,
   "skip_h1_title": true,
   "title_cell": "Table of Contents",
   "title_sidebar": "Contents",
   "toc_cell": false,
   "toc_position": {},
   "toc_section_display": true,
   "toc_window_display": false
  }
 },
 "nbformat": 4,
 "nbformat_minor": 4
}
